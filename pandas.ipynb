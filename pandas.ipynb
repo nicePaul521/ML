{
  "nbformat": 4,
  "nbformat_minor": 0,
  "metadata": {
    "colab": {
      "name": "pandas.ipynb",
      "version": "0.3.2",
      "provenance": [],
      "collapsed_sections": [],
      "include_colab_link": true
    },
    "kernelspec": {
      "name": "python3",
      "display_name": "Python 3"
    }
  },
  "cells": [
    {
      "cell_type": "markdown",
      "metadata": {
        "id": "view-in-github",
        "colab_type": "text"
      },
      "source": [
        "<a href=\"https://colab.research.google.com/github/nicePaul521/ML/blob/master/pandas.ipynb\" target=\"_parent\"><img src=\"https://colab.research.google.com/assets/colab-badge.svg\" alt=\"Open In Colab\"/></a>"
      ]
    },
    {
      "cell_type": "markdown",
      "metadata": {
        "id": "k0JdtNRsvW_c",
        "colab_type": "text"
      },
      "source": [
        "Pandas包含两种数据类型：series和dataframe,series是一种一维的数据结构，每一个元素都带有一个索引，与一维数组的含义相同，其中索引可以为数组或字符串\n",
        "\n",
        "!![image.png](data:image/png;base64,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)[series结构名称](https://)\n",
        "\n",
        "dataframe是一种二维数据结构，数据以表格形式存储，有对应的行和列"
      ]
    },
    {
      "cell_type": "markdown",
      "metadata": {
        "id": "-wDev9ufwlGj",
        "colab_type": "text"
      },
      "source": [
        "## 如何从列表数组字典创建series"
      ]
    },
    {
      "cell_type": "code",
      "metadata": {
        "id": "mW8fn0HtbWw4",
        "colab_type": "code",
        "outputId": "e50091e1-1dc2-4d3b-e4f5-ad06a8590c12",
        "colab": {
          "base_uri": "https://localhost:8080/",
          "height": 125
        }
      },
      "source": [
        "import pandas as pd\n",
        "import numpy as np\n",
        "\n",
        "mylist = list('abcdefghijklmnopqrstuvwxyz')#列表\n",
        "myarr = np.arange(26)#数组\n",
        "mydict = dict(zip(mylist,myarr))#字典\n",
        "\n",
        "#构建方法\n",
        "ser1 = pd.Series(mylist)\n",
        "ser2 = pd.Series(myarr)\n",
        "ser3 = pd.Series(mydict)\n",
        "\n",
        "print(ser3.head())"
      ],
      "execution_count": 1,
      "outputs": [
        {
          "output_type": "stream",
          "text": [
            "a    0\n",
            "b    1\n",
            "c    2\n",
            "d    3\n",
            "e    4\n",
            "dtype: int64\n"
          ],
          "name": "stdout"
        }
      ]
    },
    {
      "cell_type": "markdown",
      "metadata": {
        "id": "wckQpZ-lqrVd",
        "colab_type": "text"
      },
      "source": [
        "## 如何使series的索引转化为dataframe的列"
      ]
    },
    {
      "cell_type": "code",
      "metadata": {
        "id": "-WEen9FLs9aA",
        "colab_type": "code",
        "outputId": "343c100b-81f6-4bbb-e1e2-f5386d44ff9f",
        "colab": {
          "base_uri": "https://localhost:8080/",
          "height": 125
        }
      },
      "source": [
        "mylist = list('abcdefghijklmnopqrstuvwxyz')\n",
        "myarr = np.arange(26)\n",
        "mydict = dict(zip(mylist,myarr))\n",
        "ser = pd.Series(mydict)\n",
        "\n",
        "#series转换为dataframe\n",
        "df = ser.to_frame()\n",
        "df.reset_index(inplace=True)\n",
        "print(df.head())"
      ],
      "execution_count": 2,
      "outputs": [
        {
          "output_type": "stream",
          "text": [
            "  index  0\n",
            "0     a  0\n",
            "1     b  1\n",
            "2     c  2\n",
            "3     d  3\n",
            "4     e  4\n"
          ],
          "name": "stdout"
        }
      ]
    },
    {
      "cell_type": "markdown",
      "metadata": {
        "id": "LyIMfEGw3Eus",
        "colab_type": "text"
      },
      "source": [
        "## 如何结合多个series组成dataframe"
      ]
    },
    {
      "cell_type": "code",
      "metadata": {
        "id": "1FBcIEau3N7n",
        "colab_type": "code",
        "colab": {
          "base_uri": "https://localhost:8080/",
          "height": 125
        },
        "outputId": "e7960194-0423-465c-8225-a9d4acf19251"
      },
      "source": [
        "#构建series1\n",
        "ser1 = pd.Series(list('abcdefghijklmnopqrstuvwxyz'))\n",
        "#构建series2\n",
        "ser2 = pd.Series(np.arange(26))\n",
        "\n",
        "#方法一，axis=1表示列拼接，0表示行拼接\n",
        "df = pd.concat([ser1,ser2],axis=1)\n",
        "\n",
        "#与方法1相比，方法2设置了列名\n",
        "df = pd.DataFrame({'col1':ser1,'col2':ser2})\n",
        "print(df.head())"
      ],
      "execution_count": 3,
      "outputs": [
        {
          "output_type": "stream",
          "text": [
            "  col1  col2\n",
            "0    a     0\n",
            "1    b     1\n",
            "2    c     2\n",
            "3    d     3\n",
            "4    e     4\n"
          ],
          "name": "stdout"
        }
      ]
    },
    {
      "cell_type": "markdown",
      "metadata": {
        "id": "QcvaKxF2VHE7",
        "colab_type": "text"
      },
      "source": [
        "## 如何命名列索引的名称"
      ]
    },
    {
      "cell_type": "code",
      "metadata": {
        "id": "XDA51XwSVP8v",
        "colab_type": "code",
        "colab": {
          "base_uri": "https://localhost:8080/",
          "height": 125
        },
        "outputId": "88fd5b30-abdf-49b6-dd2c-f7cc31cd940b"
      },
      "source": [
        "ser1.name = 'alpha'\n",
        "ser1.head()"
      ],
      "execution_count": 4,
      "outputs": [
        {
          "output_type": "execute_result",
          "data": {
            "text/plain": [
              "0    a\n",
              "1    b\n",
              "2    c\n",
              "3    d\n",
              "4    e\n",
              "Name: alpha, dtype: object"
            ]
          },
          "metadata": {
            "tags": []
          },
          "execution_count": 4
        }
      ]
    },
    {
      "cell_type": "markdown",
      "metadata": {
        "id": "iun_AXpcVaiy",
        "colab_type": "text"
      },
      "source": [
        "## 如何获得series对象A中不包含series对象B的元素"
      ]
    },
    {
      "cell_type": "code",
      "metadata": {
        "id": "ND3Q_eR-Voya",
        "colab_type": "code",
        "colab": {
          "base_uri": "https://localhost:8080/",
          "height": 89
        },
        "outputId": "3b39c382-e4a1-49b1-abde-b274b52c52bb"
      },
      "source": [
        "ser1 = pd.Series([1,2,3,4,5])\n",
        "ser2 = pd.Series([4,5,6,7,8])\n",
        "\n",
        "#返回ser1中不包含ser2的布尔型series\n",
        "ser3 = ~ser1.isin(ser2)\n",
        "#获取ser1不包含ser2的元素\n",
        "ser1[ser3]"
      ],
      "execution_count": 5,
      "outputs": [
        {
          "output_type": "execute_result",
          "data": {
            "text/plain": [
              "0    1\n",
              "1    2\n",
              "2    3\n",
              "dtype: int64"
            ]
          },
          "metadata": {
            "tags": []
          },
          "execution_count": 5
        }
      ]
    },
    {
      "cell_type": "markdown",
      "metadata": {
        "id": "fYBbDzsLWqYz",
        "colab_type": "text"
      },
      "source": [
        "## 如何让获得seriesA和seriesB不相同的项"
      ]
    },
    {
      "cell_type": "code",
      "metadata": {
        "id": "GTEDgD5XW8lL",
        "colab_type": "code",
        "colab": {
          "base_uri": "https://localhost:8080/",
          "height": 143
        },
        "outputId": "70fb0c56-7299-48fe-ed95-6611cb681049"
      },
      "source": [
        "ser1 = pd.Series([1,2,3,4,5])\n",
        "ser2 = pd.Series([4,5,6,7,8])\n",
        "\n",
        "#求ser1和ser2的并集\n",
        "ser_u = pd.Series(np.union1d(ser1,ser2))\n",
        "#求ser1和ser2的交集\n",
        "ser_i = pd.Series(np.intersect1d(ser1,ser2))\n",
        "#ser_i在ser_u的补集就是ser1和ser2不相同的项\n",
        "ser_u[~ser_u.isin(ser_i)]"
      ],
      "execution_count": 7,
      "outputs": [
        {
          "output_type": "execute_result",
          "data": {
            "text/plain": [
              "0    1\n",
              "1    2\n",
              "2    3\n",
              "5    6\n",
              "6    7\n",
              "7    8\n",
              "dtype: int64"
            ]
          },
          "metadata": {
            "tags": []
          },
          "execution_count": 7
        }
      ]
    },
    {
      "cell_type": "markdown",
      "metadata": {
        "id": "9khZcVVtbpzT",
        "colab_type": "text"
      },
      "source": [
        "## 如何获取数值series的四分位值"
      ]
    },
    {
      "cell_type": "code",
      "metadata": {
        "id": "YyKxh5rhbxqC",
        "colab_type": "code",
        "colab": {
          "base_uri": "https://localhost:8080/",
          "height": 35
        },
        "outputId": "2093efe3-4f72-4ea1-a460-7c1d65beb925"
      },
      "source": [
        "#设置随机数种子\n",
        "state = np.random.RandomState(100)\n",
        "#从均值为5标准差为25的正态分布随机抽取5个点构成series\n",
        "ser = pd.Series(state.normal(10,5,25))\n",
        "#求ser的4分位数\n",
        "np.percentile(ser,q=[0,25,50,75,100])"
      ],
      "execution_count": 8,
      "outputs": [
        {
          "output_type": "execute_result",
          "data": {
            "text/plain": [
              "array([ 1.25117263,  7.70986507, 10.92259345, 13.36360403, 18.0949083 ])"
            ]
          },
          "metadata": {
            "tags": []
          },
          "execution_count": 8
        }
      ]
    },
    {
      "cell_type": "markdown",
      "metadata": {
        "id": "Ku37LSUMpXmM",
        "colab_type": "text"
      },
      "source": [
        "## 如何获得series中单一项的频率计数"
      ]
    },
    {
      "cell_type": "code",
      "metadata": {
        "id": "kX1Q9nACpQWj",
        "colab_type": "code",
        "colab": {}
      },
      "source": [
        "#从0-7随机抽取30个列表值，组成series\n",
        "ser = pd.Series(np.take(list('abcdefg'),np.radom.randint(8,size=30)))\n",
        "#对该series进行计数\n",
        "ser.value_counts()"
      ],
      "execution_count": 0,
      "outputs": []
    },
    {
      "cell_type": "markdown",
      "metadata": {
        "id": "jZvepH9Us4f7",
        "colab_type": "text"
      },
      "source": [
        "## 如何保留series中前两个频次最多的项，其他项替换为‘other’"
      ]
    },
    {
      "cell_type": "code",
      "metadata": {
        "id": "Wbs34ywLtE-O",
        "colab_type": "code",
        "colab": {
          "base_uri": "https://localhost:8080/",
          "height": 251
        },
        "outputId": "7831d466-c230-460e-a97d-83b755a74b1c"
      },
      "source": [
        "np.random.RandomState(100)\n",
        "#从1-4中均匀采样12个点组成series\n",
        "ser = pd.Series(np.random.randint(1,5,[12]))\n",
        "#除前两行索引对应的值不变，后几行索引对应的值为other\n",
        "ser[~ser.isin(ser.value_counts().index[:2])] = 'Other'\n",
        "ser"
      ],
      "execution_count": 9,
      "outputs": [
        {
          "output_type": "execute_result",
          "data": {
            "text/plain": [
              "0         1\n",
              "1         1\n",
              "2         1\n",
              "3     Other\n",
              "4         2\n",
              "5         2\n",
              "6         2\n",
              "7         2\n",
              "8     Other\n",
              "9         1\n",
              "10    Other\n",
              "11        2\n",
              "dtype: object"
            ]
          },
          "metadata": {
            "tags": []
          },
          "execution_count": 9
        }
      ]
    }
  ]
}