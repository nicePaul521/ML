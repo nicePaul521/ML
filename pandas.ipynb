<<<<<<< HEAD
{"cells":[{"cell_type":"markdown","metadata":{"colab_type":"text","id":"view-in-github"},"source":["<a href=\"https://colab.research.google.com/github/nicePaul521/ML/blob/master/pandas.ipynb\" target=\"_parent\"><img src=\"https://colab.research.google.com/assets/colab-badge.svg\" alt=\"Open In Colab\"/></a>"]},{"cell_type":"markdown","metadata":{"colab_type":"text","id":"k0JdtNRsvW_c"},"source":"Pandas包含两种数据类型：series和dataframe,series是一种一维的数据结构，每一个元素都带有一个索引，与一维数组的含义相同，其中索引可以为数组或字符串\ndataframe是一种二维数据结构，数据以表格形式存储，有对应的行和列"},{"cell_type":"markdown","metadata":{"colab_type":"text","id":"-wDev9ufwlGj"},"source":["## 如何从列表数组字典创建series"]},{"cell_type":"code","execution_count":1,"metadata":{"colab":{"base_uri":"https://localhost:8080/","height":125},"colab_type":"code","id":"mW8fn0HtbWw4","outputId":"e50091e1-1dc2-4d3b-e4f5-ad06a8590c12"},"outputs":[{"name":"stdout","output_type":"stream","text":["a    0\n","b    1\n","c    2\n","d    3\n","e    4\n","dtype: int64\n"]}],"source":"import pandas as pd\nimport numpy as np\n\nmylist = list('abcdefghijklmnopqrstuvwxyz')#列表\nmyarr = np.arange(26)#数组\nmydict = dict(zip(mylist,myarr))#字典\n\n#构建方法\nser1 = pd.Series(mylist)\nser2 = pd.Series(myarr)\nser3 = pd.Series(mydict)\n\nprint(ser3.head())"},{"cell_type":"markdown","metadata":{"colab_type":"text","id":"wckQpZ-lqrVd"},"source":["## 如何使series的索引转化为dataframe的列"]},{"cell_type":"code","execution_count":2,"metadata":{"colab":{"base_uri":"https://localhost:8080/","height":125},"colab_type":"code","id":"-WEen9FLs9aA","outputId":"343c100b-81f6-4bbb-e1e2-f5386d44ff9f"},"outputs":[{"name":"stdout","output_type":"stream","text":["  index  0\n","0     a  0\n","1     b  1\n","2     c  2\n","3     d  3\n","4     e  4\n"]}],"source":"mylist = list('abcdefghijklmnopqrstuvwxyz')\nmyarr = np.arange(26)\nmydict = dict(zip(mylist,myarr))\nser = pd.Series(mydict)\n\n#series转换为dataframe\ndf = ser.to_frame()\ndf.reset_index(inplace=True)\nprint(df.head())"},{"cell_type":"markdown","metadata":{"colab_type":"text","id":"LyIMfEGw3Eus"},"source":["## 如何结合多个series组成dataframe"]},{"cell_type":"code","execution_count":3,"metadata":{"colab":{"base_uri":"https://localhost:8080/","height":125},"colab_type":"code","id":"1FBcIEau3N7n","outputId":"e7960194-0423-465c-8225-a9d4acf19251"},"outputs":[{"name":"stdout","output_type":"stream","text":["  col1  col2\n","0    a     0\n","1    b     1\n","2    c     2\n","3    d     3\n","4    e     4\n"]}],"source":"#构建series1\nser1 = pd.Series(list('abcdefghijklmnopqrstuvwxyz'))\n#构建series2\nser2 = pd.Series(np.arange(26))\n\n#方法一，axis=1表示列拼接，0表示行拼接\ndf = pd.concat([ser1,ser2],axis=1)\n\n#与方法1相比，方法2设置了列名\ndf = pd.DataFrame({'col1':ser1,'col2':ser2})\nprint(df.head())"},{"cell_type":"markdown","metadata":{"colab_type":"text","id":"QcvaKxF2VHE7"},"source":["## 如何命名列索引的名称"]},{"cell_type":"code","execution_count":4,"metadata":{"colab":{"base_uri":"https://localhost:8080/","height":125},"colab_type":"code","id":"XDA51XwSVP8v","outputId":"88fd5b30-abdf-49b6-dd2c-f7cc31cd940b"},"outputs":[{"data":{"text/plain":["0    a\n","1    b\n","2    c\n","3    d\n","4    e\n","Name: alpha, dtype: object"]},"execution_count":4,"metadata":{"tags":[]},"output_type":"execute_result"}],"source":"ser1.name = 'alpha'\nser1.head()"},{"cell_type":"markdown","metadata":{"colab_type":"text","id":"iun_AXpcVaiy"},"source":["## 如何获得series对象A中不包含series对象B的元素"]},{"cell_type":"code","execution_count":5,"metadata":{"colab":{"base_uri":"https://localhost:8080/","height":89},"colab_type":"code","id":"ND3Q_eR-Voya","outputId":"3b39c382-e4a1-49b1-abde-b274b52c52bb"},"outputs":[{"data":{"text/plain":["0    1\n","1    2\n","2    3\n","dtype: int64"]},"execution_count":5,"metadata":{"tags":[]},"output_type":"execute_result"}],"source":"ser1 = pd.Series([1,2,3,4,5])\nser2 = pd.Series([4,5,6,7,8])\n\n#返回ser1中不包含ser2的布尔型series\nser3 = ~ser1.isin(ser2)\n#获取ser1不包含ser2的元素\nser1[ser3]"},{"cell_type":"markdown","metadata":{"colab_type":"text","id":"fYBbDzsLWqYz"},"source":["## 如何让获得seriesA和seriesB不相同的项"]},{"cell_type":"code","execution_count":7,"metadata":{"colab":{"base_uri":"https://localhost:8080/","height":143},"colab_type":"code","id":"GTEDgD5XW8lL","outputId":"70fb0c56-7299-48fe-ed95-6611cb681049"},"outputs":[{"data":{"text/plain":["0    1\n","1    2\n","2    3\n","5    6\n","6    7\n","7    8\n","dtype: int64"]},"execution_count":7,"metadata":{"tags":[]},"output_type":"execute_result"}],"source":"ser1 = pd.Series([1,2,3,4,5])\nser2 = pd.Series([4,5,6,7,8])\n\n#求ser1和ser2的并集\nser_u = pd.Series(np.union1d(ser1,ser2))\n#求ser1和ser2的交集\nser_i = pd.Series(np.intersect1d(ser1,ser2))\n#ser_i在ser_u的补集就是ser1和ser2不相同的项\nser_u[~ser_u.isin(ser_i)]"},{"cell_type":"markdown","metadata":{"colab_type":"text","id":"9khZcVVtbpzT"},"source":["## 如何获取数值series的四分位值"]},{"cell_type":"code","execution_count":8,"metadata":{"colab":{"base_uri":"https://localhost:8080/","height":35},"colab_type":"code","id":"YyKxh5rhbxqC","outputId":"2093efe3-4f72-4ea1-a460-7c1d65beb925"},"outputs":[{"data":{"text/plain":["array([ 1.25117263,  7.70986507, 10.92259345, 13.36360403, 18.0949083 ])"]},"execution_count":8,"metadata":{"tags":[]},"output_type":"execute_result"}],"source":"#设置随机数种子\nstate = np.random.RandomState(100)\n#从均值为5标准差为25的正态分布随机抽取5个点构成series\nser = pd.Series(state.normal(10,5,25))\n#求ser的4分位数\nnp.percentile(ser,q=[0,25,50,75,100])"},{"cell_type":"markdown","metadata":{"colab_type":"text","id":"Ku37LSUMpXmM"},"source":["## 如何获得series中单一项的频率计数"]},{"cell_type":"code","execution_count":0,"metadata":{"colab":{},"colab_type":"code","id":"kX1Q9nACpQWj"},"outputs":[],"source":"#从0-7随机抽取30个列表值，组成series\nser = pd.Series(np.take(list('abcdefg'),np.radom.randint(8,size=30)))\n#对该series进行计数\nser.value_counts()"},{"cell_type":"markdown","metadata":{"colab_type":"text","id":"jZvepH9Us4f7"},"source":["## 如何保留series中前两个频次最多的项，其他项替换为‘other’"]},{"cell_type":"code","execution_count":9,"metadata":{"colab":{"base_uri":"https://localhost:8080/","height":251},"colab_type":"code","id":"Wbs34ywLtE-O","outputId":"7831d466-c230-460e-a97d-83b755a74b1c"},"outputs":[{"data":{"text/plain":["0         1\n","1         1\n","2         1\n","3     Other\n","4         2\n","5         2\n","6         2\n","7         2\n","8     Other\n","9         1\n","10    Other\n","11        2\n","dtype: object"]},"execution_count":9,"metadata":{"tags":[]},"output_type":"execute_result"}],"source":"np.random.RandomState(100)\n#从1-4中均匀采样12个点组成series\nser = pd.Series(np.random.randint(1,5,[12]))\n#除前两行索引对应的值不变，后几行索引对应的值为other\nser[~ser.isin(ser.value_counts().index[:2])] = 'Other'\nser"}],"nbformat":4,"nbformat_minor":2,"metadata":{"language_info":{"name":"python","codemirror_mode":{"name":"ipython","version":3}},"orig_nbformat":2,"file_extension":".py","mimetype":"text/x-python","name":"python","npconvert_exporter":"python","pygments_lexer":"ipython3","version":3}}
=======
{
  "nbformat": 4,
  "nbformat_minor": 0,
  "metadata": {
    "colab": {
      "name": "pandas.ipynb",
      "provenance": [],
      "collapsed_sections": [],
      "include_colab_link": true
    },
    "kernelspec": {
      "name": "python3",
      "display_name": "Python 3"
    }
  },
  "cells": [
    {
      "cell_type": "markdown",
      "metadata": {
        "id": "view-in-github",
        "colab_type": "text"
      },
      "source": [
        "<a href=\"https://colab.research.google.com/github/nicePaul521/ML/blob/master/pandas.ipynb\" target=\"_parent\"><img src=\"https://colab.research.google.com/assets/colab-badge.svg\" alt=\"Open In Colab\"/></a>"
      ]
    },
    {
      "cell_type": "markdown",
      "metadata": {
        "id": "k0JdtNRsvW_c",
        "colab_type": "text"
      },
      "source": [
        "Pandas包含两种数据类型：series和dataframe,series是一种一维的数据结构，每一个元素都带有一个索引，与一维数组的含义相同，其中索引可以为数组或字符串\n",
        "\n",
        "!![image.png](data:image/png;base64,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)[series结构名称](https://)\n",
        "\n",
        "dataframe是一种二维数据结构，数据以表格形式存储，有对应的行和列"
      ]
    },
    {
      "cell_type": "markdown",
      "metadata": {
        "id": "-wDev9ufwlGj",
        "colab_type": "text"
      },
      "source": [
        "## 如何从列表数组字典创建series"
      ]
    },
    {
      "cell_type": "code",
      "metadata": {
        "id": "mW8fn0HtbWw4",
        "colab_type": "code",
        "outputId": "e50091e1-1dc2-4d3b-e4f5-ad06a8590c12",
        "colab": {
          "base_uri": "https://localhost:8080/",
          "height": 125
        }
      },
      "source": [
        "import pandas as pd\n",
        "import numpy as np\n",
        "\n",
        "mylist = list('abcdefghijklmnopqrstuvwxyz')#列表\n",
        "myarr = np.arange(26)#数组\n",
        "mydict = dict(zip(mylist,myarr))#字典\n",
        "\n",
        "#构建方法\n",
        "ser1 = pd.Series(mylist)\n",
        "ser2 = pd.Series(myarr)\n",
        "ser3 = pd.Series(mydict)\n",
        "\n",
        "print(ser3.head())"
      ],
      "execution_count": 0,
      "outputs": [
        {
          "output_type": "stream",
          "text": [
            "a    0\n",
            "b    1\n",
            "c    2\n",
            "d    3\n",
            "e    4\n",
            "dtype: int64\n"
          ],
          "name": "stdout"
        }
      ]
    },
    {
      "cell_type": "markdown",
      "metadata": {
        "id": "wckQpZ-lqrVd",
        "colab_type": "text"
      },
      "source": [
        "## 如何使series的索引转化为dataframe的列"
      ]
    },
    {
      "cell_type": "code",
      "metadata": {
        "id": "-WEen9FLs9aA",
        "colab_type": "code",
        "outputId": "343c100b-81f6-4bbb-e1e2-f5386d44ff9f",
        "colab": {
          "base_uri": "https://localhost:8080/",
          "height": 125
        }
      },
      "source": [
        "mylist = list('abcdefghijklmnopqrstuvwxyz')\n",
        "myarr = np.arange(26)\n",
        "mydict = dict(zip(mylist,myarr))\n",
        "ser = pd.Series(mydict)\n",
        "\n",
        "#series转换为dataframe\n",
        "df = ser.to_frame()\n",
        "df.reset_index(inplace=True)\n",
        "print(df.head())"
      ],
      "execution_count": 0,
      "outputs": [
        {
          "output_type": "stream",
          "text": [
            "  index  0\n",
            "0     a  0\n",
            "1     b  1\n",
            "2     c  2\n",
            "3     d  3\n",
            "4     e  4\n"
          ],
          "name": "stdout"
        }
      ]
    },
    {
      "cell_type": "markdown",
      "metadata": {
        "id": "LyIMfEGw3Eus",
        "colab_type": "text"
      },
      "source": [
        "## 如何结合多个series组成dataframe"
      ]
    },
    {
      "cell_type": "code",
      "metadata": {
        "id": "1FBcIEau3N7n",
        "colab_type": "code",
        "outputId": "e7960194-0423-465c-8225-a9d4acf19251",
        "colab": {
          "base_uri": "https://localhost:8080/",
          "height": 125
        }
      },
      "source": [
        "#构建series1\n",
        "ser1 = pd.Series(list('abcdefghijklmnopqrstuvwxyz'))\n",
        "#构建series2\n",
        "ser2 = pd.Series(np.arange(26))\n",
        "\n",
        "#方法一，axis=1表示列拼接，0表示行拼接\n",
        "df = pd.concat([ser1,ser2],axis=1)\n",
        "\n",
        "#与方法1相比，方法2设置了列名\n",
        "df = pd.DataFrame({'col1':ser1,'col2':ser2})\n",
        "print(df.head())"
      ],
      "execution_count": 0,
      "outputs": [
        {
          "output_type": "stream",
          "text": [
            "  col1  col2\n",
            "0    a     0\n",
            "1    b     1\n",
            "2    c     2\n",
            "3    d     3\n",
            "4    e     4\n"
          ],
          "name": "stdout"
        }
      ]
    },
    {
      "cell_type": "markdown",
      "metadata": {
        "id": "QcvaKxF2VHE7",
        "colab_type": "text"
      },
      "source": [
        "## 如何命名列索引的名称"
      ]
    },
    {
      "cell_type": "code",
      "metadata": {
        "id": "XDA51XwSVP8v",
        "colab_type": "code",
        "outputId": "88fd5b30-abdf-49b6-dd2c-f7cc31cd940b",
        "colab": {
          "base_uri": "https://localhost:8080/",
          "height": 125
        }
      },
      "source": [
        "ser1.name = 'alpha'\n",
        "ser1.head()"
      ],
      "execution_count": 0,
      "outputs": [
        {
          "output_type": "execute_result",
          "data": {
            "text/plain": [
              "0    a\n",
              "1    b\n",
              "2    c\n",
              "3    d\n",
              "4    e\n",
              "Name: alpha, dtype: object"
            ]
          },
          "metadata": {
            "tags": []
          },
          "execution_count": 4
        }
      ]
    },
    {
      "cell_type": "markdown",
      "metadata": {
        "id": "iun_AXpcVaiy",
        "colab_type": "text"
      },
      "source": [
        "## 如何获得series对象A中不包含series对象B的元素"
      ]
    },
    {
      "cell_type": "code",
      "metadata": {
        "id": "ND3Q_eR-Voya",
        "colab_type": "code",
        "outputId": "3b39c382-e4a1-49b1-abde-b274b52c52bb",
        "colab": {
          "base_uri": "https://localhost:8080/",
          "height": 89
        }
      },
      "source": [
        "ser1 = pd.Series([1,2,3,4,5])\n",
        "ser2 = pd.Series([4,5,6,7,8])\n",
        "\n",
        "#返回ser1中不包含ser2的布尔型series\n",
        "ser3 = ~ser1.isin(ser2)\n",
        "#获取ser1不包含ser2的元素\n",
        "ser1[ser3]"
      ],
      "execution_count": 0,
      "outputs": [
        {
          "output_type": "execute_result",
          "data": {
            "text/plain": [
              "0    1\n",
              "1    2\n",
              "2    3\n",
              "dtype: int64"
            ]
          },
          "metadata": {
            "tags": []
          },
          "execution_count": 5
        }
      ]
    },
    {
      "cell_type": "markdown",
      "metadata": {
        "id": "fYBbDzsLWqYz",
        "colab_type": "text"
      },
      "source": [
        "## 如何让获得seriesA和seriesB不相同的项"
      ]
    },
    {
      "cell_type": "code",
      "metadata": {
        "id": "GTEDgD5XW8lL",
        "colab_type": "code",
        "outputId": "70fb0c56-7299-48fe-ed95-6611cb681049",
        "colab": {
          "base_uri": "https://localhost:8080/",
          "height": 143
        }
      },
      "source": [
        "ser1 = pd.Series([1,2,3,4,5])\n",
        "ser2 = pd.Series([4,5,6,7,8])\n",
        "\n",
        "#求ser1和ser2的并集\n",
        "ser_u = pd.Series(np.union1d(ser1,ser2))\n",
        "#求ser1和ser2的交集\n",
        "ser_i = pd.Series(np.intersect1d(ser1,ser2))\n",
        "#ser_i在ser_u的补集就是ser1和ser2不相同的项\n",
        "ser_u[~ser_u.isin(ser_i)]"
      ],
      "execution_count": 0,
      "outputs": [
        {
          "output_type": "execute_result",
          "data": {
            "text/plain": [
              "0    1\n",
              "1    2\n",
              "2    3\n",
              "5    6\n",
              "6    7\n",
              "7    8\n",
              "dtype: int64"
            ]
          },
          "metadata": {
            "tags": []
          },
          "execution_count": 7
        }
      ]
    },
    {
      "cell_type": "markdown",
      "metadata": {
        "id": "9khZcVVtbpzT",
        "colab_type": "text"
      },
      "source": [
        "## 如何获取数值series的四分位值"
      ]
    },
    {
      "cell_type": "code",
      "metadata": {
        "id": "YyKxh5rhbxqC",
        "colab_type": "code",
        "outputId": "2093efe3-4f72-4ea1-a460-7c1d65beb925",
        "colab": {
          "base_uri": "https://localhost:8080/",
          "height": 35
        }
      },
      "source": [
        "#设置随机数种子\n",
        "state = np.random.RandomState(100)\n",
        "#从均值为5标准差为25的正态分布随机抽取5个点构成series\n",
        "ser = pd.Series(state.normal(10,5,25))\n",
        "#求ser的4分位数\n",
        "np.percentile(ser,q=[0,25,50,75,100])"
      ],
      "execution_count": 0,
      "outputs": [
        {
          "output_type": "execute_result",
          "data": {
            "text/plain": [
              "array([ 1.25117263,  7.70986507, 10.92259345, 13.36360403, 18.0949083 ])"
            ]
          },
          "metadata": {
            "tags": []
          },
          "execution_count": 8
        }
      ]
    },
    {
      "cell_type": "markdown",
      "metadata": {
        "id": "Ku37LSUMpXmM",
        "colab_type": "text"
      },
      "source": [
        "## 如何获得series中单一项的频率计数"
      ]
    },
    {
      "cell_type": "code",
      "metadata": {
        "id": "kX1Q9nACpQWj",
        "colab_type": "code",
        "colab": {}
      },
      "source": [
        "#从0-7随机抽取30个列表值，组成series\n",
        "ser = pd.Series(np.take(list('abcdefg'),np.radom.randint(8,size=30)))\n",
        "#对该series进行计数\n",
        "ser.value_counts()"
      ],
      "execution_count": 0,
      "outputs": []
    },
    {
      "cell_type": "markdown",
      "metadata": {
        "id": "jZvepH9Us4f7",
        "colab_type": "text"
      },
      "source": [
        "## 如何保留series中前两个频次最多的项，其他项替换为‘other’"
      ]
    },
    {
      "cell_type": "code",
      "metadata": {
        "id": "Wbs34ywLtE-O",
        "colab_type": "code",
        "outputId": "7831d466-c230-460e-a97d-83b755a74b1c",
        "colab": {
          "base_uri": "https://localhost:8080/",
          "height": 251
        }
      },
      "source": [
        "np.random.RandomState(100)\n",
        "#从1-4中均匀采样12个点组成series\n",
        "ser = pd.Series(np.random.randint(1,5,[12]))\n",
        "#除前两行索引对应的值不变，后几行索引对应的值为other\n",
        "ser[~ser.isin(ser.value_counts().index[:2])] = 'Other'\n",
        "ser"
      ],
      "execution_count": 0,
      "outputs": [
        {
          "output_type": "execute_result",
          "data": {
            "text/plain": [
              "0         1\n",
              "1         1\n",
              "2         1\n",
              "3     Other\n",
              "4         2\n",
              "5         2\n",
              "6         2\n",
              "7         2\n",
              "8     Other\n",
              "9         1\n",
              "10    Other\n",
              "11        2\n",
              "dtype: object"
            ]
          },
          "metadata": {
            "tags": []
          },
          "execution_count": 9
        }
      ]
    },
    {
      "cell_type": "markdown",
      "metadata": {
        "id": "wtFpabTj-28i",
        "colab_type": "text"
      },
      "source": [
        "## 如何使numpy数组转化为给定形状的dataframe"
      ]
    },
    {
      "cell_type": "code",
      "metadata": {
        "id": "OX-n9oZS_NHv",
        "colab_type": "code",
        "outputId": "d4ef468e-fc3b-43e0-b62e-1e7980a89f2f",
        "colab": {
          "base_uri": "https://localhost:8080/",
          "height": 161
        }
      },
      "source": [
        "ser = pd.Series(np.random.randint(1,10,35))\n",
        "#serise类型转换为numpy类型，然后重构\n",
        "df = pd.DataFrame(ser.values.reshape(7,5))\n",
        "print(df)"
      ],
      "execution_count": 0,
      "outputs": [
        {
          "output_type": "stream",
          "text": [
            "   0  1  2  3  4\n",
            "0  5  4  9  7  1\n",
            "1  6  9  9  6  7\n",
            "2  4  2  2  8  3\n",
            "3  9  5  6  1  4\n",
            "4  3  2  6  9  3\n",
            "5  5  1  7  4  5\n",
            "6  5  5  3  8  5\n"
          ],
          "name": "stdout"
        }
      ]
    },
    {
      "cell_type": "markdown",
      "metadata": {
        "id": "97f0uRDfAIYc",
        "colab_type": "text"
      },
      "source": [
        "## 如何使用series的值使3的倍数的位置"
      ]
    },
    {
      "cell_type": "code",
      "metadata": {
        "id": "E5lwUiNTASVx",
        "colab_type": "code",
        "outputId": "67c43745-e1d7-441a-92a6-26dee799d956",
        "colab": {
          "base_uri": "https://localhost:8080/",
          "height": 307
        }
      },
      "source": [
        "ser = pd.Series(np.random.randint(1,10,7))\n",
        "print(ser)\n",
        "\n",
        "#获取位置是3倍数的索引\n",
        "print(np.argwhere(ser%3==0))\n",
        "ser[ser%3==0].values"
      ],
      "execution_count": 0,
      "outputs": [
        {
          "output_type": "stream",
          "text": [
            "0    8\n",
            "1    3\n",
            "2    6\n",
            "3    3\n",
            "4    1\n",
            "5    6\n",
            "6    1\n",
            "dtype: int64\n",
            "[[1]\n",
            " [2]\n",
            " [3]\n",
            " [5]]\n"
          ],
          "name": "stdout"
        },
        {
          "output_type": "stream",
          "text": [
            "/usr/local/lib/python3.6/dist-packages/numpy/core/fromnumeric.py:56: FutureWarning: Series.nonzero() is deprecated and will be removed in a future version.Use Series.to_numpy().nonzero() instead\n",
            "  return getattr(obj, method)(*args, **kwds)\n"
          ],
          "name": "stderr"
        },
        {
          "output_type": "execute_result",
          "data": {
            "text/plain": [
              "array([3, 6, 3, 6])"
            ]
          },
          "metadata": {
            "tags": []
          },
          "execution_count": 14
        }
      ]
    },
    {
      "cell_type": "markdown",
      "metadata": {
        "id": "oOsKRb-JCy2Z",
        "colab_type": "text"
      },
      "source": [
        "## 获取series中给定索引的元素（item）"
      ]
    },
    {
      "cell_type": "code",
      "metadata": {
        "id": "HrUIKEHSCv50",
        "colab_type": "code",
        "outputId": "22bfbb03-1951-4bc3-b497-f9468a4ef31e",
        "colab": {
          "base_uri": "https://localhost:8080/",
          "height": 125
        }
      },
      "source": [
        "ser = pd.Series(list('abcdefghijklmnopqrstuvwxyz'))\n",
        "index = [0,4,8,14,20]\n",
        "\n",
        "#获取指定索引的元素\n",
        "ser.take(index)"
      ],
      "execution_count": 0,
      "outputs": [
        {
          "output_type": "execute_result",
          "data": {
            "text/plain": [
              "0     a\n",
              "4     e\n",
              "8     i\n",
              "14    o\n",
              "20    u\n",
              "dtype: object"
            ]
          },
          "metadata": {
            "tags": []
          },
          "execution_count": 15
        }
      ]
    },
    {
      "cell_type": "markdown",
      "metadata": {
        "id": "qZeBMOEsDfB5",
        "colab_type": "text"
      },
      "source": [
        "## 如何垂直和水平的拼接series"
      ]
    },
    {
      "cell_type": "code",
      "metadata": {
        "id": "I5VzF9voDlrh",
        "colab_type": "code",
        "outputId": "1b170345-fecf-43cc-9206-561d98812347",
        "colab": {
          "base_uri": "https://localhost:8080/",
          "height": 125
        }
      },
      "source": [
        "ser1 = pd.Series(range(5))\n",
        "ser2 = pd.Series(list('abcde'))\n",
        "\n",
        "#垂直拼接\n",
        "df = pd.concat([ser1,ser2],axis=0)\n",
        "\n",
        "#水平拼接\n",
        "df = pd.concat([ser1,ser2],axis=1)\n",
        "print(df)"
      ],
      "execution_count": 0,
      "outputs": [
        {
          "output_type": "stream",
          "text": [
            "   0  1\n",
            "0  0  a\n",
            "1  1  b\n",
            "2  2  c\n",
            "3  3  d\n",
            "4  4  e\n"
          ],
          "name": "stdout"
        }
      ]
    },
    {
      "cell_type": "markdown",
      "metadata": {
        "id": "XLmSWJ4rEbFp",
        "colab_type": "text"
      },
      "source": [
        "## 如何获取series对象A中包含series对象B元素的位置"
      ]
    },
    {
      "cell_type": "code",
      "metadata": {
        "id": "GFjV75VNEwLj",
        "colab_type": "code",
        "outputId": "8b2be0bd-d388-4f38-afae-8efde0da48dc",
        "colab": {
          "base_uri": "https://localhost:8080/",
          "height": 35
        }
      },
      "source": [
        "#series1必须包含ser2，否则报错\n",
        "ser1 = pd.Series([10,9,6,5,3,1,12,8,13])\n",
        "ser2 = pd.Series([1,3,10,13])\n",
        "\n",
        "#方法1\n",
        "[np.where(i==ser1)[0].tolist()[0] for i in ser2]\n",
        "\n",
        "#方法2\n",
        "[pd.Index(ser1).get_loc(i) for i in ser2]"
      ],
      "execution_count": 0,
      "outputs": [
        {
          "output_type": "execute_result",
          "data": {
            "text/plain": [
              "[5, 4, 0, 8]"
            ]
          },
          "metadata": {
            "tags": []
          },
          "execution_count": 17
        }
      ]
    },
    {
      "cell_type": "markdown",
      "metadata": {
        "id": "GmonJl6dGiMo",
        "colab_type": "text"
      },
      "source": [
        "## 计算series之间的均方差"
      ]
    },
    {
      "cell_type": "code",
      "metadata": {
        "id": "th2r081OGscx",
        "colab_type": "code",
        "outputId": "28d2b006-cc6d-4c9b-fd45-9c09a6994be8",
        "colab": {
          "base_uri": "https://localhost:8080/",
          "height": 35
        }
      },
      "source": [
        "truth = pd.Series(range(10))\n",
        "pred = pd.Series(range(10))+np.random.random(10)\n",
        "\n",
        "#均方差\n",
        "np.mean((truth-pred)**2)"
      ],
      "execution_count": 0,
      "outputs": [
        {
          "output_type": "execute_result",
          "data": {
            "text/plain": [
              "0.4948139686583504"
            ]
          },
          "metadata": {
            "tags": []
          },
          "execution_count": 18
        }
      ]
    },
    {
      "cell_type": "markdown",
      "metadata": {
        "id": "gKLcpj96HWHM",
        "colab_type": "text"
      },
      "source": [
        "## 使series中每个元素的首字母为大写"
      ]
    },
    {
      "cell_type": "code",
      "metadata": {
        "id": "QQp4pnL5Hc7h",
        "colab_type": "code",
        "outputId": "15dffb35-17c0-4292-e612-7ade661c639e",
        "colab": {
          "base_uri": "https://localhost:8080/",
          "height": 107
        }
      },
      "source": [
        "ser = pd.Series(['how','to','kick','ass?'])\n",
        "\n",
        "#方法1\n",
        "ser.map(lambda x:x.title())\n",
        "\n",
        "#方法2，字符串相加\n",
        "ser.map(lambda x:x[0].upper()+x[1:])\n",
        "#方法3\n",
        "pd.Series([i.title() for i in ser])"
      ],
      "execution_count": 0,
      "outputs": [
        {
          "output_type": "execute_result",
          "data": {
            "text/plain": [
              "0     How\n",
              "1      To\n",
              "2    Kick\n",
              "3    Ass?\n",
              "dtype: object"
            ]
          },
          "metadata": {
            "tags": []
          },
          "execution_count": 19
        }
      ]
    },
    {
      "cell_type": "markdown",
      "metadata": {
        "id": "HAbSxc2IJ91h",
        "colab_type": "text"
      },
      "source": [
        "## 计算series中每个元素的字符串长度"
      ]
    },
    {
      "cell_type": "code",
      "metadata": {
        "id": "sSN5tGJ1KGcN",
        "colab_type": "code",
        "outputId": "6c34e7e0-ca60-4c6a-96df-dd07bc978989",
        "colab": {
          "base_uri": "https://localhost:8080/",
          "height": 107
        }
      },
      "source": [
        "ser.map(lambda x:len(x))"
      ],
      "execution_count": 0,
      "outputs": [
        {
          "output_type": "execute_result",
          "data": {
            "text/plain": [
              "0    3\n",
              "1    2\n",
              "2    4\n",
              "3    4\n",
              "dtype: int64"
            ]
          },
          "metadata": {
            "tags": []
          },
          "execution_count": 20
        }
      ]
    },
    {
      "cell_type": "markdown",
      "metadata": {
        "id": "XDymBcDVKVQh",
        "colab_type": "text"
      },
      "source": [
        "## 计算series的一阶导和二阶导"
      ]
    },
    {
      "cell_type": "code",
      "metadata": {
        "id": "0v-wnDStKeYS",
        "colab_type": "code",
        "outputId": "43f0ccff-a428-4ef2-bc43-117d53bfe4e1",
        "colab": {
          "base_uri": "https://localhost:8080/",
          "height": 53
        }
      },
      "source": [
        "ser = pd.Series([1,3,6,10,15,21,27,35])\n",
        "\n",
        "#求一阶导并转化为列表类型\n",
        "print(ser.diff().tolist())#比较各个元素与前一个元素的差值\n",
        "#求二阶导并转化为列表类型\n",
        "print(ser.diff().diff().tolist())"
      ],
      "execution_count": 0,
      "outputs": [
        {
          "output_type": "stream",
          "text": [
            "[nan, 2.0, 3.0, 4.0, 5.0, 6.0, 6.0, 8.0]\n",
            "[nan, nan, 1.0, 1.0, 1.0, 1.0, 0.0, 2.0]\n"
          ],
          "name": "stdout"
        }
      ]
    },
    {
      "cell_type": "markdown",
      "metadata": {
        "id": "juM4WwciP4YK",
        "colab_type": "text"
      },
      "source": [
        "## 将一系列日期字符串转换为timeseries"
      ]
    },
    {
      "cell_type": "code",
      "metadata": {
        "id": "lcZHKHBZQB65",
        "colab_type": "code",
        "outputId": "fb2c42a1-ef26-4164-ac10-a3060bb54d2e",
        "colab": {
          "base_uri": "https://localhost:8080/",
          "height": 143
        }
      },
      "source": [
        "ser = pd.Series(['01 Jan 2010','02-02-2011','20120303','2013/04/04','2014-05-05','2015-06-06T12:20'])\n",
        "pd.to_datetime(ser)"
      ],
      "execution_count": 0,
      "outputs": [
        {
          "output_type": "execute_result",
          "data": {
            "text/plain": [
              "0   2010-01-01 00:00:00\n",
              "1   2011-02-02 00:00:00\n",
              "2   2012-03-03 00:00:00\n",
              "3   2013-04-04 00:00:00\n",
              "4   2014-05-05 00:00:00\n",
              "5   2015-06-06 12:20:00\n",
              "dtype: datetime64[ns]"
            ]
          },
          "metadata": {
            "tags": []
          },
          "execution_count": 22
        }
      ]
    },
    {
      "cell_type": "markdown",
      "metadata": {
        "id": "BW-zM8VwRC3r",
        "colab_type": "text"
      },
      "source": [
        "## 计算根据另一个session分组后series的均值\n"
      ]
    },
    {
      "cell_type": "code",
      "metadata": {
        "id": "-3wM6T7dRoSB",
        "colab_type": "code",
        "outputId": "30142574-765a-456b-8fab-935ef4e852a0",
        "colab": {
          "base_uri": "https://localhost:8080/",
          "height": 107
        }
      },
      "source": [
        "fruit = pd.Series(np.random.choice(['apple','banana','carrot'],10))\n",
        "weights = pd.Series(np.linspace(1,10,10))\n",
        "\n",
        "#根据fruit对weight分组\n",
        "weightsGrouped = weights.groupby(fruit)\n",
        "print(weightsGrouped.indices)\n",
        "\n",
        "#对分组后series求每个索引的平均值\n",
        "weightsGrouped.mean()"
      ],
      "execution_count": 0,
      "outputs": [
        {
          "output_type": "stream",
          "text": [
            "{'apple': array([5, 9]), 'banana': array([2, 6, 7, 8]), 'carrot': array([0, 1, 3, 4])}\n"
          ],
          "name": "stdout"
        },
        {
          "output_type": "execute_result",
          "data": {
            "text/plain": [
              "apple     8.00\n",
              "banana    6.75\n",
              "carrot    3.00\n",
              "dtype: float64"
            ]
          },
          "metadata": {
            "tags": []
          },
          "execution_count": 24
        }
      ]
    },
    {
      "cell_type": "markdown",
      "metadata": {
        "id": "ZyxQ01T7UQmv",
        "colab_type": "text"
      },
      "source": [
        "## 计算两个series之间的欧式距离"
      ]
    },
    {
      "cell_type": "code",
      "metadata": {
        "id": "v-FCQ7VPUXvc",
        "colab_type": "code",
        "outputId": "62e0767b-c769-4d21-eb0d-7d0dc788fe26",
        "colab": {
          "base_uri": "https://localhost:8080/",
          "height": 35
        }
      },
      "source": [
        "p = pd.Series([1,2,3,4,5,6,7,8,9,10])\n",
        "q = pd.Series([10,9,8,7,6,5,4,3,2,1])\n",
        "\n",
        "#方法一\n",
        "sum((p-q)**2)**.5\n",
        "#方法二\n",
        "np.linalg.norm(p-q)"
      ],
      "execution_count": 0,
      "outputs": [
        {
          "output_type": "execute_result",
          "data": {
            "text/plain": [
              "18.16590212458495"
            ]
          },
          "metadata": {
            "tags": []
          },
          "execution_count": 26
        }
      ]
    },
    {
      "cell_type": "markdown",
      "metadata": {
        "id": "lSA9Y5Wqalw9",
        "colab_type": "text"
      },
      "source": [
        "## 在数值series中找局部最大值"
      ]
    },
    {
      "cell_type": "code",
      "metadata": {
        "id": "ZAs2VhdhavoR",
        "colab_type": "code",
        "outputId": "c470ab3d-b07c-4292-a1e8-efba537bcfe6",
        "colab": {
          "base_uri": "https://localhost:8080/",
          "height": 35
        }
      },
      "source": [
        "ser = pd.Series([2,10,3,4,9,10,2,7,3])\n",
        "\n",
        "#二阶导\n",
        "dd = np.diff(np.sign(np.diff(ser)))\n",
        "#二阶导的最小值对应的值为最大值，返回最大值的索引\n",
        "peak_locs = np.where(dd==-2)[0]+1\n",
        "peak_locs"
      ],
      "execution_count": 0,
      "outputs": [
        {
          "output_type": "execute_result",
          "data": {
            "text/plain": [
              "array([1, 5, 7])"
            ]
          },
          "metadata": {
            "tags": []
          },
          "execution_count": 27
        }
      ]
    },
    {
      "cell_type": "markdown",
      "metadata": {
        "id": "mdlUIHWxfHxE",
        "colab_type": "text"
      },
      "source": [
        "## 对series进行算数运算操作"
      ]
    },
    {
      "cell_type": "code",
      "metadata": {
        "id": "sLMYdp9ifbR2",
        "colab_type": "code",
        "outputId": "bd613eb0-6e96-41a4-bf83-1dfee3cbd54a",
        "colab": {
          "base_uri": "https://localhost:8080/",
          "height": 359
        }
      },
      "source": [
        "series1 = pd.Series([3,4,4,4],['index1','index2','index3','index4'])\n",
        "series2 = pd.Series([2,2,2,2],['index1','index2','index33','index44'])\n",
        "print(series1)\n",
        "\n",
        "#加法\n",
        "series_add = series1+series2\n",
        "print(series_add)\n",
        "#减法\n",
        "series_minus = series1-series2\n",
        "#乘法\n",
        "series_multi = series1*series2\n",
        "#除法\n",
        "series_div = series1/series2\n",
        "series_div"
      ],
      "execution_count": 0,
      "outputs": [
        {
          "output_type": "stream",
          "text": [
            "index1    3\n",
            "index2    4\n",
            "index3    4\n",
            "index4    4\n",
            "dtype: int64\n",
            "index1     5.0\n",
            "index2     6.0\n",
            "index3     NaN\n",
            "index33    NaN\n",
            "index4     NaN\n",
            "index44    NaN\n",
            "dtype: float64\n"
          ],
          "name": "stdout"
        },
        {
          "output_type": "execute_result",
          "data": {
            "text/plain": [
              "index1     1.5\n",
              "index2     2.0\n",
              "index3     NaN\n",
              "index33    NaN\n",
              "index4     NaN\n",
              "index44    NaN\n",
              "dtype: float64"
            ]
          },
          "metadata": {
            "tags": []
          },
          "execution_count": 29
        }
      ]
    },
    {
      "cell_type": "markdown",
      "metadata": {
        "id": "pvVJps8zCcCK",
        "colab_type": "text"
      },
      "source": [
        "## 如何从csv文件只读取前几行数据"
      ]
    },
    {
      "cell_type": "code",
      "metadata": {
        "id": "ROwFteaaClPz",
        "colab_type": "code",
        "outputId": "c28e58a6-64f1-4edf-9246-0640872329ae",
        "colab": {
          "base_uri": "https://localhost:8080/",
          "height": 111
        }
      },
      "source": [
        "#只读取前2行和指定列数据\n",
        "import pandas as pd\n",
        "df = pd.read_csv('https://raw.githubusercontent.com/selva86/datasets/master/Cars93_miss.csv',nrows=2,usecols=['Model','Length'])\n",
        "df"
      ],
      "execution_count": 1,
      "outputs": [
        {
          "output_type": "execute_result",
          "data": {
            "text/html": [
              "<div>\n",
              "<style scoped>\n",
              "    .dataframe tbody tr th:only-of-type {\n",
              "        vertical-align: middle;\n",
              "    }\n",
              "\n",
              "    .dataframe tbody tr th {\n",
              "        vertical-align: top;\n",
              "    }\n",
              "\n",
              "    .dataframe thead th {\n",
              "        text-align: right;\n",
              "    }\n",
              "</style>\n",
              "<table border=\"1\" class=\"dataframe\">\n",
              "  <thead>\n",
              "    <tr style=\"text-align: right;\">\n",
              "      <th></th>\n",
              "      <th>Model</th>\n",
              "      <th>Length</th>\n",
              "    </tr>\n",
              "  </thead>\n",
              "  <tbody>\n",
              "    <tr>\n",
              "      <th>0</th>\n",
              "      <td>Integra</td>\n",
              "      <td>177</td>\n",
              "    </tr>\n",
              "    <tr>\n",
              "      <th>1</th>\n",
              "      <td>Legend</td>\n",
              "      <td>195</td>\n",
              "    </tr>\n",
              "  </tbody>\n",
              "</table>\n",
              "</div>"
            ],
            "text/plain": [
              "     Model  Length\n",
              "0  Integra     177\n",
              "1   Legend     195"
            ]
          },
          "metadata": {
            "tags": []
          },
          "execution_count": 1
        }
      ]
    },
    {
      "cell_type": "markdown",
      "metadata": {
        "id": "tCUaaoH4F07B",
        "colab_type": "text"
      },
      "source": [
        "## 如何改变导入csv文件的列值"
      ]
    },
    {
      "cell_type": "code",
      "metadata": {
        "id": "-Zdb0eYSLtV3",
        "colab_type": "code",
        "outputId": "38cf491f-6c39-43a6-df30-306ec27f543c",
        "colab": {
          "base_uri": "https://localhost:8080/",
          "height": 161
        }
      },
      "source": [
        "#改变列名为'medv'的值，当列值<=25时，赋值为Low，反之为High\n",
        "#使用converters参数改变medv的值\n",
        "df = pd.read_csv('https://raw.githubusercontent.com/selva86/datasets/master/BostonHousing.csv',converters={'medv':lambda x:'High' if float(x)>25 else 'Low'})\n",
        "print(df.head())"
      ],
      "execution_count": 2,
      "outputs": [
        {
          "output_type": "stream",
          "text": [
            "      crim    zn  indus  chas    nox  ...  tax  ptratio       b  lstat  medv\n",
            "0  0.00632  18.0   2.31     0  0.538  ...  296     15.3  396.90   4.98   Low\n",
            "1  0.02731   0.0   7.07     0  0.469  ...  242     17.8  396.90   9.14   Low\n",
            "2  0.02729   0.0   7.07     0  0.469  ...  242     17.8  392.83   4.03  High\n",
            "3  0.03237   0.0   2.18     0  0.458  ...  222     18.7  394.63   2.94  High\n",
            "4  0.06905   0.0   2.18     0  0.458  ...  222     18.7  396.90   5.33  High\n",
            "\n",
            "[5 rows x 14 columns]\n"
          ],
          "name": "stdout"
        }
      ]
    },
    {
      "cell_type": "markdown",
      "metadata": {
        "id": "-8iGcNf7M4wh",
        "colab_type": "text"
      },
      "source": [
        "## 如何得到dataframe的行列，每一列的类型和相应的描述信息"
      ]
    },
    {
      "cell_type": "code",
      "metadata": {
        "id": "R58VQ210M4Yy",
        "colab_type": "code",
        "outputId": "c31827bb-0be6-493a-a39a-48a1e1e91bec",
        "colab": {
          "base_uri": "https://localhost:8080/",
          "height": 235
        }
      },
      "source": [
        "df = pd.read_csv('https://raw.githubusercontent.com/selva86/datasets/master/BostonHousing.csv')\n",
        "#打印dataframe的行列尺寸\n",
        "print(df.shape)\n",
        "#打印dataframe每列元素类型显示前5行\n",
        "print(df.dtypes.head())\n",
        "#统计各类型的数目\n",
        "print(df.get_dtype_counts())\n",
        "#描述每列的统计信息，如std，四分位等\n",
        "df_stats = df.describe\n",
        "#dataframe转化为数组\n",
        "df_arr = df.values\n",
        "#数组转化为列表\n",
        "df_list = df_arr.tolist()\n",
        "print(df_list)"
      ],
      "execution_count": 3,
      "outputs": [
        {
          "output_type": "stream",
          "text": [
            "(506, 14)\n",
            "crim     float64\n",
            "zn       float64\n",
            "indus    float64\n",
            "chas       int64\n",
            "nox      float64\n",
            "dtype: object\n",
            "float64    11\n",
            "int64       3\n",
            "dtype: int64\n",
            "[[0.00632, 18.0, 2.31, 0.0, 0.5379999999999999, 6.575, 65.2, 4.09, 1.0, 296.0, 15.3, 396.9, 4.98, 24.0], [0.02731, 0.0, 7.07, 0.0, 0.469, 6.421, 78.9, 4.9671, 2.0, 242.0, 17.8, 396.9, 9.14, 21.6], [0.02729, 0.0, 7.07, 0.0, 0.469, 7.185, 61.1, 4.9671, 2.0, 242.0, 17.8, 392.83, 4.03, 34.7], [0.032369999999999996, 0.0, 2.18, 0.0, 0.45799999999999996, 6.997999999999999, 45.8, 6.0622, 3.0, 222.0, 18.7, 394.63, 2.94, 33.4], [0.06905, 0.0, 2.18, 0.0, 0.45799999999999996, 7.147, 54.2, 6.0622, 3.0, 222.0, 18.7, 396.9, 5.33, 36.2], [0.02985, 0.0, 2.18, 0.0, 0.45799999999999996, 6.43, 58.7, 6.0622, 3.0, 222.0, 18.7, 394.12, 5.21, 28.7], [0.08829, 12.5, 7.87, 0.0, 0.524, 6.0120000000000005, 66.6, 5.5605, 5.0, 311.0, 15.2, 395.6, 12.43, 22.9], [0.14455, 12.5, 7.87, 0.0, 0.524, 6.172000000000001, 96.1, 5.9505, 5.0, 311.0, 15.2, 396.9, 19.15, 27.1], [0.21124, 12.5, 7.87, 0.0, 0.524, 5.631, 100.0, 6.0821, 5.0, 311.0, 15.2, 386.63, 29.93, 16.5], [0.17004, 12.5, 7.87, 0.0, 0.524, 6.004, 85.9, 6.5921, 5.0, 311.0, 15.2, 386.71, 17.1, 18.9], [0.22489, 12.5, 7.87, 0.0, 0.524, 6.377000000000001, 94.3, 6.3467, 5.0, 311.0, 15.2, 392.52, 20.45, 15.0], [0.11747, 12.5, 7.87, 0.0, 0.524, 6.0089999999999995, 82.9, 6.2267, 5.0, 311.0, 15.2, 396.9, 13.27, 18.9], [0.09378, 12.5, 7.87, 0.0, 0.524, 5.888999999999999, 39.0, 5.4509, 5.0, 311.0, 15.2, 390.5, 15.71, 21.7], [0.62976, 0.0, 8.14, 0.0, 0.5379999999999999, 5.949, 61.8, 4.7075, 4.0, 307.0, 21.0, 396.9, 8.26, 20.4], [0.6379600000000001, 0.0, 8.14, 0.0, 0.5379999999999999, 6.096, 84.5, 4.4619, 4.0, 307.0, 21.0, 380.02, 10.26, 18.2], [0.62739, 0.0, 8.14, 0.0, 0.5379999999999999, 5.834, 56.5, 4.4986, 4.0, 307.0, 21.0, 395.62, 8.47, 19.9], [1.05393, 0.0, 8.14, 0.0, 0.5379999999999999, 5.935, 29.3, 4.4986, 4.0, 307.0, 21.0, 386.85, 6.58, 23.1], [0.7842, 0.0, 8.14, 0.0, 0.5379999999999999, 5.99, 81.7, 4.2579, 4.0, 307.0, 21.0, 386.75, 14.67, 17.5], [0.80271, 0.0, 8.14, 0.0, 0.5379999999999999, 5.456, 36.6, 3.7965, 4.0, 307.0, 21.0, 288.99, 11.69, 20.2], [0.7258, 0.0, 8.14, 0.0, 0.5379999999999999, 5.727, 69.5, 3.7965, 4.0, 307.0, 21.0, 390.95, 11.28, 18.2], [1.25179, 0.0, 8.14, 0.0, 0.5379999999999999, 5.57, 98.1, 3.7979, 4.0, 307.0, 21.0, 376.57, 21.02, 13.6], [0.8520399999999999, 0.0, 8.14, 0.0, 0.5379999999999999, 5.965, 89.2, 4.0123, 4.0, 307.0, 21.0, 392.53, 13.83, 19.6], [1.2324700000000002, 0.0, 8.14, 0.0, 0.5379999999999999, 6.142, 91.7, 3.9769, 4.0, 307.0, 21.0, 396.9, 18.72, 15.2], [0.9884299999999999, 0.0, 8.14, 0.0, 0.5379999999999999, 5.813, 100.0, 4.0952, 4.0, 307.0, 21.0, 394.54, 19.88, 14.5], [0.75026, 0.0, 8.14, 0.0, 0.5379999999999999, 5.9239999999999995, 94.1, 4.3996, 4.0, 307.0, 21.0, 394.33, 16.3, 15.6], [0.84054, 0.0, 8.14, 0.0, 0.5379999999999999, 5.599, 85.7, 4.4546, 4.0, 307.0, 21.0, 303.42, 16.51, 13.9], [0.67191, 0.0, 8.14, 0.0, 0.5379999999999999, 5.813, 90.3, 4.6819999999999995, 4.0, 307.0, 21.0, 376.88, 14.81, 16.6], [0.9557700000000001, 0.0, 8.14, 0.0, 0.5379999999999999, 6.047000000000001, 88.8, 4.4534, 4.0, 307.0, 21.0, 306.38, 17.28, 14.8], [0.77299, 0.0, 8.14, 0.0, 0.5379999999999999, 6.495, 94.4, 4.4547, 4.0, 307.0, 21.0, 387.94, 12.8, 18.4], [1.00245, 0.0, 8.14, 0.0, 0.5379999999999999, 6.6739999999999995, 87.3, 4.239, 4.0, 307.0, 21.0, 380.23, 11.98, 21.0], [1.13081, 0.0, 8.14, 0.0, 0.5379999999999999, 5.712999999999999, 94.1, 4.2330000000000005, 4.0, 307.0, 21.0, 360.17, 22.6, 12.7], [1.3547200000000001, 0.0, 8.14, 0.0, 0.5379999999999999, 6.072, 100.0, 4.175, 4.0, 307.0, 21.0, 376.73, 13.04, 14.5], [1.38799, 0.0, 8.14, 0.0, 0.5379999999999999, 5.95, 82.0, 3.99, 4.0, 307.0, 21.0, 232.6, 27.71, 13.2], [1.15172, 0.0, 8.14, 0.0, 0.5379999999999999, 5.7010000000000005, 95.0, 3.7872, 4.0, 307.0, 21.0, 358.77, 18.35, 13.1], [1.6128200000000001, 0.0, 8.14, 0.0, 0.5379999999999999, 6.096, 96.9, 3.7598, 4.0, 307.0, 21.0, 248.31, 20.34, 13.5], [0.06417, 0.0, 5.96, 0.0, 0.499, 5.933, 68.2, 3.3603, 5.0, 279.0, 19.2, 396.9, 9.68, 18.9], [0.09744, 0.0, 5.96, 0.0, 0.499, 5.841, 61.4, 3.3779, 5.0, 279.0, 19.2, 377.56, 11.41, 20.0], [0.08014, 0.0, 5.96, 0.0, 0.499, 5.85, 41.5, 3.9342, 5.0, 279.0, 19.2, 396.9, 8.77, 21.0], [0.17505, 0.0, 5.96, 0.0, 0.499, 5.966, 30.2, 3.8473, 5.0, 279.0, 19.2, 393.43, 10.13, 24.7], [0.027630000000000002, 75.0, 2.95, 0.0, 0.428, 6.595, 21.8, 5.4011, 3.0, 252.0, 18.3, 395.63, 4.32, 30.8], [0.033589999999999995, 75.0, 2.95, 0.0, 0.428, 7.024, 15.8, 5.4011, 3.0, 252.0, 18.3, 395.62, 1.98, 34.9], [0.12744, 0.0, 6.91, 0.0, 0.44799999999999995, 6.77, 2.9, 5.7209, 3.0, 233.0, 17.9, 385.41, 4.84, 26.6], [0.1415, 0.0, 6.91, 0.0, 0.44799999999999995, 6.169, 6.6, 5.7209, 3.0, 233.0, 17.9, 383.37, 5.81, 25.3], [0.15936, 0.0, 6.91, 0.0, 0.44799999999999995, 6.211, 6.5, 5.7209, 3.0, 233.0, 17.9, 394.46, 7.44, 24.7], [0.12269000000000001, 0.0, 6.91, 0.0, 0.44799999999999995, 6.069, 40.0, 5.7209, 3.0, 233.0, 17.9, 389.39, 9.55, 21.2], [0.17142000000000002, 0.0, 6.91, 0.0, 0.44799999999999995, 5.682, 33.8, 5.1004, 3.0, 233.0, 17.9, 396.9, 10.21, 19.3], [0.18836, 0.0, 6.91, 0.0, 0.44799999999999995, 5.7860000000000005, 33.3, 5.1004, 3.0, 233.0, 17.9, 396.9, 14.15, 20.0], [0.22926999999999997, 0.0, 6.91, 0.0, 0.44799999999999995, 6.03, 85.5, 5.6894, 3.0, 233.0, 17.9, 392.74, 18.8, 16.6], [0.25387, 0.0, 6.91, 0.0, 0.44799999999999995, 5.399, 95.3, 5.87, 3.0, 233.0, 17.9, 396.9, 30.81, 14.4], [0.21977, 0.0, 6.91, 0.0, 0.44799999999999995, 5.602, 62.0, 6.0877, 3.0, 233.0, 17.9, 396.9, 16.2, 19.4], [0.08872999999999999, 21.0, 5.64, 0.0, 0.439, 5.962999999999999, 45.7, 6.8147, 4.0, 243.0, 16.8, 395.56, 13.45, 19.7], [0.04337, 21.0, 5.64, 0.0, 0.439, 6.115, 63.0, 6.8147, 4.0, 243.0, 16.8, 393.97, 9.43, 20.5], [0.0536, 21.0, 5.64, 0.0, 0.439, 6.511, 21.1, 6.8147, 4.0, 243.0, 16.8, 396.9, 5.28, 25.0], [0.04981, 21.0, 5.64, 0.0, 0.439, 5.997999999999999, 21.4, 6.8147, 4.0, 243.0, 16.8, 396.9, 8.43, 23.4], [0.0136, 75.0, 4.0, 0.0, 0.41, 5.888, 47.6, 7.3197, 3.0, 469.0, 21.1, 396.9, 14.8, 18.9], [0.01311, 90.0, 1.22, 0.0, 0.40299999999999997, 7.249, 21.9, 8.6966, 5.0, 226.0, 17.9, 395.93, 4.81, 35.4], [0.02055, 85.0, 0.74, 0.0, 0.41, 6.382999999999999, 35.7, 9.1876, 2.0, 313.0, 17.3, 396.9, 5.77, 24.7], [0.01432, 100.0, 1.32, 0.0, 0.41100000000000003, 6.816, 40.5, 8.3248, 5.0, 256.0, 15.1, 392.9, 3.95, 31.6], [0.15445, 25.0, 5.13, 0.0, 0.45299999999999996, 6.145, 29.2, 7.8148, 8.0, 284.0, 19.7, 390.68, 6.86, 23.3], [0.10328, 25.0, 5.13, 0.0, 0.45299999999999996, 5.9270000000000005, 47.2, 6.932, 8.0, 284.0, 19.7, 396.9, 9.22, 19.6], [0.14932, 25.0, 5.13, 0.0, 0.45299999999999996, 5.7410000000000005, 66.2, 7.2254, 8.0, 284.0, 19.7, 395.11, 13.15, 18.7], [0.17171, 25.0, 5.13, 0.0, 0.45299999999999996, 5.966, 93.4, 6.8185, 8.0, 284.0, 19.7, 378.08, 14.44, 16.0], [0.11027, 25.0, 5.13, 0.0, 0.45299999999999996, 6.456, 67.8, 7.2255, 8.0, 284.0, 19.7, 396.9, 6.73, 22.2], [0.1265, 25.0, 5.13, 0.0, 0.45299999999999996, 6.7620000000000005, 43.4, 7.9809, 8.0, 284.0, 19.7, 395.58, 9.5, 25.0], [0.01951, 17.5, 1.38, 0.0, 0.4161, 7.104, 59.5, 9.2229, 3.0, 216.0, 18.6, 393.24, 8.05, 33.0], [0.03584, 80.0, 3.37, 0.0, 0.39799999999999996, 6.29, 17.8, 6.6115, 4.0, 337.0, 16.1, 396.9, 4.67, 23.5], [0.043789999999999996, 80.0, 3.37, 0.0, 0.39799999999999996, 5.787000000000001, 31.1, 6.6115, 4.0, 337.0, 16.1, 396.9, 10.24, 19.4], [0.05789, 12.5, 6.07, 0.0, 0.409, 5.877999999999999, 21.4, 6.497999999999999, 4.0, 345.0, 18.9, 396.21, 8.1, 22.0], [0.13554000000000002, 12.5, 6.07, 0.0, 0.409, 5.593999999999999, 36.8, 6.497999999999999, 4.0, 345.0, 18.9, 396.9, 13.09, 17.4], [0.12816, 12.5, 6.07, 0.0, 0.409, 5.885, 33.0, 6.497999999999999, 4.0, 345.0, 18.9, 396.9, 8.79, 20.9], [0.08826, 0.0, 10.81, 0.0, 0.413, 6.417000000000001, 6.6, 5.2873, 4.0, 305.0, 19.2, 383.73, 6.72, 24.2], [0.15875999999999998, 0.0, 10.81, 0.0, 0.413, 5.961, 17.5, 5.2873, 4.0, 305.0, 19.2, 376.94, 9.88, 21.7], [0.09164, 0.0, 10.81, 0.0, 0.413, 6.065, 7.8, 5.2873, 4.0, 305.0, 19.2, 390.91, 5.52, 22.8], [0.19539, 0.0, 10.81, 0.0, 0.413, 6.245, 6.2, 5.2873, 4.0, 305.0, 19.2, 377.17, 7.54, 23.4], [0.07896, 0.0, 12.83, 0.0, 0.43700000000000006, 6.273, 6.0, 4.2515, 5.0, 398.0, 18.7, 394.92, 6.78, 24.1], [0.09512000000000001, 0.0, 12.83, 0.0, 0.43700000000000006, 6.2860000000000005, 45.0, 4.5026, 5.0, 398.0, 18.7, 383.23, 8.94, 21.4], [0.10153, 0.0, 12.83, 0.0, 0.43700000000000006, 6.279, 74.5, 4.0522, 5.0, 398.0, 18.7, 373.66, 11.97, 20.0], [0.08707000000000001, 0.0, 12.83, 0.0, 0.43700000000000006, 6.14, 45.8, 4.0905, 5.0, 398.0, 18.7, 386.96, 10.27, 20.8], [0.05646, 0.0, 12.83, 0.0, 0.43700000000000006, 6.232, 53.7, 5.0141, 5.0, 398.0, 18.7, 386.4, 12.34, 21.2], [0.08387, 0.0, 12.83, 0.0, 0.43700000000000006, 5.874, 36.6, 4.5026, 5.0, 398.0, 18.7, 396.06, 9.1, 20.3], [0.04113, 25.0, 4.86, 0.0, 0.426, 6.727, 33.5, 5.4007, 4.0, 281.0, 19.0, 396.9, 5.29, 28.0], [0.04462, 25.0, 4.86, 0.0, 0.426, 6.619, 70.4, 5.4007, 4.0, 281.0, 19.0, 395.63, 7.22, 23.9], [0.03659, 25.0, 4.86, 0.0, 0.426, 6.3020000000000005, 32.2, 5.4007, 4.0, 281.0, 19.0, 396.9, 6.72, 24.8], [0.03551, 25.0, 4.86, 0.0, 0.426, 6.167000000000001, 46.7, 5.4007, 4.0, 281.0, 19.0, 390.64, 7.51, 22.9], [0.050589999999999996, 0.0, 4.49, 0.0, 0.449, 6.388999999999999, 48.0, 4.7794, 3.0, 247.0, 18.5, 396.9, 9.62, 23.9], [0.05735, 0.0, 4.49, 0.0, 0.449, 6.63, 56.1, 4.4377, 3.0, 247.0, 18.5, 392.3, 6.53, 26.6], [0.051879999999999996, 0.0, 4.49, 0.0, 0.449, 6.015, 45.1, 4.4272, 3.0, 247.0, 18.5, 395.99, 12.86, 22.5], [0.07151, 0.0, 4.49, 0.0, 0.449, 6.121, 56.8, 3.7476, 3.0, 247.0, 18.5, 395.15, 8.44, 22.2], [0.0566, 0.0, 3.41, 0.0, 0.489, 7.007000000000001, 86.3, 3.4217, 2.0, 270.0, 17.8, 396.9, 5.5, 23.6], [0.053020000000000005, 0.0, 3.41, 0.0, 0.489, 7.079, 63.1, 3.4145, 2.0, 270.0, 17.8, 396.06, 5.7, 28.7], [0.04684, 0.0, 3.41, 0.0, 0.489, 6.417000000000001, 66.1, 3.0923, 2.0, 270.0, 17.8, 392.18, 8.81, 22.6], [0.03932, 0.0, 3.41, 0.0, 0.489, 6.405, 73.9, 3.0921, 2.0, 270.0, 17.8, 393.55, 8.2, 22.0], [0.04203, 28.0, 15.04, 0.0, 0.46399999999999997, 6.442, 53.6, 3.6659, 4.0, 270.0, 18.2, 395.01, 8.16, 22.9], [0.02875, 28.0, 15.04, 0.0, 0.46399999999999997, 6.211, 28.9, 3.6659, 4.0, 270.0, 18.2, 396.33, 6.21, 25.0], [0.04294, 28.0, 15.04, 0.0, 0.46399999999999997, 6.249, 77.3, 3.615, 4.0, 270.0, 18.2, 396.9, 10.59, 20.6], [0.12204000000000001, 0.0, 2.89, 0.0, 0.445, 6.625, 57.8, 3.4952, 2.0, 276.0, 18.0, 357.98, 6.65, 28.4], [0.11504, 0.0, 2.89, 0.0, 0.445, 6.162999999999999, 69.6, 3.4952, 2.0, 276.0, 18.0, 391.83, 11.34, 21.4], [0.12082999999999999, 0.0, 2.89, 0.0, 0.445, 8.068999999999999, 76.0, 3.4952, 2.0, 276.0, 18.0, 396.9, 4.21, 38.7], [0.08187, 0.0, 2.89, 0.0, 0.445, 7.82, 36.9, 3.4952, 2.0, 276.0, 18.0, 393.53, 3.57, 43.8], [0.0686, 0.0, 2.89, 0.0, 0.445, 7.416, 62.5, 3.4952, 2.0, 276.0, 18.0, 396.9, 6.19, 33.2], [0.14866, 0.0, 8.56, 0.0, 0.52, 6.727, 79.9, 2.7778, 5.0, 384.0, 20.9, 394.76, 9.42, 27.5], [0.11432, 0.0, 8.56, 0.0, 0.52, 6.781000000000001, 71.3, 2.8561, 5.0, 384.0, 20.9, 395.58, 7.67, 26.5], [0.22876, 0.0, 8.56, 0.0, 0.52, 6.405, 85.4, 2.7147, 5.0, 384.0, 20.9, 70.8, 10.63, 18.6], [0.21161, 0.0, 8.56, 0.0, 0.52, 6.1370000000000005, 87.4, 2.7147, 5.0, 384.0, 20.9, 394.47, 13.44, 19.3], [0.1396, 0.0, 8.56, 0.0, 0.52, 6.167000000000001, 90.0, 2.421, 5.0, 384.0, 20.9, 392.69, 12.33, 20.1], [0.13262000000000002, 0.0, 8.56, 0.0, 0.52, 5.851, 96.7, 2.1069, 5.0, 384.0, 20.9, 394.05, 16.47, 19.5], [0.1712, 0.0, 8.56, 0.0, 0.52, 5.836, 91.9, 2.211, 5.0, 384.0, 20.9, 395.67, 18.66, 19.5], [0.13117, 0.0, 8.56, 0.0, 0.52, 6.127000000000001, 85.2, 2.1224, 5.0, 384.0, 20.9, 387.69, 14.09, 20.4], [0.12802, 0.0, 8.56, 0.0, 0.52, 6.474, 97.1, 2.4329, 5.0, 384.0, 20.9, 395.24, 12.27, 19.8], [0.26363000000000003, 0.0, 8.56, 0.0, 0.52, 6.229, 91.2, 2.5451, 5.0, 384.0, 20.9, 391.23, 15.55, 19.4], [0.10793, 0.0, 8.56, 0.0, 0.52, 6.195, 54.4, 2.7778, 5.0, 384.0, 20.9, 393.49, 13.0, 21.7], [0.10084, 0.0, 10.01, 0.0, 0.547, 6.715, 81.6, 2.6775, 6.0, 432.0, 17.8, 395.59, 10.16, 22.8], [0.12329000000000001, 0.0, 10.01, 0.0, 0.547, 5.912999999999999, 92.9, 2.3534, 6.0, 432.0, 17.8, 394.95, 16.21, 18.8], [0.22211999999999998, 0.0, 10.01, 0.0, 0.547, 6.0920000000000005, 95.4, 2.548, 6.0, 432.0, 17.8, 396.9, 17.09, 18.7], [0.14231, 0.0, 10.01, 0.0, 0.547, 6.254, 84.2, 2.2565, 6.0, 432.0, 17.8, 388.74, 10.45, 18.5], [0.17134000000000002, 0.0, 10.01, 0.0, 0.547, 5.928, 88.2, 2.4631, 6.0, 432.0, 17.8, 344.91, 15.76, 18.3], [0.13158, 0.0, 10.01, 0.0, 0.547, 6.176, 72.5, 2.7301, 6.0, 432.0, 17.8, 393.3, 12.04, 21.2], [0.15098, 0.0, 10.01, 0.0, 0.547, 6.021, 82.6, 2.7474, 6.0, 432.0, 17.8, 394.51, 10.3, 19.2], [0.13058, 0.0, 10.01, 0.0, 0.547, 5.872000000000001, 73.1, 2.4775, 6.0, 432.0, 17.8, 338.63, 15.37, 20.4], [0.14476, 0.0, 10.01, 0.0, 0.547, 5.731, 65.2, 2.7592, 6.0, 432.0, 17.8, 391.5, 13.61, 19.3], [0.06899, 0.0, 25.65, 0.0, 0.581, 5.87, 69.7, 2.2577, 2.0, 188.0, 19.1, 389.15, 14.37, 22.0], [0.07165, 0.0, 25.65, 0.0, 0.581, 6.004, 84.1, 2.1974, 2.0, 188.0, 19.1, 377.67, 14.27, 20.3], [0.09299, 0.0, 25.65, 0.0, 0.581, 5.961, 92.9, 2.0869, 2.0, 188.0, 19.1, 378.09, 17.93, 20.5], [0.15037999999999999, 0.0, 25.65, 0.0, 0.581, 5.856, 97.0, 1.9444, 2.0, 188.0, 19.1, 370.31, 25.41, 17.3], [0.09849, 0.0, 25.65, 0.0, 0.581, 5.879, 95.8, 2.0063, 2.0, 188.0, 19.1, 379.38, 17.58, 18.8], [0.16902, 0.0, 25.65, 0.0, 0.581, 5.986000000000001, 88.4, 1.9929, 2.0, 188.0, 19.1, 385.02, 14.81, 21.4], [0.38735, 0.0, 25.65, 0.0, 0.581, 5.6129999999999995, 95.6, 1.7572, 2.0, 188.0, 19.1, 359.29, 27.26, 15.7], [0.25915, 0.0, 21.89, 0.0, 0.624, 5.693, 96.0, 1.7883, 4.0, 437.0, 21.2, 392.11, 17.19, 16.2], [0.32543, 0.0, 21.89, 0.0, 0.624, 6.431, 98.8, 1.8125, 4.0, 437.0, 21.2, 396.9, 15.39, 18.0], [0.88125, 0.0, 21.89, 0.0, 0.624, 5.6370000000000005, 94.7, 1.9799, 4.0, 437.0, 21.2, 396.9, 18.34, 14.3], [0.34006, 0.0, 21.89, 0.0, 0.624, 6.457999999999999, 98.9, 2.1185, 4.0, 437.0, 21.2, 395.04, 12.6, 19.2], [1.19294, 0.0, 21.89, 0.0, 0.624, 6.3260000000000005, 97.7, 2.271, 4.0, 437.0, 21.2, 396.9, 12.26, 19.6], [0.59005, 0.0, 21.89, 0.0, 0.624, 6.372000000000001, 97.9, 2.3274, 4.0, 437.0, 21.2, 385.76, 11.12, 23.0], [0.32982, 0.0, 21.89, 0.0, 0.624, 5.822, 95.4, 2.4699, 4.0, 437.0, 21.2, 388.69, 15.03, 18.4], [0.9761700000000001, 0.0, 21.89, 0.0, 0.624, 5.757000000000001, 98.4, 2.346, 4.0, 437.0, 21.2, 262.76, 17.31, 15.6], [0.55778, 0.0, 21.89, 0.0, 0.624, 6.335, 98.2, 2.1107, 4.0, 437.0, 21.2, 394.67, 16.96, 18.1], [0.32264, 0.0, 21.89, 0.0, 0.624, 5.942, 93.5, 1.9669, 4.0, 437.0, 21.2, 378.25, 16.9, 17.4], [0.35233000000000003, 0.0, 21.89, 0.0, 0.624, 6.454, 98.4, 1.8498, 4.0, 437.0, 21.2, 394.08, 14.59, 17.1], [0.2498, 0.0, 21.89, 0.0, 0.624, 5.857, 98.2, 1.6686, 4.0, 437.0, 21.2, 392.04, 21.32, 13.3], [0.54452, 0.0, 21.89, 0.0, 0.624, 6.151, 97.9, 1.6687, 4.0, 437.0, 21.2, 396.9, 18.46, 17.8], [0.2909, 0.0, 21.89, 0.0, 0.624, 6.1739999999999995, 93.6, 1.6119, 4.0, 437.0, 21.2, 388.08, 24.16, 14.0], [1.6286399999999999, 0.0, 21.89, 0.0, 0.624, 5.019, 100.0, 1.4394, 4.0, 437.0, 21.2, 396.9, 34.41, 14.4], [3.32105, 0.0, 19.58, 1.0, 0.871, 5.403, 100.0, 1.3216, 5.0, 403.0, 14.7, 396.9, 26.82, 13.4], [4.0974, 0.0, 19.58, 0.0, 0.871, 5.468, 100.0, 1.4118, 5.0, 403.0, 14.7, 396.9, 26.42, 15.6], [2.7797400000000003, 0.0, 19.58, 0.0, 0.871, 4.9030000000000005, 97.8, 1.3459, 5.0, 403.0, 14.7, 396.9, 29.29, 11.8], [2.37934, 0.0, 19.58, 0.0, 0.871, 6.13, 100.0, 1.4191, 5.0, 403.0, 14.7, 172.91, 27.8, 13.8], [2.15505, 0.0, 19.58, 0.0, 0.871, 5.627999999999999, 100.0, 1.5166, 5.0, 403.0, 14.7, 169.27, 16.65, 15.6], [2.36862, 0.0, 19.58, 0.0, 0.871, 4.926, 95.7, 1.4608, 5.0, 403.0, 14.7, 391.71, 29.53, 14.6], [2.3309900000000003, 0.0, 19.58, 0.0, 0.871, 5.186, 93.8, 1.5296, 5.0, 403.0, 14.7, 356.99, 28.32, 17.8], [2.7339700000000002, 0.0, 19.58, 0.0, 0.871, 5.597, 94.9, 1.5257, 5.0, 403.0, 14.7, 351.85, 21.45, 15.4], [1.6566, 0.0, 19.58, 0.0, 0.871, 6.122000000000001, 97.3, 1.618, 5.0, 403.0, 14.7, 372.8, 14.1, 21.5], [1.49632, 0.0, 19.58, 0.0, 0.871, 5.404, 100.0, 1.5916, 5.0, 403.0, 14.7, 341.6, 13.28, 19.6], [1.12658, 0.0, 19.58, 1.0, 0.871, 5.012, 88.0, 1.6102, 5.0, 403.0, 14.7, 343.28, 12.12, 15.3], [2.14918, 0.0, 19.58, 0.0, 0.871, 5.709, 98.5, 1.6232, 5.0, 403.0, 14.7, 261.95, 15.79, 19.4], [1.41385, 0.0, 19.58, 1.0, 0.871, 6.129, 96.0, 1.7494, 5.0, 403.0, 14.7, 321.02, 15.12, 17.0], [3.5350099999999998, 0.0, 19.58, 1.0, 0.871, 6.152, 82.6, 1.7455, 5.0, 403.0, 14.7, 88.01, 15.02, 15.6], [2.4466799999999997, 0.0, 19.58, 0.0, 0.871, 5.272, 94.0, 1.7364, 5.0, 403.0, 14.7, 88.63, 16.14, 13.1], [1.22358, 0.0, 19.58, 0.0, 0.605, 6.943, 97.4, 1.8773, 5.0, 403.0, 14.7, 363.43, 4.59, 41.3], [1.34284, 0.0, 19.58, 0.0, 0.605, 6.066, 100.0, 1.7573, 5.0, 403.0, 14.7, 353.89, 6.43, 24.3], [1.4250200000000002, 0.0, 19.58, 0.0, 0.871, 6.51, 100.0, 1.7659, 5.0, 403.0, 14.7, 364.31, 7.39, 23.3], [1.27346, 0.0, 19.58, 1.0, 0.605, 6.25, 92.6, 1.7984, 5.0, 403.0, 14.7, 338.92, 5.5, 27.0], [1.46336, 0.0, 19.58, 0.0, 0.605, 7.489, 90.8, 1.9709, 5.0, 403.0, 14.7, 374.43, 1.73, 50.0], [1.8337700000000001, 0.0, 19.58, 1.0, 0.605, 7.8020000000000005, 98.2, 2.0407, 5.0, 403.0, 14.7, 389.61, 1.92, 50.0], [1.51902, 0.0, 19.58, 1.0, 0.605, 8.375, 93.9, 2.162, 5.0, 403.0, 14.7, 388.45, 3.32, 50.0], [2.2423599999999997, 0.0, 19.58, 0.0, 0.605, 5.854, 91.8, 2.4219999999999997, 5.0, 403.0, 14.7, 395.11, 11.64, 22.7], [2.924, 0.0, 19.58, 0.0, 0.605, 6.101, 93.0, 2.2834, 5.0, 403.0, 14.7, 240.16, 9.81, 25.0], [2.01019, 0.0, 19.58, 0.0, 0.605, 7.928999999999999, 96.2, 2.0459, 5.0, 403.0, 14.7, 369.3, 3.7, 50.0], [1.8002799999999999, 0.0, 19.58, 0.0, 0.605, 5.877000000000001, 79.2, 2.4259, 5.0, 403.0, 14.7, 227.61, 12.14, 23.8], [2.3004, 0.0, 19.58, 0.0, 0.605, 6.319, 96.1, 2.1, 5.0, 403.0, 14.7, 297.09, 11.1, 23.8], [2.4495299999999998, 0.0, 19.58, 0.0, 0.605, 6.402, 95.2, 2.2625, 5.0, 403.0, 14.7, 330.04, 11.32, 22.3], [1.2074200000000002, 0.0, 19.58, 0.0, 0.605, 5.875, 94.6, 2.4259, 5.0, 403.0, 14.7, 292.29, 14.43, 17.4], [2.3139, 0.0, 19.58, 0.0, 0.605, 5.88, 97.3, 2.3887, 5.0, 403.0, 14.7, 348.13, 12.03, 19.1], [0.13914, 0.0, 4.05, 0.0, 0.51, 5.572, 88.5, 2.5961, 5.0, 296.0, 16.6, 396.9, 14.69, 23.1], [0.09178, 0.0, 4.05, 0.0, 0.51, 6.416, 84.1, 2.6463, 5.0, 296.0, 16.6, 395.5, 9.04, 23.6], [0.08447, 0.0, 4.05, 0.0, 0.51, 5.859, 68.7, 2.7019, 5.0, 296.0, 16.6, 393.23, 9.64, 22.6], [0.06663999999999999, 0.0, 4.05, 0.0, 0.51, 6.546, 33.1, 3.1323, 5.0, 296.0, 16.6, 390.96, 5.33, 29.4], [0.07022, 0.0, 4.05, 0.0, 0.51, 6.02, 47.2, 3.5549, 5.0, 296.0, 16.6, 393.23, 10.11, 23.2], [0.05425, 0.0, 4.05, 0.0, 0.51, 6.315, 73.4, 3.3175, 5.0, 296.0, 16.6, 395.6, 6.29, 24.6], [0.06642, 0.0, 4.05, 0.0, 0.51, 6.86, 74.4, 2.9153, 5.0, 296.0, 16.6, 391.27, 6.92, 29.9], [0.0578, 0.0, 2.46, 0.0, 0.488, 6.98, 58.4, 2.8289999999999997, 3.0, 193.0, 17.8, 396.9, 5.04, 37.2], [0.06588, 0.0, 2.46, 0.0, 0.488, 7.765, 83.3, 2.741, 3.0, 193.0, 17.8, 395.56, 7.56, 39.8], [0.06888, 0.0, 2.46, 0.0, 0.488, 6.144, 62.2, 2.5979, 3.0, 193.0, 17.8, 396.9, 9.45, 36.2], [0.09103, 0.0, 2.46, 0.0, 0.488, 7.155, 92.2, 2.7006, 3.0, 193.0, 17.8, 394.12, 4.82, 37.9], [0.10008, 0.0, 2.46, 0.0, 0.488, 6.563, 95.6, 2.847, 3.0, 193.0, 17.8, 396.9, 5.68, 32.5], [0.08308, 0.0, 2.46, 0.0, 0.488, 5.604, 89.8, 2.9879, 3.0, 193.0, 17.8, 391.0, 13.98, 26.4], [0.06047, 0.0, 2.46, 0.0, 0.488, 6.153, 68.8, 3.2797, 3.0, 193.0, 17.8, 387.11, 13.15, 29.6], [0.05602000000000001, 0.0, 2.46, 0.0, 0.488, 7.831, 53.6, 3.1992, 3.0, 193.0, 17.8, 392.63, 4.45, 50.0], [0.07875, 45.0, 3.44, 0.0, 0.43700000000000006, 6.782, 41.1, 3.7886, 5.0, 398.0, 15.2, 393.87, 6.68, 32.0], [0.12579, 45.0, 3.44, 0.0, 0.43700000000000006, 6.556, 29.1, 4.5667, 5.0, 398.0, 15.2, 382.84, 4.56, 29.8], [0.0837, 45.0, 3.44, 0.0, 0.43700000000000006, 7.185, 38.9, 4.5667, 5.0, 398.0, 15.2, 396.9, 5.39, 34.9], [0.09068, 45.0, 3.44, 0.0, 0.43700000000000006, 6.9510000000000005, 21.5, 6.4798, 5.0, 398.0, 15.2, 377.68, 5.1, 37.0], [0.06911, 45.0, 3.44, 0.0, 0.43700000000000006, 6.739, 30.8, 6.4798, 5.0, 398.0, 15.2, 389.71, 4.69, 30.5], [0.08664, 45.0, 3.44, 0.0, 0.43700000000000006, 7.178, 26.3, 6.4798, 5.0, 398.0, 15.2, 390.49, 2.87, 36.4], [0.02187, 60.0, 2.93, 0.0, 0.401, 6.8, 9.9, 6.2196, 1.0, 265.0, 15.6, 393.37, 5.03, 31.1], [0.01439, 60.0, 2.93, 0.0, 0.401, 6.604, 18.8, 6.2196, 1.0, 265.0, 15.6, 376.7, 4.38, 29.1], [0.01381, 80.0, 0.46, 0.0, 0.42200000000000004, 7.875, 32.0, 5.6484, 4.0, 255.0, 14.4, 394.23, 2.97, 50.0], [0.04011, 80.0, 1.52, 0.0, 0.40399999999999997, 7.287000000000001, 34.1, 7.309, 2.0, 329.0, 12.6, 396.9, 4.08, 33.3], [0.04666, 80.0, 1.52, 0.0, 0.40399999999999997, 7.107, 36.6, 7.309, 2.0, 329.0, 12.6, 354.31, 8.61, 30.3], [0.03768, 80.0, 1.52, 0.0, 0.40399999999999997, 7.274, 38.3, 7.309, 2.0, 329.0, 12.6, 392.2, 6.62, 34.6], [0.0315, 95.0, 1.47, 0.0, 0.40299999999999997, 6.975, 15.3, 7.6534, 3.0, 402.0, 17.0, 396.9, 4.56, 34.9], [0.01778, 95.0, 1.47, 0.0, 0.40299999999999997, 7.135, 13.9, 7.6534, 3.0, 402.0, 17.0, 384.3, 4.45, 32.9], [0.03445, 82.5, 2.03, 0.0, 0.415, 6.162000000000001, 38.4, 6.27, 2.0, 348.0, 14.7, 393.77, 7.43, 24.1], [0.021769999999999998, 82.5, 2.03, 0.0, 0.415, 7.61, 15.7, 6.27, 2.0, 348.0, 14.7, 395.38, 3.11, 42.3], [0.0351, 95.0, 2.68, 0.0, 0.4161, 7.853, 33.2, 5.118, 4.0, 224.0, 14.7, 392.78, 3.81, 48.5], [0.02009, 95.0, 2.68, 0.0, 0.4161, 8.033999999999999, 31.9, 5.118, 4.0, 224.0, 14.7, 390.55, 2.88, 50.0], [0.13642, 0.0, 10.59, 0.0, 0.489, 5.891, 22.3, 3.9454, 4.0, 277.0, 18.6, 396.9, 10.87, 22.6], [0.22969, 0.0, 10.59, 0.0, 0.489, 6.3260000000000005, 52.5, 4.3549, 4.0, 277.0, 18.6, 394.87, 10.97, 24.4], [0.25199, 0.0, 10.59, 0.0, 0.489, 5.7829999999999995, 72.7, 4.3549, 4.0, 277.0, 18.6, 389.43, 18.06, 22.5], [0.13587, 0.0, 10.59, 1.0, 0.489, 6.064, 59.1, 4.2392, 4.0, 277.0, 18.6, 381.32, 14.66, 24.4], [0.43571000000000004, 0.0, 10.59, 1.0, 0.489, 5.343999999999999, 100.0, 3.875, 4.0, 277.0, 18.6, 396.9, 23.09, 20.0], [0.17446, 0.0, 10.59, 1.0, 0.489, 5.96, 92.1, 3.8771, 4.0, 277.0, 18.6, 393.25, 17.27, 21.7], [0.37578, 0.0, 10.59, 1.0, 0.489, 5.404, 88.6, 3.665, 4.0, 277.0, 18.6, 395.24, 23.98, 19.3], [0.21719000000000002, 0.0, 10.59, 1.0, 0.489, 5.807, 53.8, 3.6526, 4.0, 277.0, 18.6, 390.94, 16.03, 22.4], [0.14052, 0.0, 10.59, 0.0, 0.489, 6.375, 32.3, 3.9454, 4.0, 277.0, 18.6, 385.81, 9.38, 28.1], [0.28955, 0.0, 10.59, 0.0, 0.489, 5.412000000000001, 9.8, 3.5875, 4.0, 277.0, 18.6, 348.93, 29.55, 23.7], [0.19802, 0.0, 10.59, 0.0, 0.489, 6.182, 42.4, 3.9454, 4.0, 277.0, 18.6, 393.63, 9.47, 25.0], [0.0456, 0.0, 13.89, 1.0, 0.55, 5.888, 56.0, 3.1121, 5.0, 276.0, 16.4, 392.8, 13.51, 23.3], [0.07013, 0.0, 13.89, 0.0, 0.55, 6.642, 85.1, 3.4211, 5.0, 276.0, 16.4, 392.78, 9.69, 28.7], [0.11069000000000001, 0.0, 13.89, 1.0, 0.55, 5.9510000000000005, 93.8, 2.8893, 5.0, 276.0, 16.4, 396.9, 17.92, 21.5], [0.11425, 0.0, 13.89, 1.0, 0.55, 6.372999999999999, 92.4, 3.3633, 5.0, 276.0, 16.4, 393.74, 10.5, 23.0], [0.35809, 0.0, 6.2, 1.0, 0.507, 6.9510000000000005, 88.5, 2.8617, 8.0, 307.0, 17.4, 391.7, 9.71, 26.7], [0.40771, 0.0, 6.2, 1.0, 0.507, 6.164, 91.3, 3.048, 8.0, 307.0, 17.4, 395.24, 21.46, 21.7], [0.62356, 0.0, 6.2, 1.0, 0.507, 6.879, 77.7, 3.2721, 8.0, 307.0, 17.4, 390.39, 9.93, 27.5], [0.6147, 0.0, 6.2, 0.0, 0.507, 6.617999999999999, 80.8, 3.2721, 8.0, 307.0, 17.4, 396.9, 7.6, 30.1], [0.31533, 0.0, 6.2, 0.0, 0.504, 8.266, 78.3, 2.8944, 8.0, 307.0, 17.4, 385.05, 4.14, 44.8], [0.52693, 0.0, 6.2, 0.0, 0.504, 8.725, 83.0, 2.8944, 8.0, 307.0, 17.4, 382.0, 4.63, 50.0], [0.38214000000000004, 0.0, 6.2, 0.0, 0.504, 8.04, 86.5, 3.2157, 8.0, 307.0, 17.4, 387.38, 3.13, 37.6], [0.41238, 0.0, 6.2, 0.0, 0.504, 7.162999999999999, 79.9, 3.2157, 8.0, 307.0, 17.4, 372.08, 6.36, 31.6], [0.29819, 0.0, 6.2, 0.0, 0.504, 7.686, 17.0, 3.3751, 8.0, 307.0, 17.4, 377.51, 3.92, 46.7], [0.44178, 0.0, 6.2, 0.0, 0.504, 6.5520000000000005, 21.4, 3.3751, 8.0, 307.0, 17.4, 380.34, 3.76, 31.5], [0.537, 0.0, 6.2, 0.0, 0.504, 5.981, 68.1, 3.6715, 8.0, 307.0, 17.4, 378.35, 11.65, 24.3], [0.46296000000000004, 0.0, 6.2, 0.0, 0.504, 7.412000000000001, 76.9, 3.6715, 8.0, 307.0, 17.4, 376.14, 5.25, 31.7], [0.57529, 0.0, 6.2, 0.0, 0.507, 8.337, 73.3, 3.8384, 8.0, 307.0, 17.4, 385.91, 2.47, 41.7], [0.33147, 0.0, 6.2, 0.0, 0.507, 8.247, 70.4, 3.6519, 8.0, 307.0, 17.4, 378.95, 3.95, 48.3], [0.44791000000000003, 0.0, 6.2, 1.0, 0.507, 6.726, 66.5, 3.6519, 8.0, 307.0, 17.4, 360.2, 8.05, 29.0], [0.33045, 0.0, 6.2, 0.0, 0.507, 6.086, 61.5, 3.6519, 8.0, 307.0, 17.4, 376.75, 10.88, 24.0], [0.52058, 0.0, 6.2, 1.0, 0.507, 6.631, 76.5, 4.148, 8.0, 307.0, 17.4, 388.45, 9.54, 25.1], [0.51183, 0.0, 6.2, 0.0, 0.507, 7.358, 71.6, 4.148, 8.0, 307.0, 17.4, 390.07, 4.73, 31.5], [0.08244, 30.0, 4.93, 0.0, 0.428, 6.481, 18.5, 6.1899, 6.0, 300.0, 16.6, 379.41, 6.36, 23.7], [0.09252, 30.0, 4.93, 0.0, 0.428, 6.606, 42.2, 6.1899, 6.0, 300.0, 16.6, 383.78, 7.37, 23.3], [0.11329000000000002, 30.0, 4.93, 0.0, 0.428, 6.897, 54.3, 6.3361, 6.0, 300.0, 16.6, 391.25, 11.38, 22.0], [0.10612, 30.0, 4.93, 0.0, 0.428, 6.095, 65.1, 6.3361, 6.0, 300.0, 16.6, 394.62, 12.4, 20.1], [0.1029, 30.0, 4.93, 0.0, 0.428, 6.358, 52.9, 7.0355, 6.0, 300.0, 16.6, 372.75, 11.22, 22.2], [0.12757000000000002, 30.0, 4.93, 0.0, 0.428, 6.393, 7.8, 7.0355, 6.0, 300.0, 16.6, 374.71, 5.19, 23.7], [0.20608, 22.0, 5.86, 0.0, 0.431, 5.593, 76.5, 7.9549, 7.0, 330.0, 19.1, 372.49, 12.5, 17.6], [0.19133, 22.0, 5.86, 0.0, 0.431, 5.605, 70.2, 7.9549, 7.0, 330.0, 19.1, 389.13, 18.46, 18.5], [0.33983, 22.0, 5.86, 0.0, 0.431, 6.108, 34.9, 8.0555, 7.0, 330.0, 19.1, 390.18, 9.16, 24.3], [0.19657, 22.0, 5.86, 0.0, 0.431, 6.226, 79.2, 8.0555, 7.0, 330.0, 19.1, 376.14, 10.15, 20.5], [0.16439, 22.0, 5.86, 0.0, 0.431, 6.433, 49.1, 7.8265, 7.0, 330.0, 19.1, 374.71, 9.52, 24.5], [0.19072999999999998, 22.0, 5.86, 0.0, 0.431, 6.718, 17.5, 7.8265, 7.0, 330.0, 19.1, 393.74, 6.56, 26.2], [0.1403, 22.0, 5.86, 0.0, 0.431, 6.487, 13.0, 7.3967, 7.0, 330.0, 19.1, 396.28, 5.9, 24.4], [0.21409, 22.0, 5.86, 0.0, 0.431, 6.438, 8.9, 7.3967, 7.0, 330.0, 19.1, 377.07, 3.59, 24.8], [0.08221, 22.0, 5.86, 0.0, 0.431, 6.957000000000001, 6.8, 8.9067, 7.0, 330.0, 19.1, 386.09, 3.53, 29.6], [0.36894, 22.0, 5.86, 0.0, 0.431, 8.259, 8.4, 8.9067, 7.0, 330.0, 19.1, 396.9, 3.54, 42.8], [0.04819, 80.0, 3.64, 0.0, 0.392, 6.108, 32.0, 9.2203, 1.0, 315.0, 16.4, 392.89, 6.57, 21.9], [0.035480000000000005, 80.0, 3.64, 0.0, 0.392, 5.876, 19.1, 9.2203, 1.0, 315.0, 16.4, 395.18, 9.25, 20.9], [0.015380000000000001, 90.0, 3.75, 0.0, 0.39399999999999996, 7.454, 34.2, 6.3361, 3.0, 244.0, 15.9, 386.34, 3.11, 44.0], [0.61154, 20.0, 3.97, 0.0, 0.647, 8.704, 86.9, 1.801, 5.0, 264.0, 13.0, 389.7, 5.12, 50.0], [0.66351, 20.0, 3.97, 0.0, 0.647, 7.332999999999999, 100.0, 1.8946, 5.0, 264.0, 13.0, 383.29, 7.79, 36.0], [0.65665, 20.0, 3.97, 0.0, 0.647, 6.8420000000000005, 100.0, 2.0107, 5.0, 264.0, 13.0, 391.93, 6.9, 30.1], [0.5401100000000001, 20.0, 3.97, 0.0, 0.647, 7.202999999999999, 81.8, 2.1121, 5.0, 264.0, 13.0, 392.8, 9.59, 33.8], [0.5341199999999999, 20.0, 3.97, 0.0, 0.647, 7.52, 89.4, 2.1398, 5.0, 264.0, 13.0, 388.37, 7.26, 43.1], [0.5201399999999999, 20.0, 3.97, 0.0, 0.647, 8.398, 91.5, 2.2885, 5.0, 264.0, 13.0, 386.86, 5.91, 48.8], [0.82526, 20.0, 3.97, 0.0, 0.647, 7.327000000000001, 94.5, 2.0788, 5.0, 264.0, 13.0, 393.42, 11.25, 31.0], [0.55007, 20.0, 3.97, 0.0, 0.647, 7.206, 91.6, 1.9301, 5.0, 264.0, 13.0, 387.89, 8.1, 36.5], [0.76162, 20.0, 3.97, 0.0, 0.647, 5.56, 62.8, 1.9865, 5.0, 264.0, 13.0, 392.4, 10.45, 22.8], [0.7857, 20.0, 3.97, 0.0, 0.647, 7.013999999999999, 84.6, 2.1329, 5.0, 264.0, 13.0, 384.07, 14.79, 30.7], [0.57834, 20.0, 3.97, 0.0, 0.575, 8.297, 67.0, 2.4216, 5.0, 264.0, 13.0, 384.54, 7.44, 50.0], [0.5405, 20.0, 3.97, 0.0, 0.575, 7.47, 52.6, 2.872, 5.0, 264.0, 13.0, 390.3, 3.16, 43.5], [0.09065, 20.0, 6.96, 1.0, 0.46399999999999997, 5.92, 61.5, 3.9175, 3.0, 223.0, 18.6, 391.34, 13.65, 20.7], [0.29916, 20.0, 6.96, 0.0, 0.46399999999999997, 5.856, 42.1, 4.428999999999999, 3.0, 223.0, 18.6, 388.65, 13.0, 21.1], [0.16211, 20.0, 6.96, 0.0, 0.46399999999999997, 6.24, 16.3, 4.428999999999999, 3.0, 223.0, 18.6, 396.9, 6.59, 25.2], [0.1146, 20.0, 6.96, 0.0, 0.46399999999999997, 6.537999999999999, 58.7, 3.9175, 3.0, 223.0, 18.6, 394.96, 7.73, 24.4], [0.22188000000000002, 20.0, 6.96, 1.0, 0.46399999999999997, 7.691, 51.8, 4.3665, 3.0, 223.0, 18.6, 390.77, 6.58, 35.2], [0.05644, 40.0, 6.41, 1.0, 0.447, 6.757999999999999, 32.9, 4.0776, 4.0, 254.0, 17.6, 396.9, 3.53, 32.4], [0.09604, 40.0, 6.41, 0.0, 0.447, 6.854, 42.8, 4.2673, 4.0, 254.0, 17.6, 396.9, 2.98, 32.0], [0.10469, 40.0, 6.41, 1.0, 0.447, 7.267, 49.0, 4.7872, 4.0, 254.0, 17.6, 389.25, 6.05, 33.2], [0.061270000000000005, 40.0, 6.41, 1.0, 0.447, 6.8260000000000005, 27.6, 4.8628, 4.0, 254.0, 17.6, 393.45, 4.16, 33.1], [0.07977999999999999, 40.0, 6.41, 0.0, 0.447, 6.482, 32.1, 4.1403, 4.0, 254.0, 17.6, 396.9, 7.19, 29.1], [0.21038, 20.0, 3.33, 0.0, 0.4429, 6.812, 32.2, 4.1007, 5.0, 216.0, 14.9, 396.9, 4.85, 35.1], [0.03578, 20.0, 3.33, 0.0, 0.4429, 7.82, 64.5, 4.6947, 5.0, 216.0, 14.9, 387.31, 3.76, 45.4], [0.03705, 20.0, 3.33, 0.0, 0.4429, 6.968, 37.2, 5.2447, 5.0, 216.0, 14.9, 392.23, 4.59, 35.4], [0.06129, 20.0, 3.33, 1.0, 0.4429, 7.645, 49.7, 5.2119, 5.0, 216.0, 14.9, 377.07, 3.01, 46.0], [0.015009999999999999, 90.0, 1.21, 1.0, 0.401, 7.922999999999999, 24.8, 5.885, 1.0, 198.0, 13.6, 395.52, 3.16, 50.0], [0.009059999999999999, 90.0, 2.97, 0.0, 0.4, 7.087999999999999, 20.8, 7.3073, 1.0, 285.0, 15.3, 394.72, 7.85, 32.2], [0.01096, 55.0, 2.25, 0.0, 0.389, 6.452999999999999, 31.9, 7.3073, 1.0, 300.0, 15.3, 394.72, 8.23, 22.0], [0.01965, 80.0, 1.76, 0.0, 0.385, 6.23, 31.5, 9.0892, 1.0, 241.0, 18.2, 341.6, 12.93, 20.1], [0.03871, 52.5, 5.32, 0.0, 0.405, 6.209, 31.3, 7.3172, 6.0, 293.0, 16.6, 396.9, 7.14, 23.2], [0.0459, 52.5, 5.32, 0.0, 0.405, 6.315, 45.6, 7.3172, 6.0, 293.0, 16.6, 396.9, 7.6, 22.3], [0.04297, 52.5, 5.32, 0.0, 0.405, 6.565, 22.9, 7.3172, 6.0, 293.0, 16.6, 371.72, 9.51, 24.8], [0.035019999999999996, 80.0, 4.95, 0.0, 0.41100000000000003, 6.861000000000001, 27.9, 5.1167, 4.0, 245.0, 19.2, 396.9, 3.33, 28.5], [0.07886, 80.0, 4.95, 0.0, 0.41100000000000003, 7.148, 27.7, 5.1167, 4.0, 245.0, 19.2, 396.9, 3.56, 37.3], [0.03615, 80.0, 4.95, 0.0, 0.41100000000000003, 6.63, 23.4, 5.1167, 4.0, 245.0, 19.2, 396.9, 4.7, 27.9], [0.08265, 0.0, 13.92, 0.0, 0.43700000000000006, 6.127000000000001, 18.4, 5.5027, 4.0, 289.0, 16.0, 396.9, 8.58, 23.9], [0.08199, 0.0, 13.92, 0.0, 0.43700000000000006, 6.0089999999999995, 42.3, 5.5027, 4.0, 289.0, 16.0, 396.9, 10.4, 21.7], [0.12932000000000002, 0.0, 13.92, 0.0, 0.43700000000000006, 6.678, 31.1, 5.9604, 4.0, 289.0, 16.0, 396.9, 6.27, 28.6], [0.053720000000000004, 0.0, 13.92, 0.0, 0.43700000000000006, 6.5489999999999995, 51.0, 5.9604, 4.0, 289.0, 16.0, 392.85, 7.39, 27.1], [0.14103, 0.0, 13.92, 0.0, 0.43700000000000006, 5.79, 58.0, 6.32, 4.0, 289.0, 16.0, 396.9, 15.84, 20.3], [0.06466000000000001, 70.0, 2.24, 0.0, 0.4, 6.345, 20.1, 7.8278, 5.0, 358.0, 14.8, 368.24, 4.97, 22.5], [0.05561, 70.0, 2.24, 0.0, 0.4, 7.041, 10.0, 7.8278, 5.0, 358.0, 14.8, 371.58, 4.74, 29.0], [0.04417, 70.0, 2.24, 0.0, 0.4, 6.871, 47.4, 7.8278, 5.0, 358.0, 14.8, 390.86, 6.07, 24.8], [0.03537, 34.0, 6.09, 0.0, 0.433, 6.59, 40.4, 5.4917, 7.0, 329.0, 16.1, 395.75, 9.5, 22.0], [0.09266, 34.0, 6.09, 0.0, 0.433, 6.495, 18.4, 5.4917, 7.0, 329.0, 16.1, 383.61, 8.67, 26.4], [0.1, 34.0, 6.09, 0.0, 0.433, 6.982, 17.7, 5.4917, 7.0, 329.0, 16.1, 390.43, 4.86, 33.1], [0.05515, 33.0, 2.18, 0.0, 0.47200000000000003, 7.236000000000001, 41.1, 4.022, 7.0, 222.0, 18.4, 393.68, 6.93, 36.1], [0.05479, 33.0, 2.18, 0.0, 0.47200000000000003, 6.6160000000000005, 58.1, 3.37, 7.0, 222.0, 18.4, 393.36, 8.93, 28.4], [0.07503, 33.0, 2.18, 0.0, 0.47200000000000003, 7.42, 71.9, 3.0992, 7.0, 222.0, 18.4, 396.9, 6.47, 33.4], [0.049319999999999996, 33.0, 2.18, 0.0, 0.47200000000000003, 6.849, 70.3, 3.1827, 7.0, 222.0, 18.4, 396.9, 7.53, 28.2], [0.49298000000000003, 0.0, 9.9, 0.0, 0.544, 6.635, 82.5, 3.3175, 4.0, 304.0, 18.4, 396.9, 4.54, 22.8], [0.3494, 0.0, 9.9, 0.0, 0.544, 5.972, 76.7, 3.1025, 4.0, 304.0, 18.4, 396.24, 9.97, 20.3], [2.63548, 0.0, 9.9, 0.0, 0.544, 4.973, 37.8, 2.5194, 4.0, 304.0, 18.4, 350.45, 12.64, 16.1], [0.7904100000000001, 0.0, 9.9, 0.0, 0.544, 6.122000000000001, 52.8, 2.6403, 4.0, 304.0, 18.4, 396.9, 5.98, 22.1], [0.26169000000000003, 0.0, 9.9, 0.0, 0.544, 6.023, 90.4, 2.8339999999999996, 4.0, 304.0, 18.4, 396.3, 11.72, 19.4], [0.26938, 0.0, 9.9, 0.0, 0.544, 6.266, 82.8, 3.2628, 4.0, 304.0, 18.4, 393.39, 7.9, 21.6], [0.3692, 0.0, 9.9, 0.0, 0.544, 6.567, 87.3, 3.6023, 4.0, 304.0, 18.4, 395.69, 9.28, 23.8], [0.25356, 0.0, 9.9, 0.0, 0.544, 5.705, 77.7, 3.945, 4.0, 304.0, 18.4, 396.42, 11.5, 16.2], [0.31827, 0.0, 9.9, 0.0, 0.544, 5.914, 83.2, 3.9986, 4.0, 304.0, 18.4, 390.7, 18.33, 17.8], [0.24522, 0.0, 9.9, 0.0, 0.544, 5.782, 71.7, 4.0317, 4.0, 304.0, 18.4, 396.9, 15.94, 19.8], [0.40202, 0.0, 9.9, 0.0, 0.544, 6.382000000000001, 67.2, 3.5325, 4.0, 304.0, 18.4, 395.21, 10.36, 23.1], [0.47547, 0.0, 9.9, 0.0, 0.544, 6.1129999999999995, 58.8, 4.0019, 4.0, 304.0, 18.4, 396.23, 12.73, 21.0], [0.1676, 0.0, 7.38, 0.0, 0.493, 6.426, 52.3, 4.5404, 5.0, 287.0, 19.6, 396.9, 7.2, 23.8], [0.18159, 0.0, 7.38, 0.0, 0.493, 6.376, 54.3, 4.5404, 5.0, 287.0, 19.6, 396.9, 6.87, 23.1], [0.35114, 0.0, 7.38, 0.0, 0.493, 6.041, 49.9, 4.7211, 5.0, 287.0, 19.6, 396.9, 7.7, 20.4], [0.28392, 0.0, 7.38, 0.0, 0.493, 5.707999999999999, 74.3, 4.7211, 5.0, 287.0, 19.6, 391.13, 11.74, 18.5], [0.34109, 0.0, 7.38, 0.0, 0.493, 6.415, 40.1, 4.7211, 5.0, 287.0, 19.6, 396.9, 6.12, 25.0], [0.19186, 0.0, 7.38, 0.0, 0.493, 6.431, 14.7, 5.4159, 5.0, 287.0, 19.6, 393.68, 5.08, 24.6], [0.30346999999999996, 0.0, 7.38, 0.0, 0.493, 6.312, 28.9, 5.4159, 5.0, 287.0, 19.6, 396.9, 6.15, 23.0], [0.24103000000000002, 0.0, 7.38, 0.0, 0.493, 6.082999999999999, 43.7, 5.4159, 5.0, 287.0, 19.6, 396.9, 12.79, 22.2], [0.06617, 0.0, 3.24, 0.0, 0.46, 5.867999999999999, 25.8, 5.2146, 4.0, 430.0, 16.9, 382.44, 9.97, 19.3], [0.06724, 0.0, 3.24, 0.0, 0.46, 6.332999999999999, 17.2, 5.2146, 4.0, 430.0, 16.9, 375.21, 7.34, 22.6], [0.045439999999999994, 0.0, 3.24, 0.0, 0.46, 6.144, 32.2, 5.8736, 4.0, 430.0, 16.9, 368.57, 9.09, 19.8], [0.050230000000000004, 35.0, 6.06, 0.0, 0.4379, 5.706, 28.4, 6.6407, 1.0, 304.0, 16.9, 394.02, 12.43, 17.1], [0.03466, 35.0, 6.06, 0.0, 0.4379, 6.031000000000001, 23.3, 6.6407, 1.0, 304.0, 16.9, 362.25, 7.83, 19.4], [0.05083, 0.0, 5.19, 0.0, 0.515, 6.316, 38.1, 6.4584, 5.0, 224.0, 20.2, 389.71, 5.68, 22.2], [0.037380000000000004, 0.0, 5.19, 0.0, 0.515, 6.31, 38.5, 6.4584, 5.0, 224.0, 20.2, 389.4, 6.75, 20.7], [0.03961, 0.0, 5.19, 0.0, 0.515, 6.037000000000001, 34.5, 5.9853, 5.0, 224.0, 20.2, 396.9, 8.01, 21.1], [0.03427, 0.0, 5.19, 0.0, 0.515, 5.869, 46.3, 5.2311, 5.0, 224.0, 20.2, 396.9, 9.8, 19.5], [0.030410000000000003, 0.0, 5.19, 0.0, 0.515, 5.895, 59.6, 5.615, 5.0, 224.0, 20.2, 394.81, 10.56, 18.5], [0.03306, 0.0, 5.19, 0.0, 0.515, 6.059, 37.3, 4.8122, 5.0, 224.0, 20.2, 396.14, 8.51, 20.6], [0.054970000000000005, 0.0, 5.19, 0.0, 0.515, 5.985, 45.4, 4.8122, 5.0, 224.0, 20.2, 396.9, 9.74, 19.0], [0.06151, 0.0, 5.19, 0.0, 0.515, 5.968, 58.5, 4.8122, 5.0, 224.0, 20.2, 396.9, 9.29, 18.7], [0.013009999999999999, 35.0, 1.52, 0.0, 0.442, 7.2410000000000005, 49.3, 7.0379, 1.0, 284.0, 15.5, 394.74, 5.49, 32.7], [0.024980000000000002, 0.0, 1.89, 0.0, 0.518, 6.54, 59.7, 6.2669, 1.0, 422.0, 15.9, 389.96, 8.65, 16.5], [0.02543, 55.0, 3.78, 0.0, 0.484, 6.696000000000001, 56.4, 5.7321, 5.0, 370.0, 17.6, 396.9, 7.18, 23.9], [0.030489999999999996, 55.0, 3.78, 0.0, 0.484, 6.874, 28.1, 6.4654, 5.0, 370.0, 17.6, 387.97, 4.61, 31.2], [0.03113, 0.0, 4.39, 0.0, 0.442, 6.013999999999999, 48.5, 8.0136, 3.0, 352.0, 18.8, 385.64, 10.53, 17.5], [0.06162, 0.0, 4.39, 0.0, 0.442, 5.898, 52.3, 8.0136, 3.0, 352.0, 18.8, 364.61, 12.67, 17.2], [0.0187, 85.0, 4.15, 0.0, 0.429, 6.516, 27.7, 8.5353, 4.0, 351.0, 17.9, 392.43, 6.36, 23.1], [0.015009999999999999, 80.0, 2.01, 0.0, 0.435, 6.635, 29.7, 8.344, 4.0, 280.0, 17.0, 390.94, 5.99, 24.5], [0.02899, 40.0, 1.25, 0.0, 0.429, 6.939, 34.5, 8.7921, 1.0, 335.0, 19.7, 389.85, 5.89, 26.6], [0.062110000000000005, 40.0, 1.25, 0.0, 0.429, 6.49, 44.4, 8.7921, 1.0, 335.0, 19.7, 396.9, 5.98, 22.9], [0.0795, 60.0, 1.69, 0.0, 0.41100000000000003, 6.579, 35.9, 10.7103, 4.0, 411.0, 18.3, 370.78, 5.49, 24.1], [0.07244, 60.0, 1.69, 0.0, 0.41100000000000003, 5.8839999999999995, 18.5, 10.7103, 4.0, 411.0, 18.3, 392.33, 7.79, 18.6], [0.01709, 90.0, 2.02, 0.0, 0.41, 6.728, 36.1, 12.1265, 5.0, 187.0, 17.0, 384.46, 4.5, 30.1], [0.04301, 80.0, 1.91, 0.0, 0.413, 5.662999999999999, 21.9, 10.5857, 4.0, 334.0, 22.0, 382.8, 8.05, 18.2], [0.10659, 80.0, 1.91, 0.0, 0.413, 5.936, 19.5, 10.5857, 4.0, 334.0, 22.0, 376.04, 5.57, 20.6], [8.98296, 0.0, 18.1, 1.0, 0.77, 6.212000000000001, 97.4, 2.1222, 24.0, 666.0, 20.2, 377.73, 17.6, 17.8], [3.8497, 0.0, 18.1, 1.0, 0.77, 6.395, 91.0, 2.5052, 24.0, 666.0, 20.2, 391.34, 13.27, 21.7], [5.20177, 0.0, 18.1, 1.0, 0.77, 6.127000000000001, 83.4, 2.7227, 24.0, 666.0, 20.2, 395.43, 11.48, 22.7], [4.26131, 0.0, 18.1, 0.0, 0.77, 6.112, 81.3, 2.5091, 24.0, 666.0, 20.2, 390.74, 12.67, 22.6], [4.541919999999999, 0.0, 18.1, 0.0, 0.77, 6.398, 88.0, 2.5182, 24.0, 666.0, 20.2, 374.56, 7.79, 25.0], [3.83684, 0.0, 18.1, 0.0, 0.77, 6.251, 91.1, 2.2955, 24.0, 666.0, 20.2, 350.65, 14.19, 19.9], [3.6782199999999996, 0.0, 18.1, 0.0, 0.77, 5.362, 96.2, 2.1036, 24.0, 666.0, 20.2, 380.79, 10.19, 20.8], [4.22239, 0.0, 18.1, 1.0, 0.77, 5.803, 89.0, 1.9047, 24.0, 666.0, 20.2, 353.04, 14.64, 16.8], [3.4742800000000003, 0.0, 18.1, 1.0, 0.718, 8.78, 82.9, 1.9047, 24.0, 666.0, 20.2, 354.55, 5.29, 21.9], [4.55587, 0.0, 18.1, 0.0, 0.718, 3.5610000000000004, 87.9, 1.6132, 24.0, 666.0, 20.2, 354.7, 7.12, 27.5], [3.69695, 0.0, 18.1, 0.0, 0.718, 4.963, 91.4, 1.7523, 24.0, 666.0, 20.2, 316.03, 14.0, 21.9], [13.5222, 0.0, 18.1, 0.0, 0.631, 3.863, 100.0, 1.5106, 24.0, 666.0, 20.2, 131.42, 13.33, 23.1], [4.898219999999999, 0.0, 18.1, 0.0, 0.631, 4.97, 100.0, 1.3325, 24.0, 666.0, 20.2, 375.52, 3.26, 50.0], [5.669980000000001, 0.0, 18.1, 1.0, 0.631, 6.683, 96.8, 1.3567, 24.0, 666.0, 20.2, 375.33, 3.73, 50.0], [6.53876, 0.0, 18.1, 1.0, 0.631, 7.016, 97.5, 1.2024, 24.0, 666.0, 20.2, 392.05, 2.96, 50.0], [9.2323, 0.0, 18.1, 0.0, 0.631, 6.216, 100.0, 1.1691, 24.0, 666.0, 20.2, 366.15, 9.53, 50.0], [8.26725, 0.0, 18.1, 1.0, 0.6679999999999999, 5.875, 89.6, 1.1296, 24.0, 666.0, 20.2, 347.88, 8.88, 50.0], [11.1081, 0.0, 18.1, 0.0, 0.6679999999999999, 4.906000000000001, 100.0, 1.1742, 24.0, 666.0, 20.2, 396.9, 34.77, 13.8], [18.4982, 0.0, 18.1, 0.0, 0.6679999999999999, 4.138, 100.0, 1.137, 24.0, 666.0, 20.2, 396.9, 37.97, 13.8], [19.6091, 0.0, 18.1, 0.0, 0.6709999999999999, 7.313, 97.9, 1.3163, 24.0, 666.0, 20.2, 396.9, 13.44, 15.0], [15.288, 0.0, 18.1, 0.0, 0.6709999999999999, 6.649, 93.3, 1.3449, 24.0, 666.0, 20.2, 363.02, 23.24, 13.9], [9.82349, 0.0, 18.1, 0.0, 0.6709999999999999, 6.794, 98.8, 1.358, 24.0, 666.0, 20.2, 396.9, 21.24, 13.3], [23.6482, 0.0, 18.1, 0.0, 0.6709999999999999, 6.38, 96.2, 1.3861, 24.0, 666.0, 20.2, 396.9, 23.69, 13.1], [17.8667, 0.0, 18.1, 0.0, 0.6709999999999999, 6.223, 100.0, 1.3861, 24.0, 666.0, 20.2, 393.74, 21.78, 10.2], [88.9762, 0.0, 18.1, 0.0, 0.6709999999999999, 6.968, 91.9, 1.4165, 24.0, 666.0, 20.2, 396.9, 17.21, 10.4], [15.8744, 0.0, 18.1, 0.0, 0.6709999999999999, 6.545, 99.1, 1.5192, 24.0, 666.0, 20.2, 396.9, 21.08, 10.9], [9.18702, 0.0, 18.1, 0.0, 0.7, 5.5360000000000005, 100.0, 1.5804, 24.0, 666.0, 20.2, 396.9, 23.6, 11.3], [7.9924800000000005, 0.0, 18.1, 0.0, 0.7, 5.52, 100.0, 1.5331, 24.0, 666.0, 20.2, 396.9, 24.56, 12.3], [20.0849, 0.0, 18.1, 0.0, 0.7, 4.368, 91.2, 1.4395, 24.0, 666.0, 20.2, 285.83, 30.63, 8.8], [16.8118, 0.0, 18.1, 0.0, 0.7, 5.277, 98.1, 1.4261, 24.0, 666.0, 20.2, 396.9, 30.81, 7.2], [24.3938, 0.0, 18.1, 0.0, 0.7, 4.652, 100.0, 1.4672, 24.0, 666.0, 20.2, 396.9, 28.28, 10.5], [22.5971, 0.0, 18.1, 0.0, 0.7, 5.0, 89.5, 1.5184, 24.0, 666.0, 20.2, 396.9, 31.99, 7.4], [14.3337, 0.0, 18.1, 0.0, 0.7, 4.88, 100.0, 1.5895, 24.0, 666.0, 20.2, 372.92, 30.62, 10.2], [8.15174, 0.0, 18.1, 0.0, 0.7, 5.39, 98.9, 1.7281, 24.0, 666.0, 20.2, 396.9, 20.85, 11.5], [6.96215, 0.0, 18.1, 0.0, 0.7, 5.712999999999999, 97.0, 1.9265, 24.0, 666.0, 20.2, 394.43, 17.11, 15.1], [5.29305, 0.0, 18.1, 0.0, 0.7, 6.051, 82.5, 2.1678, 24.0, 666.0, 20.2, 378.38, 18.76, 23.2], [11.5779, 0.0, 18.1, 0.0, 0.7, 5.0360000000000005, 97.0, 1.77, 24.0, 666.0, 20.2, 396.9, 25.68, 9.7], [8.64476, 0.0, 18.1, 0.0, 0.693, 6.193, 92.6, 1.7912, 24.0, 666.0, 20.2, 396.9, 15.17, 13.8], [13.3598, 0.0, 18.1, 0.0, 0.693, 5.8870000000000005, 94.7, 1.7821, 24.0, 666.0, 20.2, 396.9, 16.35, 12.7], [8.71675, 0.0, 18.1, 0.0, 0.693, 6.471, 98.8, 1.7257, 24.0, 666.0, 20.2, 391.98, 17.12, 13.1], [5.87205, 0.0, 18.1, 0.0, 0.693, 6.405, 96.0, 1.6768, 24.0, 666.0, 20.2, 396.9, 19.37, 12.5], [7.67202, 0.0, 18.1, 0.0, 0.693, 5.747000000000001, 98.9, 1.6334, 24.0, 666.0, 20.2, 393.1, 19.92, 8.5], [38.3518, 0.0, 18.1, 0.0, 0.693, 5.452999999999999, 100.0, 1.4896, 24.0, 666.0, 20.2, 396.9, 30.59, 5.0], [9.91655, 0.0, 18.1, 0.0, 0.693, 5.852, 77.8, 1.5004, 24.0, 666.0, 20.2, 338.16, 29.97, 6.3], [25.0461, 0.0, 18.1, 0.0, 0.693, 5.987, 100.0, 1.5888, 24.0, 666.0, 20.2, 396.9, 26.77, 5.6], [14.2362, 0.0, 18.1, 0.0, 0.693, 6.343, 100.0, 1.5741, 24.0, 666.0, 20.2, 396.9, 20.32, 7.2], [9.59571, 0.0, 18.1, 0.0, 0.693, 6.404, 100.0, 1.639, 24.0, 666.0, 20.2, 376.11, 20.31, 12.1], [24.8017, 0.0, 18.1, 0.0, 0.693, 5.349, 96.0, 1.7028, 24.0, 666.0, 20.2, 396.9, 19.77, 8.3], [41.5292, 0.0, 18.1, 0.0, 0.693, 5.531000000000001, 85.4, 1.6074, 24.0, 666.0, 20.2, 329.46, 27.38, 8.5], [67.9208, 0.0, 18.1, 0.0, 0.693, 5.683, 100.0, 1.4254, 24.0, 666.0, 20.2, 384.97, 22.98, 5.0], [20.7162, 0.0, 18.1, 0.0, 0.659, 4.138, 100.0, 1.1781, 24.0, 666.0, 20.2, 370.22, 23.34, 11.9], [11.9511, 0.0, 18.1, 0.0, 0.659, 5.608, 100.0, 1.2852, 24.0, 666.0, 20.2, 332.09, 12.13, 27.9], [7.40389, 0.0, 18.1, 0.0, 0.597, 5.617000000000001, 97.9, 1.4547, 24.0, 666.0, 20.2, 314.64, 26.4, 17.2], [14.4383, 0.0, 18.1, 0.0, 0.597, 6.852, 100.0, 1.4655, 24.0, 666.0, 20.2, 179.36, 19.78, 27.5], [51.1358, 0.0, 18.1, 0.0, 0.597, 5.757000000000001, 100.0, 1.413, 24.0, 666.0, 20.2, 2.6, 10.11, 15.0], [14.0507, 0.0, 18.1, 0.0, 0.597, 6.657, 100.0, 1.5275, 24.0, 666.0, 20.2, 35.05, 21.22, 17.2], [18.811, 0.0, 18.1, 0.0, 0.597, 4.628, 100.0, 1.5539, 24.0, 666.0, 20.2, 28.79, 34.37, 17.9], [28.6558, 0.0, 18.1, 0.0, 0.597, 5.155, 100.0, 1.5894, 24.0, 666.0, 20.2, 210.97, 20.08, 16.3], [45.7461, 0.0, 18.1, 0.0, 0.693, 4.519, 100.0, 1.6582, 24.0, 666.0, 20.2, 88.27, 36.98, 7.0], [18.0846, 0.0, 18.1, 0.0, 0.679, 6.434, 100.0, 1.8347, 24.0, 666.0, 20.2, 27.25, 29.05, 7.2], [10.8342, 0.0, 18.1, 0.0, 0.679, 6.782, 90.8, 1.8195, 24.0, 666.0, 20.2, 21.57, 25.79, 7.5], [25.9406, 0.0, 18.1, 0.0, 0.679, 5.303999999999999, 89.1, 1.6475, 24.0, 666.0, 20.2, 127.36, 26.64, 10.4], [73.5341, 0.0, 18.1, 0.0, 0.679, 5.957000000000001, 100.0, 1.8026, 24.0, 666.0, 20.2, 16.45, 20.62, 8.8], [11.8123, 0.0, 18.1, 0.0, 0.718, 6.824, 76.5, 1.794, 24.0, 666.0, 20.2, 48.45, 22.74, 8.4], [11.0874, 0.0, 18.1, 0.0, 0.718, 6.4110000000000005, 100.0, 1.8589, 24.0, 666.0, 20.2, 318.75, 15.02, 16.7], [7.022589999999999, 0.0, 18.1, 0.0, 0.718, 6.006, 95.3, 1.8746, 24.0, 666.0, 20.2, 319.98, 15.7, 14.2], [12.0482, 0.0, 18.1, 0.0, 0.614, 5.648, 87.6, 1.9512, 24.0, 666.0, 20.2, 291.55, 14.1, 20.8], [7.05042, 0.0, 18.1, 0.0, 0.614, 6.103, 85.1, 2.0218, 24.0, 666.0, 20.2, 2.52, 23.29, 13.4], [8.792119999999999, 0.0, 18.1, 0.0, 0.584, 5.565, 70.6, 2.0635, 24.0, 666.0, 20.2, 3.65, 17.16, 11.7], [15.8603, 0.0, 18.1, 0.0, 0.679, 5.896, 95.4, 1.9096, 24.0, 666.0, 20.2, 7.68, 24.39, 8.3], [12.2472, 0.0, 18.1, 0.0, 0.584, 5.837000000000001, 59.7, 1.9976, 24.0, 666.0, 20.2, 24.65, 15.69, 10.2], [37.6619, 0.0, 18.1, 0.0, 0.679, 6.202000000000001, 78.7, 1.8629, 24.0, 666.0, 20.2, 18.82, 14.52, 10.9], [7.36711, 0.0, 18.1, 0.0, 0.679, 6.193, 78.1, 1.9356, 24.0, 666.0, 20.2, 96.73, 21.52, 11.0], [9.33889, 0.0, 18.1, 0.0, 0.679, 6.38, 95.6, 1.9682, 24.0, 666.0, 20.2, 60.72, 24.08, 9.5], [8.49213, 0.0, 18.1, 0.0, 0.584, 6.348, 86.1, 2.0527, 24.0, 666.0, 20.2, 83.45, 17.64, 14.5], [10.0623, 0.0, 18.1, 0.0, 0.584, 6.832999999999999, 94.3, 2.0882, 24.0, 666.0, 20.2, 81.33, 19.69, 14.1], [6.44405, 0.0, 18.1, 0.0, 0.584, 6.425, 74.8, 2.2004, 24.0, 666.0, 20.2, 97.95, 12.03, 16.1], [5.5810699999999995, 0.0, 18.1, 0.0, 0.713, 6.436, 87.9, 2.3158, 24.0, 666.0, 20.2, 100.19, 16.22, 14.3], [13.9134, 0.0, 18.1, 0.0, 0.713, 6.207999999999999, 95.0, 2.2222, 24.0, 666.0, 20.2, 100.63, 15.17, 11.7], [11.1604, 0.0, 18.1, 0.0, 0.74, 6.629, 94.6, 2.1247, 24.0, 666.0, 20.2, 109.85, 23.27, 13.4], [14.4208, 0.0, 18.1, 0.0, 0.74, 6.461, 93.3, 2.0026, 24.0, 666.0, 20.2, 27.49, 18.05, 9.6], [15.1772, 0.0, 18.1, 0.0, 0.74, 6.152, 100.0, 1.9142, 24.0, 666.0, 20.2, 9.32, 26.45, 8.7], [13.6781, 0.0, 18.1, 0.0, 0.74, 5.935, 87.9, 1.8206, 24.0, 666.0, 20.2, 68.95, 34.02, 8.4], [9.39063, 0.0, 18.1, 0.0, 0.74, 5.627000000000001, 93.9, 1.8172, 24.0, 666.0, 20.2, 396.9, 22.88, 12.8], [22.0511, 0.0, 18.1, 0.0, 0.74, 5.818, 92.4, 1.8662, 24.0, 666.0, 20.2, 391.45, 22.11, 10.5], [9.72418, 0.0, 18.1, 0.0, 0.74, 6.406000000000001, 97.2, 2.0651, 24.0, 666.0, 20.2, 385.96, 19.52, 17.1], [5.66637, 0.0, 18.1, 0.0, 0.74, 6.218999999999999, 100.0, 2.0048, 24.0, 666.0, 20.2, 395.69, 16.59, 18.4], [9.96654, 0.0, 18.1, 0.0, 0.74, 6.485, 100.0, 1.9784, 24.0, 666.0, 20.2, 386.73, 18.85, 15.4], [12.8023, 0.0, 18.1, 0.0, 0.74, 5.854, 96.6, 1.8956, 24.0, 666.0, 20.2, 240.52, 23.79, 10.8], [10.6718, 0.0, 18.1, 0.0, 0.74, 6.459, 94.8, 1.9879, 24.0, 666.0, 20.2, 43.06, 23.98, 11.8], [6.288069999999999, 0.0, 18.1, 0.0, 0.74, 6.341, 96.4, 2.072, 24.0, 666.0, 20.2, 318.01, 17.79, 14.9], [9.92485, 0.0, 18.1, 0.0, 0.74, 6.251, 96.6, 2.198, 24.0, 666.0, 20.2, 388.52, 16.44, 12.6], [9.329089999999999, 0.0, 18.1, 0.0, 0.713, 6.185, 98.7, 2.2616, 24.0, 666.0, 20.2, 396.9, 18.13, 14.1], [7.52601, 0.0, 18.1, 0.0, 0.713, 6.417000000000001, 98.3, 2.185, 24.0, 666.0, 20.2, 304.21, 19.31, 13.0], [6.71772, 0.0, 18.1, 0.0, 0.713, 6.749, 92.6, 2.3236, 24.0, 666.0, 20.2, 0.32, 17.44, 13.4], [5.44114, 0.0, 18.1, 0.0, 0.713, 6.655, 98.2, 2.3552, 24.0, 666.0, 20.2, 355.29, 17.73, 15.2], [5.09017, 0.0, 18.1, 0.0, 0.713, 6.297000000000001, 91.8, 2.3682, 24.0, 666.0, 20.2, 385.09, 17.27, 16.1], [8.24809, 0.0, 18.1, 0.0, 0.713, 7.393, 99.3, 2.4527, 24.0, 666.0, 20.2, 375.87, 16.74, 17.8], [9.513630000000001, 0.0, 18.1, 0.0, 0.713, 6.728, 94.1, 2.4961, 24.0, 666.0, 20.2, 6.68, 18.71, 14.9], [4.75237, 0.0, 18.1, 0.0, 0.713, 6.525, 86.5, 2.4358, 24.0, 666.0, 20.2, 50.92, 18.13, 14.1], [4.668830000000001, 0.0, 18.1, 0.0, 0.713, 5.976, 87.9, 2.5806, 24.0, 666.0, 20.2, 10.48, 19.01, 12.7], [8.20058, 0.0, 18.1, 0.0, 0.713, 5.936, 80.3, 2.7792, 24.0, 666.0, 20.2, 3.5, 16.94, 13.5], [7.75223, 0.0, 18.1, 0.0, 0.713, 6.301, 83.7, 2.7831, 24.0, 666.0, 20.2, 272.21, 16.23, 14.9], [6.80117, 0.0, 18.1, 0.0, 0.713, 6.081, 84.4, 2.7175, 24.0, 666.0, 20.2, 396.9, 14.7, 20.0], [4.812130000000001, 0.0, 18.1, 0.0, 0.713, 6.7010000000000005, 90.0, 2.5975, 24.0, 666.0, 20.2, 255.23, 16.42, 16.4], [3.69311, 0.0, 18.1, 0.0, 0.713, 6.376, 88.4, 2.5671, 24.0, 666.0, 20.2, 391.43, 14.65, 17.7], [6.65492, 0.0, 18.1, 0.0, 0.713, 6.317, 83.0, 2.7344, 24.0, 666.0, 20.2, 396.9, 13.99, 19.5], [5.82115, 0.0, 18.1, 0.0, 0.713, 6.513, 89.9, 2.8016, 24.0, 666.0, 20.2, 393.82, 10.29, 20.2], [7.83932, 0.0, 18.1, 0.0, 0.655, 6.209, 65.4, 2.9634, 24.0, 666.0, 20.2, 396.9, 13.22, 21.4], [3.1636, 0.0, 18.1, 0.0, 0.655, 5.7589999999999995, 48.2, 3.0665, 24.0, 666.0, 20.2, 334.4, 14.13, 19.9], [3.7749800000000002, 0.0, 18.1, 0.0, 0.655, 5.952000000000001, 84.7, 2.8715, 24.0, 666.0, 20.2, 22.01, 17.15, 19.0], [4.422280000000001, 0.0, 18.1, 0.0, 0.584, 6.002999999999999, 94.5, 2.5403, 24.0, 666.0, 20.2, 331.29, 21.32, 19.1], [15.5757, 0.0, 18.1, 0.0, 0.58, 5.926, 71.0, 2.9084, 24.0, 666.0, 20.2, 368.74, 18.13, 19.1], [13.0751, 0.0, 18.1, 0.0, 0.58, 5.712999999999999, 56.7, 2.8237, 24.0, 666.0, 20.2, 396.9, 14.76, 20.1], [4.34879, 0.0, 18.1, 0.0, 0.58, 6.167000000000001, 84.0, 3.0334, 24.0, 666.0, 20.2, 396.9, 16.29, 19.9], [4.03841, 0.0, 18.1, 0.0, 0.532, 6.229, 90.7, 3.0993, 24.0, 666.0, 20.2, 395.33, 12.87, 19.6], [3.56868, 0.0, 18.1, 0.0, 0.58, 6.437, 75.0, 2.8965, 24.0, 666.0, 20.2, 393.37, 14.36, 23.2], [4.64689, 0.0, 18.1, 0.0, 0.614, 6.98, 67.6, 2.5329, 24.0, 666.0, 20.2, 374.68, 11.66, 29.8], [8.05579, 0.0, 18.1, 0.0, 0.584, 5.4270000000000005, 95.4, 2.4298, 24.0, 666.0, 20.2, 352.58, 18.14, 13.8], [6.39312, 0.0, 18.1, 0.0, 0.584, 6.162000000000001, 97.4, 2.206, 24.0, 666.0, 20.2, 302.76, 24.1, 13.3], [4.87141, 0.0, 18.1, 0.0, 0.614, 6.484, 93.6, 2.3053, 24.0, 666.0, 20.2, 396.21, 18.68, 16.7], [15.0234, 0.0, 18.1, 0.0, 0.614, 5.303999999999999, 97.3, 2.1007, 24.0, 666.0, 20.2, 349.48, 24.91, 12.0], [10.232999999999999, 0.0, 18.1, 0.0, 0.614, 6.185, 96.7, 2.1705, 24.0, 666.0, 20.2, 379.7, 18.03, 14.6], [14.3337, 0.0, 18.1, 0.0, 0.614, 6.229, 88.0, 1.9512, 24.0, 666.0, 20.2, 383.32, 13.11, 21.4], [5.8240099999999995, 0.0, 18.1, 0.0, 0.532, 6.242000000000001, 64.7, 3.4242, 24.0, 666.0, 20.2, 396.9, 10.74, 23.0], [5.7081800000000005, 0.0, 18.1, 0.0, 0.532, 6.75, 74.9, 3.3317, 24.0, 666.0, 20.2, 393.07, 7.74, 23.7], [5.73116, 0.0, 18.1, 0.0, 0.532, 7.061, 77.0, 3.4106, 24.0, 666.0, 20.2, 395.28, 7.01, 25.0], [2.81838, 0.0, 18.1, 0.0, 0.532, 5.7620000000000005, 40.3, 4.0983, 24.0, 666.0, 20.2, 392.92, 10.42, 21.8], [2.37857, 0.0, 18.1, 0.0, 0.583, 5.871, 41.9, 3.7239999999999998, 24.0, 666.0, 20.2, 370.73, 13.34, 20.6], [3.6736699999999995, 0.0, 18.1, 0.0, 0.583, 6.312, 51.9, 3.9917, 24.0, 666.0, 20.2, 388.62, 10.58, 21.2], [5.69175, 0.0, 18.1, 0.0, 0.583, 6.114, 79.8, 3.5459, 24.0, 666.0, 20.2, 392.68, 14.98, 19.1], [4.8356699999999995, 0.0, 18.1, 0.0, 0.583, 5.905, 53.2, 3.1523, 24.0, 666.0, 20.2, 388.22, 11.45, 20.6], [0.15086, 0.0, 27.74, 0.0, 0.609, 5.454, 92.7, 1.8209, 4.0, 711.0, 20.1, 395.09, 18.06, 15.2], [0.18337, 0.0, 27.74, 0.0, 0.609, 5.414, 98.3, 1.7554, 4.0, 711.0, 20.1, 344.05, 23.97, 7.0], [0.20745999999999998, 0.0, 27.74, 0.0, 0.609, 5.093, 98.0, 1.8226, 4.0, 711.0, 20.1, 318.43, 29.68, 8.1], [0.10574000000000001, 0.0, 27.74, 0.0, 0.609, 5.983, 98.8, 1.8681, 4.0, 711.0, 20.1, 390.11, 18.07, 13.6], [0.11132, 0.0, 27.74, 0.0, 0.609, 5.983, 83.5, 2.1099, 4.0, 711.0, 20.1, 396.9, 13.35, 20.1], [0.17331, 0.0, 9.69, 0.0, 0.585, 5.707000000000001, 54.0, 2.3817, 6.0, 391.0, 19.2, 396.9, 12.01, 21.8], [0.27957, 0.0, 9.69, 0.0, 0.585, 5.926, 42.6, 2.3817, 6.0, 391.0, 19.2, 396.9, 13.59, 24.5], [0.17899, 0.0, 9.69, 0.0, 0.585, 5.67, 28.8, 2.7986, 6.0, 391.0, 19.2, 393.29, 17.6, 23.1], [0.2896, 0.0, 9.69, 0.0, 0.585, 5.39, 72.9, 2.7986, 6.0, 391.0, 19.2, 396.9, 21.14, 19.7], [0.26838, 0.0, 9.69, 0.0, 0.585, 5.794, 70.6, 2.8927, 6.0, 391.0, 19.2, 396.9, 14.1, 18.3], [0.23911999999999997, 0.0, 9.69, 0.0, 0.585, 6.019, 65.3, 2.4091, 6.0, 391.0, 19.2, 396.9, 12.92, 21.2], [0.17783, 0.0, 9.69, 0.0, 0.585, 5.569, 73.5, 2.3999, 6.0, 391.0, 19.2, 395.77, 15.1, 17.5], [0.22438000000000002, 0.0, 9.69, 0.0, 0.585, 6.027, 79.7, 2.4982, 6.0, 391.0, 19.2, 396.9, 14.33, 16.8], [0.06262999999999999, 0.0, 11.93, 0.0, 0.573, 6.593, 69.1, 2.4786, 1.0, 273.0, 21.0, 391.99, 9.67, 22.4], [0.04527, 0.0, 11.93, 0.0, 0.573, 6.12, 76.7, 2.2875, 1.0, 273.0, 21.0, 396.9, 9.08, 20.6], [0.06076, 0.0, 11.93, 0.0, 0.573, 6.976, 91.0, 2.1675, 1.0, 273.0, 21.0, 396.9, 5.64, 23.9], [0.10959, 0.0, 11.93, 0.0, 0.573, 6.794, 89.3, 2.3889, 1.0, 273.0, 21.0, 393.45, 6.48, 22.0], [0.04741, 0.0, 11.93, 0.0, 0.573, 6.03, 80.8, 2.505, 1.0, 273.0, 21.0, 396.9, 7.88, 11.9]]\n"
          ],
          "name": "stdout"
        }
      ]
    },
    {
      "cell_type": "markdown",
      "metadata": {
        "id": "N7gkcgZWP9uu",
        "colab_type": "text"
      },
      "source": [
        "## 获取给定条件的行和列\n"
      ]
    },
    {
      "cell_type": "code",
      "metadata": {
        "id": "sD3F2_O2QC8t",
        "colab_type": "code",
        "outputId": "afb005dd-2b79-4e4f-f32e-7be187616fb7",
        "colab": {
          "base_uri": "https://localhost:8080/",
          "height": 53
        }
      },
      "source": [
        "import numpy as np\n",
        "df = pd.read_csv('https://raw.githubusercontent.com/selva86/datasets/master/Cars93_miss.csv')\n",
        "\n",
        "#获取最大值的行和列\n",
        "row,col = np.where(df.values == np.max(df.Price))\n",
        "print(row,col)\n",
        "row"
      ],
      "execution_count": 4,
      "outputs": [
        {
          "output_type": "stream",
          "text": [
            "[58] [4]\n"
          ],
          "name": "stdout"
        },
        {
          "output_type": "execute_result",
          "data": {
            "text/plain": [
              "array([58])"
            ]
          },
          "metadata": {
            "tags": []
          },
          "execution_count": 4
        }
      ]
    },
    {
      "cell_type": "markdown",
      "metadata": {
        "id": "7wwGCc05UOSt",
        "colab_type": "text"
      },
      "source": [
        "## 检查dataframe中是否有缺失值"
      ]
    },
    {
      "cell_type": "code",
      "metadata": {
        "id": "2T8GjbLdUYA4",
        "colab_type": "code",
        "outputId": "81de021e-8624-4aeb-d7d0-6117350e7437",
        "colab": {
          "base_uri": "https://localhost:8080/",
          "height": 35
        }
      },
      "source": [
        "df = pd.read_csv('https://raw.githubusercontent.com/selva86/datasets/master/Cars93_miss.csv')\n",
        "#若有缺失值则为True\n",
        "df.isnull().values.any()"
      ],
      "execution_count": 5,
      "outputs": [
        {
          "output_type": "execute_result",
          "data": {
            "text/plain": [
              "True"
            ]
          },
          "metadata": {
            "tags": []
          },
          "execution_count": 5
        }
      ]
    },
    {
      "cell_type": "markdown",
      "metadata": {
        "id": "3U7AYjaIVMsr",
        "colab_type": "text"
      },
      "source": [
        "## 统计dataframe中每列的缺失值个数"
      ]
    },
    {
      "cell_type": "code",
      "metadata": {
        "id": "aTmKMeQAVMA4",
        "colab_type": "code",
        "outputId": "88c93ec3-755f-475b-e794-24e8e06cf096",
        "colab": {
          "base_uri": "https://localhost:8080/",
          "height": 125
        }
      },
      "source": [
        "df = pd.read_csv('https://raw.githubusercontent.com/selva86/datasets/master/Cars93_miss.csv')\n",
        "\n",
        "#获取每列的缺失值个数\n",
        "n_missing_each_col = df.apply(lambda x: x.isnull().sum())\n",
        "print(n_missing_each_col.head())"
      ],
      "execution_count": 6,
      "outputs": [
        {
          "output_type": "stream",
          "text": [
            "Manufacturer    4\n",
            "Model           1\n",
            "Type            3\n",
            "Min.Price       7\n",
            "Price           2\n",
            "dtype: int64\n"
          ],
          "name": "stdout"
        }
      ]
    },
    {
      "cell_type": "markdown",
      "metadata": {
        "id": "HhbjsMIOWCzo",
        "colab_type": "text"
      },
      "source": [
        "## 利用平均值替换相应列的缺失值"
      ]
    },
    {
      "cell_type": "code",
      "metadata": {
        "id": "2ZI_SjbnWN-X",
        "colab_type": "code",
        "outputId": "0a7458dd-905e-4573-decc-0765497f50ac",
        "colab": {
          "base_uri": "https://localhost:8080/",
          "height": 233
        }
      },
      "source": [
        "df = pd.read_csv('https://raw.githubusercontent.com/selva86/datasets/master/Cars93_miss.csv',nrows=10)\n",
        "print(df[['Min.Price','Max.Price']].head())\n",
        "#平均值替换缺失值\n",
        "df_out = df[['Min.Price','Max.Price']] = df[['Min.Price','Max.Price']].apply(lambda x:x.fillna(x.mean()))\n",
        "print(df_out.head())"
      ],
      "execution_count": 7,
      "outputs": [
        {
          "output_type": "stream",
          "text": [
            "   Min.Price  Max.Price\n",
            "0       12.9       18.8\n",
            "1       29.2       38.7\n",
            "2       25.9       32.3\n",
            "3        NaN       44.6\n",
            "4        NaN        NaN\n",
            "   Min.Price  Max.Price\n",
            "0       12.9       18.8\n",
            "1       29.2       38.7\n",
            "2       25.9       32.3\n",
            "3       23.0       44.6\n",
            "4       23.0       29.9\n"
          ],
          "name": "stdout"
        }
      ]
    },
    {
      "cell_type": "markdown",
      "metadata": {
        "id": "pN5QslQIZB7k",
        "colab_type": "text"
      },
      "source": [
        "## 如何以dataframe形式选择特定列"
      ]
    },
    {
      "cell_type": "code",
      "metadata": {
        "id": "v6FZ9RlGZKog",
        "colab_type": "code",
        "colab": {
          "base_uri": "https://localhost:8080/",
          "height": 35
        },
        "outputId": "b77db951-34ce-44f9-b751-65d60d1137cc"
      },
      "source": [
        "df = pd.DataFrame(np.arange(20).reshape(-1,5),columns=list('abcde'))\n",
        "\n",
        "#以dataframe形式选择特定的列\n",
        "type(df[['a']])\n",
        "type(df.loc[:,['a']])\n",
        "print(type(df.iloc[:,[0]]))"
      ],
      "execution_count": 9,
      "outputs": [
        {
          "output_type": "stream",
          "text": [
            "<class 'pandas.core.frame.DataFrame'>\n"
          ],
          "name": "stdout"
        }
      ]
    },
    {
      "cell_type": "markdown",
      "metadata": {
        "id": "llCLrttiV_wq",
        "colab_type": "text"
      },
      "source": [
        "## 格式化dataframe的值"
      ]
    },
    {
      "cell_type": "code",
      "metadata": {
        "id": "vj9IwcjIWEcd",
        "colab_type": "code",
        "colab": {
          "base_uri": "https://localhost:8080/",
          "height": 197
        },
        "outputId": "e29f8d7a-2272-49ff-fa21-eba99f918408"
      },
      "source": [
        "df = pd.DataFrame(np.random.random(4)**10,columns=['random'])\n",
        "print(df)\n",
        "#显示小数点后4位\n",
        "df.apply(lambda x: '%.4f'%x,axis=1)\n",
        "print(df)"
      ],
      "execution_count": 10,
      "outputs": [
        {
          "output_type": "stream",
          "text": [
            "         random\n",
            "0  5.393738e-06\n",
            "1  3.002297e-10\n",
            "2  6.108309e-04\n",
            "3  1.199047e-02\n",
            "         random\n",
            "0  5.393738e-06\n",
            "1  3.002297e-10\n",
            "2  6.108309e-04\n",
            "3  1.199047e-02\n"
          ],
          "name": "stdout"
        }
      ]
    },
    {
      "cell_type": "markdown",
      "metadata": {
        "id": "MsB79G2JZAmq",
        "colab_type": "text"
      },
      "source": [
        "## 如何得到列中前n个最大值最大的索引"
      ]
    },
    {
      "cell_type": "code",
      "metadata": {
        "id": "YoF6FsnhZJ39",
        "colab_type": "code",
        "colab": {
          "base_uri": "https://localhost:8080/",
          "height": 197
        },
        "outputId": "0a347ab3-2995-42dd-e5fb-3b2fcc15a2c9"
      },
      "source": [
        "df = pd.DataFrame(np.random.randint(1,15,15).reshape(5,-1),columns=list('abc'))\n",
        "print(df)\n",
        "#取'a'列前三个最大值对应的行\n",
        "n = 5\n",
        "df['a'].argsort()[::-1].iloc[:3]"
      ],
      "execution_count": 11,
      "outputs": [
        {
          "output_type": "stream",
          "text": [
            "    a   b   c\n",
            "0  12   1   3\n",
            "1  12   4  13\n",
            "2  11   5  12\n",
            "3   1  13   9\n",
            "4   6  12   4\n"
          ],
          "name": "stdout"
        },
        {
          "output_type": "execute_result",
          "data": {
            "text/plain": [
              "4    1\n",
              "3    0\n",
              "2    2\n",
              "Name: a, dtype: int64"
            ]
          },
          "metadata": {
            "tags": []
          },
          "execution_count": 11
        }
      ]
    },
    {
      "cell_type": "markdown",
      "metadata": {
        "id": "_AWA2vvzav05",
        "colab_type": "text"
      },
      "source": [
        "## 如何获得dataframe行的和大于100的最末n行索引"
      ]
    },
    {
      "cell_type": "code",
      "metadata": {
        "id": "f4kEdqWna72w",
        "colab_type": "code",
        "colab": {
          "base_uri": "https://localhost:8080/",
          "height": 233
        },
        "outputId": "1c26a270-c9a8-46e2-dfaf-05562442b7ce"
      },
      "source": [
        "df = pd.DataFrame(np.random.randint(10,40,16).reshape(-1,4))\n",
        "\n",
        "print(df)\n",
        "#datframe每行的和\n",
        "rowsums = df.apply(np.sum,axis=1)\n",
        "print(rowsums)\n",
        "\n",
        "#选取大于100的最末两行索引\n",
        "nline = np.where(rowsums>100)\n",
        "print(nline)#返回符合条件的坐标，第一个array表示行坐标，第二个array表示列坐标\n",
        "nline = nline[0][-2:]\n",
        "nline"
      ],
      "execution_count": 13,
      "outputs": [
        {
          "output_type": "stream",
          "text": [
            "    0   1   2   3\n",
            "0  39  23  15  24\n",
            "1  21  28  16  20\n",
            "2  15  13  27  21\n",
            "3  39  27  37  33\n",
            "0    101\n",
            "1     85\n",
            "2     76\n",
            "3    136\n",
            "dtype: int64\n",
            "(array([0, 3]),)\n"
          ],
          "name": "stdout"
        },
        {
          "output_type": "execute_result",
          "data": {
            "text/plain": [
              "array([0, 3])"
            ]
          },
          "metadata": {
            "tags": []
          },
          "execution_count": 13
        }
      ]
    },
    {
      "cell_type": "markdown",
      "metadata": {
        "id": "Uj8t0B4zfaQS",
        "colab_type": "text"
      },
      "source": [
        "## 如何获取dataframe行方向上最大值个数最多的列"
      ]
    },
    {
      "cell_type": "code",
      "metadata": {
        "id": "ZnmSEVsDfjzc",
        "colab_type": "code",
        "colab": {
          "base_uri": "https://localhost:8080/",
          "height": 323
        },
        "outputId": "b94370cd-08e6-4c67-b219-071b245397bc"
      },
      "source": [
        "df = pd.DataFrame(np.random.randint(1,100,9).reshape(3,-1))\n",
        "print(df)\n",
        "#获取每列包含的行方向上最大值的个数\n",
        "count_series = df.apply(np.argmax,axis=1)#按行查找最大元素,返回每行最大值所在的列\n",
        "print(count_series)\n",
        "#对列进行计数，默认从高到底排序\n",
        "count_series = count_series.value_counts()\n",
        "#输出行方向最大值个数最多的列的索引\n",
        "print('Column with highest row maxes: ',count_series.index[0])"
      ],
      "execution_count": 17,
      "outputs": [
        {
          "output_type": "stream",
          "text": [
            "    0   1   2\n",
            "0  94  95  29\n",
            "1  12  51  65\n",
            "2  59  66  20\n",
            "0    1\n",
            "1    2\n",
            "2    1\n",
            "dtype: int64\n",
            "Column with highest row maxes:  1\n"
          ],
          "name": "stdout"
        },
        {
          "output_type": "stream",
          "text": [
            "/usr/local/lib/python3.6/dist-packages/numpy/core/fromnumeric.py:56: FutureWarning: \n",
            "The current behaviour of 'Series.argmax' is deprecated, use 'idxmax'\n",
            "instead.\n",
            "The behavior of 'argmax' will be corrected to return the positional\n",
            "maximum in the future. For now, use 'series.values.argmax' or\n",
            "'np.argmax(np.array(values))' to get the position of the maximum\n",
            "row.\n",
            "  return getattr(obj, method)(*args, **kwds)\n"
          ],
          "name": "stderr"
        }
      ]
    },
    {
      "cell_type": "markdown",
      "metadata": {
        "id": "jJ7jJP1Fl9BQ",
        "colab_type": "text"
      },
      "source": [
        "## 归一化dataframe的所有列"
      ]
    },
    {
      "cell_type": "code",
      "metadata": {
        "id": "vz5pSnTcmFyY",
        "colab_type": "code",
        "colab": {
          "base_uri": "https://localhost:8080/",
          "height": 377
        },
        "outputId": "da89c2a3-1309-4304-f256-ae367f1e70ec"
      },
      "source": [
        "df = pd.DataFrame(np.random.randint(1,100,80).reshape(8,-1))\n",
        "\n",
        "#正态分布归一化\n",
        "out1 = df.apply(lambda x:((x-x.mean())/x.std()).round(2))\n",
        "print('Solution Q1\\n',out1)\n",
        "\n",
        "#线性归一化\n",
        "out2 = df.apply(lambda x:((x.max()-x)/(x.max()-x.min())).round(2))#保留两个小数点\n",
        "print(\"Solution Q2\\n\",out2)"
      ],
      "execution_count": 19,
      "outputs": [
        {
          "output_type": "stream",
          "text": [
            "Solution Q1\n",
            "       0     1     2     3     4     5     6     7     8     9\n",
            "0 -0.48 -0.42  1.12  1.16 -1.12  1.32 -0.79 -0.82 -1.60 -0.61\n",
            "1 -0.76  1.58 -2.17 -0.54  0.55 -1.63 -0.06  0.12  0.94  0.59\n",
            "2 -0.71 -1.19 -0.14  0.78  0.29 -1.07  0.18 -1.25  0.54 -0.61\n",
            "3 -0.42  0.92 -0.30  0.06  1.47  0.69 -1.33  1.01 -0.89 -0.09\n",
            "4  1.61 -1.27  0.41  1.01 -1.10  0.17 -0.06 -1.28 -0.97 -1.90\n",
            "5 -0.82 -0.27  0.78 -0.81 -0.81 -0.55  2.05  0.24  0.90  0.91\n",
            "6  1.50  0.03 -0.10 -1.75  1.10  0.35 -0.42  0.87  0.26  0.88\n",
            "7  0.08  0.62  0.41  0.10 -0.37  0.73  0.42  1.12  0.82  0.82\n",
            "Solution Q2\n",
            "       0     1     2     3     4     5     6     7     8     9\n",
            "0  0.86  0.70  0.00  0.00  1.00  0.00  0.84  0.81  1.00  0.54\n",
            "1  0.98  0.00  1.00  0.58  0.36  1.00  0.62  0.42  0.00  0.11\n",
            "2  0.95  0.97  0.38  0.13  0.46  0.81  0.55  0.99  0.16  0.54\n",
            "3  0.84  0.23  0.43  0.38  0.00  0.21  1.00  0.05  0.72  0.36\n",
            "4  0.00  1.00  0.22  0.05  0.99  0.39  0.62  1.00  0.75  1.00\n",
            "5  1.00  0.65  0.10  0.68  0.88  0.64  0.00  0.37  0.02  0.00\n",
            "6  0.05  0.55  0.37  1.00  0.14  0.33  0.73  0.11  0.27  0.01\n",
            "7  0.63  0.34  0.22  0.36  0.71  0.20  0.48  0.00  0.05  0.03\n"
          ],
          "name": "stdout"
        }
      ]
    },
    {
      "cell_type": "markdown",
      "metadata": {
        "id": "NF-gzfBGpRIR",
        "colab_type": "text"
      },
      "source": [
        "## 如何得到按列分组的dataframe的平均值和标准差"
      ]
    },
    {
      "cell_type": "code",
      "metadata": {
        "id": "Su6Y98sppcFE",
        "colab_type": "code",
        "colab": {
          "base_uri": "https://localhost:8080/",
          "height": 323
        },
        "outputId": "cc6fd9cc-232d-44fa-8797-675031476bdf"
      },
      "source": [
        "df = pd.DataFrame({'col1': ['apple','banana','orange']*2,\n",
        "          'col2': np.random.randint(0,15,6),\n",
        "          'col3': np.random.randint(0,15,6)})\n",
        "print(df)\n",
        "#按列col1分组后的平均值\n",
        "df_grouped_mean = df.groupby(['col1']).mean()\n",
        "print(df_grouped_mean)\n",
        "#按列col1分组后的标准差\n",
        "df_group_std = df.groupby(['col1']).std()\n",
        "print(df_group_std)"
      ],
      "execution_count": 22,
      "outputs": [
        {
          "output_type": "stream",
          "text": [
            "     col1  col2  col3\n",
            "0   apple    13     6\n",
            "1  banana     2    12\n",
            "2  orange     9     8\n",
            "3   apple    13     1\n",
            "4  banana    14     3\n",
            "5  orange     1     9\n",
            "        col2  col3\n",
            "col1              \n",
            "apple   13.0   3.5\n",
            "banana   8.0   7.5\n",
            "orange   5.0   8.5\n",
            "            col2      col3\n",
            "col1                      \n",
            "apple   0.000000  3.535534\n",
            "banana  8.485281  6.363961\n",
            "orange  5.656854  0.707107\n"
          ],
          "name": "stdout"
        }
      ]
    },
    {
      "cell_type": "markdown",
      "metadata": {
        "id": "mYF3HY5qs233",
        "colab_type": "text"
      },
      "source": [
        "## 如何计算分组dataframe的平均值，并将分组列保留为另一列"
      ]
    },
    {
      "cell_type": "code",
      "metadata": {
        "id": "d2cr2GqutFAV",
        "colab_type": "code",
        "colab": {
          "base_uri": "https://localhost:8080/",
          "height": 89
        },
        "outputId": "90382d2a-a168-46af-d3da-8aa2a3c417c5"
      },
      "source": [
        "df = pd.DataFrame({'fruit': ['apple', 'banana', 'orange'] * 2,\n",
        "                'rating': np.random.rand(6),\n",
        "                'price': np.random.randint(0, 15, 6)})\n",
        "#按fruit分组后，price列的平均值，并将分组置为一列\n",
        "out = df.groupby('fruit',as_index=False)['price'].mean()\n",
        "print(out)"
      ],
      "execution_count": 23,
      "outputs": [
        {
          "output_type": "stream",
          "text": [
            "    fruit  price\n",
            "0   apple    6.5\n",
            "1  banana    7.5\n",
            "2  orange    7.0\n"
          ],
          "name": "stdout"
        }
      ]
    }
  ]
}
>>>>>>> a15fa554677bbd505062548d28e760ea964b7765
