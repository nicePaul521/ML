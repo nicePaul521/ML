{
  "nbformat": 4,
  "nbformat_minor": 0,
  "metadata": {
    "colab": {
      "name": "numpy.ipynb",
      "provenance": [],
      "collapsed_sections": [
        "ApGT-n2H6tis",
        "VFiHU-sB65Yg",
        "0hDty63OB3wr",
        "tOAUTJCKQlEA",
        "LevVYUwASu71",
        "as_YqOKHJ66q",
        "xn5gAGPHWLqn",
        "7XQMnS4RaKCD",
        "UqhpbKzqeHRT",
        "EaFFP0QSiICy",
        "I7DARpC1O0Hb",
        "TAN0b5kuSn8x",
        "QUfSKfh2e4e_"
      ],
      "include_colab_link": true
    },
    "kernelspec": {
      "name": "python3",
      "display_name": "Python 3"
    },
    "accelerator": "GPU"
  },
  "cells": [
    {
      "cell_type": "markdown",
      "metadata": {
        "id": "view-in-github",
        "colab_type": "text"
      },
      "source": [
        "<a href=\"https://colab.research.google.com/github/nicePaul521/ML/blob/master/numpy.ipynb\" target=\"_parent\"><img src=\"https://colab.research.google.com/assets/colab-badge.svg\" alt=\"Open In Colab\"/></a>"
      ]
    },
    {
      "cell_type": "markdown",
      "metadata": {
        "id": "ApGT-n2H6tis",
        "colab_type": "text"
      },
      "source": [
        "## 1.如何构建numpy数组"
      ]
    },
    {
      "cell_type": "code",
      "metadata": {
        "id": "i16-ly5BzhXP",
        "colab_type": "code",
        "outputId": "488be636-1d67-42a3-821f-f7ac5974c74c",
        "colab": {
          "base_uri": "https://localhost:8080/"
        }
      },
      "source": [
        "import numpy as np\n",
        "#t通过列表创建一维数组\n",
        "list1 = [0,1,2,3,4]\n",
        "arrld = np.array(list1)\n",
        "print(type(arrld))#打印类型\n",
        "arrld"
      ],
      "execution_count": 0,
      "outputs": [
        {
          "output_type": "stream",
          "text": [
            "<class 'numpy.ndarray'>\n"
          ],
          "name": "stdout"
        },
        {
          "output_type": "execute_result",
          "data": {
            "text/plain": [
              "array([0, 1, 2, 3, 4])"
            ]
          },
          "metadata": {
            "tags": []
          },
          "execution_count": 2
        }
      ]
    },
    {
      "cell_type": "markdown",
      "metadata": {
        "id": "PB2Q-TwY1GF8",
        "colab_type": "text"
      },
      "source": [
        "数组是基于向量化操作的，在实际的项目处理中，处理的数据结构一般是矩阵结构，函数可以引用带数组的每一项，而列表不行。"
      ]
    },
    {
      "cell_type": "code",
      "metadata": {
        "id": "S72YCOhO0eeO",
        "colab_type": "code",
        "outputId": "7f7b6258-bd44-4958-b1d5-eb92c91f7b61",
        "colab": {
          "base_uri": "https://localhost:8080/"
        }
      },
      "source": [
        "#numpy可以通过列表中的中的列表来创建二维数组\n",
        "list2 = [[0,1,2],[3,4,5],[6,7,8]]\n",
        "arr2d = np.array(list2)\n",
        "arr2d"
      ],
      "execution_count": 0,
      "outputs": [
        {
          "output_type": "execute_result",
          "data": {
            "text/plain": [
              "array([[0, 1, 2],\n",
              "       [3, 4, 5],\n",
              "       [6, 7, 8]])"
            ]
          },
          "metadata": {
            "tags": []
          },
          "execution_count": 3
        }
      ]
    },
    {
      "cell_type": "markdown",
      "metadata": {
        "id": "mQ--SYIb2AdE",
        "colab_type": "text"
      },
      "source": [
        "可以通过dtype参数来指定数组类型，一般常用的numpy类型是：float,int,bool,str,object."
      ]
    },
    {
      "cell_type": "code",
      "metadata": {
        "id": "XY0gFeTX2Teg",
        "colab_type": "code",
        "outputId": "949ae436-46b4-4f3f-a087-10b223557f6f",
        "colab": {
          "base_uri": "https://localhost:8080/"
        }
      },
      "source": [
        "arr2d_f = np.array(list2,dtype='float')\n",
        "arr2d_f"
      ],
      "execution_count": 0,
      "outputs": [
        {
          "output_type": "execute_result",
          "data": {
            "text/plain": [
              "array([[0., 1., 2.],\n",
              "       [3., 4., 5.],\n",
              "       [6., 7., 8.]])"
            ]
          },
          "metadata": {
            "tags": []
          },
          "execution_count": 4
        }
      ]
    },
    {
      "cell_type": "markdown",
      "metadata": {
        "id": "FbziLL8n2lC1",
        "colab_type": "text"
      },
      "source": [
        "也可以通过astype方法转换成不同的类型"
      ]
    },
    {
      "cell_type": "code",
      "metadata": {
        "id": "Z4_8itC42wPr",
        "colab_type": "code",
        "outputId": "836a6ef3-f4bb-45c2-961e-7e1279587b69",
        "colab": {
          "base_uri": "https://localhost:8080/"
        }
      },
      "source": [
        "#转换成int类型,在转换成str类型\n",
        "arr2d_f.astype('int').astype('str')"
      ],
      "execution_count": 0,
      "outputs": [
        {
          "output_type": "execute_result",
          "data": {
            "text/plain": [
              "array([['0', '1', '2'],\n",
              "       ['3', '4', '5'],\n",
              "       ['6', '7', '8']], dtype='<U21')"
            ]
          },
          "metadata": {
            "tags": []
          },
          "execution_count": 5
        }
      ]
    },
    {
      "cell_type": "markdown",
      "metadata": {
        "id": "x7fvcMMz4m1k",
        "colab_type": "text"
      },
      "source": [
        "数组要求所有项时同一个类型，list没有这个限制，如果让一个数组包含不同类型，设置dtype为object"
      ]
    },
    {
      "cell_type": "code",
      "metadata": {
        "id": "HKs5UVo039dd",
        "colab_type": "code",
        "outputId": "6bb76b63-1065-4a8f-ef2b-e3b86cdf1977",
        "colab": {
          "base_uri": "https://localhost:8080/"
        }
      },
      "source": [
        "arr2d_b = np.array([1,0,10],dtype='bool')#构建布尔类型数组\n",
        "print(arr2d_b)\n",
        "#构建包含数值和字符串的数组\n",
        "arr1d_obj = np.array([1,'a'],dtype='object')\n",
        "arr1d_obj\n"
      ],
      "execution_count": 0,
      "outputs": [
        {
          "output_type": "stream",
          "text": [
            "[ True False  True]\n"
          ],
          "name": "stdout"
        },
        {
          "output_type": "execute_result",
          "data": {
            "text/plain": [
              "array([1, 'a'], dtype=object)"
            ]
          },
          "metadata": {
            "tags": []
          },
          "execution_count": 6
        }
      ]
    },
    {
      "cell_type": "markdown",
      "metadata": {
        "id": "tU8zQhyy5juM",
        "colab_type": "text"
      },
      "source": [
        "使用tolist（）函数使数组转为列表"
      ]
    },
    {
      "cell_type": "code",
      "metadata": {
        "id": "vOeRMN4t5jHl",
        "colab_type": "code",
        "outputId": "568e9e10-6b1b-4edb-c463-da43077bf4cf",
        "colab": {
          "base_uri": "https://localhost:8080/"
        }
      },
      "source": [
        "arr1d_obj.tolist()"
      ],
      "execution_count": 0,
      "outputs": [
        {
          "output_type": "execute_result",
          "data": {
            "text/plain": [
              "[1, 'a']"
            ]
          },
          "metadata": {
            "tags": []
          },
          "execution_count": 7
        }
      ]
    },
    {
      "cell_type": "markdown",
      "metadata": {
        "id": "TMKObrbF59Rt",
        "colab_type": "text"
      },
      "source": [
        "数组与列表的区别：\n",
        "\n",
        "\n",
        "1.   数组支持向量化操作，列表不支持\n",
        "2.   数组不能改变长度，列表可以\n",
        "3.   数组每一项都是同种类型，列表有多种类型\n",
        "4.   同样长度的数组所占的空间小于列表\n",
        "\n"
      ]
    },
    {
      "cell_type": "markdown",
      "metadata": {
        "id": "VFiHU-sB65Yg",
        "colab_type": "text"
      },
      "source": [
        "## 2.如何观察数组属性的大小与形状"
      ]
    },
    {
      "cell_type": "markdown",
      "metadata": {
        "id": "7nGrYKTB7TxE",
        "colab_type": "text"
      },
      "source": [
        "数组的属性包括：\n",
        "*   数组的维度（ndim）\n",
        "*   数组的形状（shape）\n",
        "*   数组的类型（dtype）\n",
        "\n",
        "*   数组的大小（size）\n",
        "\n",
        "\n",
        "\n"
      ]
    },
    {
      "cell_type": "code",
      "metadata": {
        "id": "0r-WJxJ87INC",
        "colab_type": "code",
        "outputId": "e35aa10f-73d1-40b8-a400-a3d757d65467",
        "colab": {
          "base_uri": "https://localhost:8080/",
          "height": 71
        }
      },
      "source": [
        "#定义3行4列的二维数组\n",
        "list2 = [[1,2,3,4],[3,4,5,6],[5,6,7,8]]\n",
        "arr2 = np.array(list2,dtype='float')\n",
        "arr2"
      ],
      "execution_count": 0,
      "outputs": [
        {
          "output_type": "execute_result",
          "data": {
            "text/plain": [
              "array([[1., 2., 3., 4.],\n",
              "       [3., 4., 5., 6.],\n",
              "       [5., 6., 7., 8.]])"
            ]
          },
          "metadata": {
            "tags": []
          },
          "execution_count": 8
        }
      ]
    },
    {
      "cell_type": "code",
      "metadata": {
        "id": "hXBS19yo97NE",
        "colab_type": "code",
        "outputId": "12a514d6-9397-4c61-d94a-29c4f22b408f",
        "colab": {
          "base_uri": "https://localhost:8080/",
          "height": 107
        }
      },
      "source": [
        "#形状（shape）\n",
        "print('Shape:',arr2.shape)\n",
        "#数组类型（dtype）\n",
        "print('Datatype:',arr2.dtype)\n",
        "#数组大小（size）\n",
        "print('Size:',arr2.size)\n",
        "#数组维度\n",
        "print('Num Dimensions:',arr2.ndim)\n",
        "#数组的第三行三列元素\n",
        "print('item of 3 line 3 column:',arr2[2,2])"
      ],
      "execution_count": 0,
      "outputs": [
        {
          "output_type": "stream",
          "text": [
            "Shape: (3, 4)\n",
            "Datatype: float64\n",
            "Size: 12\n",
            "Num Dimensions: 2\n",
            "item of 3 line 3 column: 7.0\n"
          ],
          "name": "stdout"
        }
      ]
    },
    {
      "cell_type": "markdown",
      "metadata": {
        "id": "0hDty63OB3wr",
        "colab_type": "text"
      },
      "source": [
        "## 3.如何从数组中提取特定项"
      ]
    },
    {
      "cell_type": "markdown",
      "metadata": {
        "id": "a9WT-QldCSNz",
        "colab_type": "text"
      },
      "source": [
        "数组的索引是从0开始计数，与list类似，numpy数组通过方括号的参数以选择特定的元素\n",
        "\n"
      ]
    },
    {
      "cell_type": "code",
      "metadata": {
        "id": "ay4_iZrXCGcU",
        "colab_type": "code",
        "outputId": "61f6c2ea-4069-4ab0-f822-ec08c67eaea3",
        "colab": {
          "base_uri": "https://localhost:8080/"
        }
      },
      "source": [
        "#选择矩阵的前两行，两列\n",
        "arr2[:2,:2]"
      ],
      "execution_count": 0,
      "outputs": [
        {
          "output_type": "execute_result",
          "data": {
            "text/plain": [
              "array([[1., 2.],\n",
              "       [3., 4.]])"
            ]
          },
          "metadata": {
            "tags": []
          },
          "execution_count": 10
        }
      ]
    },
    {
      "cell_type": "markdown",
      "metadata": {
        "id": "KzFrH0bHGyST",
        "colab_type": "text"
      },
      "source": [
        "布尔类型的数组与过滤前的数组大小相等，布尔类型数组只包含True和False变量，True变量对应的数组索引位置保留了过滤前的值"
      ]
    },
    {
      "cell_type": "code",
      "metadata": {
        "id": "k9mlUgXoHOsk",
        "colab_type": "code",
        "outputId": "a8e9a581-1db5-4a87-a4b0-16ee687cb61c",
        "colab": {
          "base_uri": "https://localhost:8080/"
        }
      },
      "source": [
        "#对数组的每一元素是否满足某一条件，然后获取布尔类型的输出\n",
        "b = arr2>4\n",
        "b"
      ],
      "execution_count": 0,
      "outputs": [
        {
          "output_type": "execute_result",
          "data": {
            "text/plain": [
              "array([[False, False, False, False],\n",
              "       [False, False,  True,  True],\n",
              "       [ True,  True,  True,  True]])"
            ]
          },
          "metadata": {
            "tags": []
          },
          "execution_count": 11
        }
      ]
    },
    {
      "cell_type": "code",
      "metadata": {
        "id": "CGyZjLUwHu20",
        "colab_type": "code",
        "outputId": "267945c7-e2ea-4fe7-ab7c-4b5bacb0488f",
        "colab": {
          "base_uri": "https://localhost:8080/"
        }
      },
      "source": [
        "#取布尔型数组保留的原始数组的值,即是过滤后的数组\n",
        "arr2[b]"
      ],
      "execution_count": 0,
      "outputs": [
        {
          "output_type": "execute_result",
          "data": {
            "text/plain": [
              "array([5., 6., 5., 6., 7., 8.])"
            ]
          },
          "metadata": {
            "tags": []
          },
          "execution_count": 12
        }
      ]
    },
    {
      "cell_type": "markdown",
      "metadata": {
        "id": "gQdDnzo2IIvL",
        "colab_type": "text"
      },
      "source": [
        "数组的反转"
      ]
    },
    {
      "cell_type": "code",
      "metadata": {
        "id": "P5y-794KIIMN",
        "colab_type": "code",
        "outputId": "aaa7a7ea-9c7e-4ac2-cd1f-5b326c1a0430",
        "colab": {
          "base_uri": "https://localhost:8080/"
        }
      },
      "source": [
        "#反转数组的行\n",
        "arr2[::-1,]"
      ],
      "execution_count": 0,
      "outputs": [
        {
          "output_type": "execute_result",
          "data": {
            "text/plain": [
              "array([[5., 6., 7., 8.],\n",
              "       [3., 4., 5., 6.],\n",
              "       [1., 2., 3., 4.]])"
            ]
          },
          "metadata": {
            "tags": []
          },
          "execution_count": 13
        }
      ]
    },
    {
      "cell_type": "code",
      "metadata": {
        "id": "z48a5Z31IXw1",
        "colab_type": "code",
        "outputId": "e161678d-e884-41bb-afb2-175d0210e014",
        "colab": {
          "base_uri": "https://localhost:8080/"
        }
      },
      "source": [
        "#反转数组的行和列\n",
        "arr2[::-1,::-1]"
      ],
      "execution_count": 0,
      "outputs": [
        {
          "output_type": "execute_result",
          "data": {
            "text/plain": [
              "array([[8., 7., 6., 5.],\n",
              "       [6., 5., 4., 3.],\n",
              "       [4., 3., 2., 1.]])"
            ]
          },
          "metadata": {
            "tags": []
          },
          "execution_count": 14
        }
      ]
    },
    {
      "cell_type": "markdown",
      "metadata": {
        "id": "n55jTHTaKTpl",
        "colab_type": "text"
      },
      "source": [
        "处理缺失值和无穷大值，缺失值可以用np.nan对象表示，np.inf表示无穷大值"
      ]
    },
    {
      "cell_type": "code",
      "metadata": {
        "id": "B5TDje-gKQgd",
        "colab_type": "code",
        "outputId": "b90ca892-9590-4a77-a513-7eec8b83c442",
        "colab": {
          "base_uri": "https://localhost:8080/"
        }
      },
      "source": [
        "#插入nan变量和inf变量\n",
        "arr2[1,1] = np.nan\n",
        "arr2[1,2] = np.inf\n",
        "arr2"
      ],
      "execution_count": 0,
      "outputs": [
        {
          "output_type": "execute_result",
          "data": {
            "text/plain": [
              "array([[ 1.,  2.,  3.,  4.],\n",
              "       [ 3., nan, inf,  6.],\n",
              "       [ 5.,  6.,  7.,  8.]])"
            ]
          },
          "metadata": {
            "tags": []
          },
          "execution_count": 15
        }
      ]
    },
    {
      "cell_type": "code",
      "metadata": {
        "id": "KlCzj6wALNpt",
        "colab_type": "code",
        "outputId": "52ad3939-c610-43ba-9c88-0e84369d9368",
        "colab": {
          "base_uri": "https://localhost:8080/"
        }
      },
      "source": [
        "#使用-1代替nan和inf值\n",
        "missing_bool = np.isnan(arr2)|np.isinf(arr2)\n",
        "arr2[missing_bool] = -1\n",
        "arr2"
      ],
      "execution_count": 0,
      "outputs": [
        {
          "output_type": "execute_result",
          "data": {
            "text/plain": [
              "array([[ 1.,  2.,  3.,  4.],\n",
              "       [ 3., -1., -1.,  6.],\n",
              "       [ 5.,  6.,  7.,  8.]])"
            ]
          },
          "metadata": {
            "tags": []
          },
          "execution_count": 16
        }
      ]
    },
    {
      "cell_type": "code",
      "metadata": {
        "id": "dlEAFY7CNkhl",
        "colab_type": "code",
        "outputId": "bd47417a-4893-4293-c648-97468ba5930d",
        "colab": {
          "base_uri": "https://localhost:8080/"
        }
      },
      "source": [
        "#求平均值，最大值，最小值\n",
        "print(\"Mean value is: \",arr2.mean())\n",
        "print(\"Max value is: \",arr2.max())\n",
        "print(\"Min value is: \",arr2.min())"
      ],
      "execution_count": 0,
      "outputs": [
        {
          "output_type": "stream",
          "text": [
            "Mean value is:  3.5833333333333335\n",
            "Max value is:  8.0\n",
            "Min value is:  -1.0\n"
          ],
          "name": "stdout"
        }
      ]
    },
    {
      "cell_type": "code",
      "metadata": {
        "id": "zG6gtfH8OCtM",
        "colab_type": "code",
        "outputId": "74b44946-cf06-4bfb-92d9-0a9fabbad0ef",
        "colab": {
          "base_uri": "https://localhost:8080/"
        }
      },
      "source": [
        "#求数组行和列的最小值\n",
        "#axis=0表示列，1表示行\n",
        "print(\"Column wiser minimum: \",np.amin(arr2,axis=0))\n",
        "print(\"Row wiser minimum: \",np.amin(arr2,axis=1))"
      ],
      "execution_count": 0,
      "outputs": [
        {
          "output_type": "stream",
          "text": [
            "Column wiser minimum:  [ 1. -1. -1.  4.]\n",
            "Row wiser minimum:  [ 1. -1.  5.]\n"
          ],
          "name": "stdout"
        }
      ]
    },
    {
      "cell_type": "code",
      "metadata": {
        "id": "W1icuh7RQQqD",
        "colab_type": "code",
        "outputId": "d39c0de1-2091-4826-bb31-70a1367d9b63",
        "colab": {
          "base_uri": "https://localhost:8080/"
        }
      },
      "source": [
        "#对数组元素进行累加，得到一维数组，一维数组的大小与二维数组相同\n",
        "np.cumsum(arr2)"
      ],
      "execution_count": 0,
      "outputs": [
        {
          "output_type": "execute_result",
          "data": {
            "text/plain": [
              "array([ 1.,  3.,  6., 10., 13., 12., 11., 17., 22., 28., 35., 43.])"
            ]
          },
          "metadata": {
            "tags": []
          },
          "execution_count": 19
        }
      ]
    },
    {
      "cell_type": "markdown",
      "metadata": {
        "id": "tOAUTJCKQlEA",
        "colab_type": "text"
      },
      "source": [
        "## 4.如何从现有的数组定义新数组"
      ]
    },
    {
      "cell_type": "markdown",
      "metadata": {
        "id": "SXQgSf-fQzb2",
        "colab_type": "text"
      },
      "source": [
        "如果使用赋值运算符从父数组定义新数组，新数组与父数组公用一个存储空间，如果改变新数组的值，父数组也相应的改变，为了让新数组与父数组相互独立，需要使用copy函数，所有的父数组都使用copy（）方法构建新数组。"
      ]
    },
    {
      "cell_type": "code",
      "metadata": {
        "id": "8u3peZy1Qxf-",
        "colab_type": "code",
        "outputId": "7a024863-62d7-4632-cfc5-00c9438dc876",
        "colab": {
          "base_uri": "https://localhost:8080/",
          "height": 71
        }
      },
      "source": [
        "#分配arr2数组给新数组arr2a，下面的方法没有定义新数组\n",
        "arr2a = arr2[:2,:2]\n",
        "arr2a[1,1] = 100#arr2相应位置也改变了\n",
        "arr2"
      ],
      "execution_count": 0,
      "outputs": [
        {
          "output_type": "execute_result",
          "data": {
            "text/plain": [
              "array([[  1.,   2.,   3.,   4.],\n",
              "       [  3., 100.,  -1.,   6.],\n",
              "       [  5.,   6.,   7.,   8.]])"
            ]
          },
          "metadata": {
            "tags": []
          },
          "execution_count": 20
        }
      ]
    },
    {
      "cell_type": "code",
      "metadata": {
        "id": "qmU4LvgrSJnz",
        "colab_type": "code",
        "outputId": "cd6b22f5-e42b-4da1-a4e6-97799615cb48",
        "colab": {
          "base_uri": "https://localhost:8080/",
          "height": 71
        }
      },
      "source": [
        "#赋值arr2数组的一部分给新数组arr2b\n",
        "arr2b = arr2[:2,:2].copy()\n",
        "arr2b[1,1] = 101#arr2没有改变\n",
        "arr2"
      ],
      "execution_count": 0,
      "outputs": [
        {
          "output_type": "execute_result",
          "data": {
            "text/plain": [
              "array([[  1.,   2.,   3.,   4.],\n",
              "       [  3., 100.,  -1.,   6.],\n",
              "       [  5.,   6.,   7.,   8.]])"
            ]
          },
          "metadata": {
            "tags": []
          },
          "execution_count": 21
        }
      ]
    },
    {
      "cell_type": "markdown",
      "metadata": {
        "id": "LevVYUwASu71",
        "colab_type": "text"
      },
      "source": [
        "## 5.多维数组的重构(reshaping)与扁平(flattening)"
      ]
    },
    {
      "cell_type": "markdown",
      "metadata": {
        "id": "gYNJ8KOMS9Gi",
        "colab_type": "text"
      },
      "source": [
        "重构是为了改变数组项的排列，即改变数组的形状，未改变数组的维数。\n",
        "扁平是对多维数组转化为一维数组。"
      ]
    },
    {
      "cell_type": "code",
      "metadata": {
        "id": "_jkCawAfTX45",
        "colab_type": "code",
        "outputId": "f67b026a-8f74-4d4b-c469-c6ed4d547978",
        "colab": {
          "base_uri": "https://localhost:8080/",
          "height": 89
        }
      },
      "source": [
        "#3x4数组重构为4x3数组\n",
        "arr2.reshape(4,3)"
      ],
      "execution_count": 0,
      "outputs": [
        {
          "output_type": "execute_result",
          "data": {
            "text/plain": [
              "array([[  1.,   2.,   3.],\n",
              "       [  4.,   3., 100.],\n",
              "       [ -1.,   6.,   5.],\n",
              "       [  6.,   7.,   8.]])"
            ]
          },
          "metadata": {
            "tags": []
          },
          "execution_count": 22
        }
      ]
    },
    {
      "cell_type": "code",
      "metadata": {
        "id": "OirO1IjfHs1c",
        "colab_type": "code",
        "outputId": "ae2170d7-a951-4af3-de30-fd378bb95640",
        "colab": {
          "base_uri": "https://localhost:8080/",
          "height": 91
        }
      },
      "source": [
        "arr2.flatten()"
      ],
      "execution_count": 0,
      "outputs": [
        {
          "output_type": "execute_result",
          "data": {
            "text/plain": [
              "array([  1.,   2.,   3.,   4.,   3., 100.,  -1.,   6.,   5.,   6.,   7.,\n",
              "         8.])"
            ]
          },
          "metadata": {
            "tags": []
          },
          "execution_count": 24
        },
        {
          "output_type": "execute_result",
          "data": {
            "text/plain": [
              "array([  1.,   2.,   3.,   4.,   3., 100.,  -1.,   6.,   5.,   6.,   7.,\n",
              "         8.])"
            ]
          },
          "metadata": {
            "tags": []
          },
          "execution_count": 25
        }
      ]
    },
    {
      "cell_type": "code",
      "metadata": {
        "id": "-ULU0Q36IVqa",
        "colab_type": "code",
        "outputId": "71e445d1-a4d9-4271-bb30-e140b0edca2a",
        "colab": {
          "base_uri": "https://localhost:8080/",
          "height": 71
        }
      },
      "source": [
        "#flatten处理后的数组是父数组的引用，因此新数组的任何改变都会影响父数组\n",
        "b1 = arr2.flatten()\n",
        "b1[0] = 100#改变b1的值并未影响arr2\n",
        "arr2"
      ],
      "execution_count": 0,
      "outputs": [
        {
          "output_type": "execute_result",
          "data": {
            "text/plain": [
              "array([[  1.,   2.,   3.,   4.],\n",
              "       [  3., 100.,  -1.,   6.],\n",
              "       [  5.,   6.,   7.,   8.]])"
            ]
          },
          "metadata": {
            "tags": []
          },
          "execution_count": 26
        }
      ]
    },
    {
      "cell_type": "code",
      "metadata": {
        "id": "R3_P2clxJXwR",
        "colab_type": "code",
        "outputId": "ac067b80-3447-4cf1-da0e-4573ae9ee602",
        "colab": {
          "base_uri": "https://localhost:8080/",
          "height": 71
        }
      },
      "source": [
        "#ravel使用复制的方式构建新数组\n",
        "b2 = arr2.ravel()\n",
        "b2[0] = 101#改变b2的值，相应改变了arr2的值\n",
        "arr2"
      ],
      "execution_count": 0,
      "outputs": [
        {
          "output_type": "execute_result",
          "data": {
            "text/plain": [
              "array([[101.,   2.,   3.,   4.],\n",
              "       [  3., 100.,  -1.,   6.],\n",
              "       [  5.,   6.,   7.,   8.]])"
            ]
          },
          "metadata": {
            "tags": []
          },
          "execution_count": 28
        }
      ]
    },
    {
      "cell_type": "markdown",
      "metadata": {
        "id": "as_YqOKHJ66q",
        "colab_type": "text"
      },
      "source": [
        "## 6.如何numpy生成序列数，重复数和随机数"
      ]
    },
    {
      "cell_type": "markdown",
      "metadata": {
        "id": "4EQDsWzIKWc5",
        "colab_type": "text"
      },
      "source": [
        "np.arange()函数手动生成指定数目的随机数"
      ]
    },
    {
      "cell_type": "code",
      "metadata": {
        "id": "k1EZcifcKgS-",
        "colab_type": "code",
        "outputId": "6fb3bc55-5cdb-4091-cb17-2cc5cffb0bd1",
        "colab": {
          "base_uri": "https://localhost:8080/",
          "height": 89
        }
      },
      "source": [
        "#默认下限为0\n",
        "print(np.arange(5))\n",
        "\n",
        "#0 to 9,默认步数为1\n",
        "print(np.arange(0,10))\n",
        "\n",
        "#递增步数为2\n",
        "print(np.arange(0,10,2))\n",
        "\n",
        "#降序\n",
        "print(np.arange(10,0,-1))"
      ],
      "execution_count": 0,
      "outputs": [
        {
          "output_type": "stream",
          "text": [
            "[0 1 2 3 4]\n",
            "[0 1 2 3 4 5 6 7 8 9]\n",
            "[0 2 4 6 8]\n",
            "[10  9  8  7  6  5  4  3  2  1]\n"
          ],
          "name": "stdout"
        }
      ]
    },
    {
      "cell_type": "markdown",
      "metadata": {
        "id": "YnxXfxnbMcea",
        "colab_type": "text"
      },
      "source": [
        "上述是通过设置初始位置和结束位置来生成序列数，如果我们设置数组的元素个数，那么可以自动计算数组递增值。"
      ]
    },
    {
      "cell_type": "code",
      "metadata": {
        "id": "d41_ewkbNJV2",
        "colab_type": "code",
        "outputId": "b2ab0d5a-1e30-4717-a17f-bd542133d70d",
        "colab": {
          "base_uri": "https://localhost:8080/",
          "height": 35
        }
      },
      "source": [
        "np.linspace(start=1,stop=50,num=10,dtype=int)"
      ],
      "execution_count": 0,
      "outputs": [
        {
          "output_type": "execute_result",
          "data": {
            "text/plain": [
              "array([ 1,  6, 11, 17, 22, 28, 33, 39, 44, 50])"
            ]
          },
          "metadata": {
            "tags": []
          },
          "execution_count": 30
        }
      ]
    },
    {
      "cell_type": "markdown",
      "metadata": {
        "id": "VHICLTe0NxHS",
        "colab_type": "text"
      },
      "source": [
        "上面例子的递增值并不相同，有5，6值，原因是递增值采用了四舍五入的算法，np.logspace以对数的方式增长"
      ]
    },
    {
      "cell_type": "code",
      "metadata": {
        "id": "8XeRxUr_Nq_q",
        "colab_type": "code",
        "outputId": "d39947ae-5fd9-4b1a-c294-a97e59bd5eef",
        "colab": {
          "base_uri": "https://localhost:8080/",
          "height": 53
        }
      },
      "source": [
        "#设置数组的精度为小数点后两位\n",
        "np.set_printoptions(precision=2)\n",
        "#起点为10^1，终点为10^50，数组元素个数为10，以10为底数\n",
        "np.logspace(start=1,stop=50,num=10,base=10)"
      ],
      "execution_count": 0,
      "outputs": [
        {
          "output_type": "execute_result",
          "data": {
            "text/plain": [
              "array([1.00e+01, 2.78e+06, 7.74e+11, 2.15e+17, 5.99e+22, 1.67e+28,\n",
              "       4.64e+33, 1.29e+39, 3.59e+44, 1.00e+50])"
            ]
          },
          "metadata": {
            "tags": []
          },
          "execution_count": 31
        }
      ]
    },
    {
      "cell_type": "code",
      "metadata": {
        "id": "6WzOIKp1PGrS",
        "colab_type": "code",
        "outputId": "7c35778f-8017-4eba-f49e-dcd5589c7fea",
        "colab": {
          "base_uri": "https://localhost:8080/",
          "height": 53
        }
      },
      "source": [
        "#构建重复序列数\n",
        "#np.tile重复整个数组或列表n次，np.repeat重复数组每一项n次\n",
        "a = [1,2,3]\n",
        "#重复数组a两次\n",
        "print('title: ',np.tile(a,2))\n",
        "#重复数组a每项两次\n",
        "print('repeat: ',np.repeat(a,2))"
      ],
      "execution_count": 0,
      "outputs": [
        {
          "output_type": "stream",
          "text": [
            "title:  [1 2 3 1 2 3]\n",
            "repeat:  [1 1 2 2 3 3]\n"
          ],
          "name": "stdout"
        }
      ]
    },
    {
      "cell_type": "markdown",
      "metadata": {
        "id": "TyzBRDHKQLHw",
        "colab_type": "text"
      },
      "source": [
        "生成随机数：random模块包含的函数可以生成任一数组形状的随机数和统计分布"
      ]
    },
    {
      "cell_type": "code",
      "metadata": {
        "id": "fDy7sFtGQY4L",
        "colab_type": "code",
        "outputId": "f7c8d534-85d7-4fc5-fb28-92cfebea0630",
        "colab": {
          "base_uri": "https://localhost:8080/",
          "height": 215
        }
      },
      "source": [
        "#生成2*2的[0,1)的随机数\n",
        "print(np.random.rand(2,2))\n",
        "\n",
        "#生成均值标准正态分布的2*2的随机数\n",
        "print(np.random.randn(2,2))\n",
        "\n",
        "#生成[0,10)的2行2列的随机整数\n",
        "print(np.random.randint(0,10,size=[2,2]))\n",
        "\n",
        "#生成一个[0,1)的随机数\n",
        "print(np.random.random())\n",
        "\n",
        "#生成[0,1)2行2列的随机数\n",
        "print(np.random.random(size=[2,2]))\n",
        " \n",
        "#从给定列表等概率抽样10次\n",
        "print(np.random.choice(['a','e','i','o','u'],size=10))\n",
        "\n",
        "#从给定的列表和对应的概率分布抽样10次\n",
        "print(np.random.choice(['a','e','i','o','u'],size=10,p=[0.3,.1,.1,.4,.1]))"
      ],
      "execution_count": 0,
      "outputs": [
        {
          "output_type": "stream",
          "text": [
            "[[0.83 0.34]\n",
            " [0.55 0.88]]\n",
            "[[-0.18  1.2 ]\n",
            " [-0.47  0.63]]\n",
            "[[0 0]\n",
            " [6 9]]\n",
            "0.5028929675761946\n",
            "[[0.18 0.58]\n",
            " [0.92 0.84]]\n",
            "['a' 'i' 'o' 'o' 'a' 'i' 'u' 'u' 'a' 'o']\n",
            "['a' 'i' 'a' 'a' 'o' 'o' 'o' 'o' 'e' 'a']\n"
          ],
          "name": "stdout"
        }
      ]
    },
    {
      "cell_type": "markdown",
      "metadata": {
        "id": "To0zfWY7Tg7L",
        "colab_type": "text"
      },
      "source": [
        "得到数组独特项与个数：np.unique函数去除数组中重复的元素，设置return_counts参数为True，得到数组每一项的个数。"
      ]
    },
    {
      "cell_type": "code",
      "metadata": {
        "id": "o5wxJpKkTeBi",
        "colab_type": "code",
        "outputId": "b54c92e6-52b3-49d9-fde7-9598cbe4b398",
        "colab": {
          "base_uri": "https://localhost:8080/",
          "height": 35
        }
      },
      "source": [
        "#定义范围为[0,10)，个数为10的随机整数数组\n",
        "np.random.seed(100)\n",
        "arr_rand = np.random.randint(0,10,size=10)\n",
        "print(arr_rand)"
      ],
      "execution_count": 0,
      "outputs": [
        {
          "output_type": "stream",
          "text": [
            "[8 8 3 7 7 0 4 2 5 2]\n"
          ],
          "name": "stdout"
        }
      ]
    },
    {
      "cell_type": "code",
      "metadata": {
        "id": "9u-cEOwdUnJa",
        "colab_type": "code",
        "outputId": "f1682745-e2ef-4ee1-f8c5-c6f21d96e719",
        "colab": {
          "base_uri": "https://localhost:8080/",
          "height": 53
        }
      },
      "source": [
        "#得到数组独特的项和对应的个数\n",
        "uniqs,counts = np.unique(arr_rand,return_counts=True)\n",
        "print(\"Unique itms: \",uniqs)\n",
        "print(\"Counts \",counts)"
      ],
      "execution_count": 0,
      "outputs": [
        {
          "output_type": "stream",
          "text": [
            "Unique itms:  [0 2 3 4 5 7 8]\n",
            "Counts  [1 2 1 1 1 2 2]\n"
          ],
          "name": "stdout"
        }
      ]
    },
    {
      "cell_type": "markdown",
      "metadata": {
        "id": "xn5gAGPHWLqn",
        "colab_type": "text"
      },
      "source": [
        "## 7.如何获取满足条设条件的索引"
      ]
    },
    {
      "cell_type": "code",
      "metadata": {
        "id": "eHw2lqcrWaBW",
        "colab_type": "code",
        "outputId": "2853ecf1-4136-4787-e901-6652907d3b24",
        "colab": {
          "base_uri": "https://localhost:8080/",
          "height": 53
        }
      },
      "source": [
        "import numpy as np\n",
        "arr_rand = np.array([8,8,3,7,7,0,4,2,5,2])\n",
        "#根据数组元素是否>4，满足为True，反之为False\n",
        "b = arr_rand>4\n",
        "b"
      ],
      "execution_count": 0,
      "outputs": [
        {
          "output_type": "execute_result",
          "data": {
            "text/plain": [
              "array([ True,  True, False,  True,  True, False, False, False,  True,\n",
              "       False])"
            ]
          },
          "metadata": {
            "tags": []
          },
          "execution_count": 1
        }
      ]
    },
    {
      "cell_type": "code",
      "metadata": {
        "id": "FCAhEaMVT0w7",
        "colab_type": "code",
        "outputId": "86334ebf-d638-4c3e-9d48-e3518bfb68ef",
        "colab": {
          "base_uri": "https://localhost:8080/",
          "height": 35
        }
      },
      "source": [
        "#得到满足条件的索引，用np.where函数实现\n",
        "#定位数组大于5的索引\n",
        "index_gt5 = np.where(arr_rand>5)\n",
        "print(\"Position where value > 5: \",index_gt5)"
      ],
      "execution_count": 0,
      "outputs": [
        {
          "output_type": "stream",
          "text": [
            "Position where value > 5:  (array([0, 1, 3, 4]),)\n"
          ],
          "name": "stdout"
        }
      ]
    },
    {
      "cell_type": "markdown",
      "metadata": {
        "id": "BZtYQ7vWVk6Q",
        "colab_type": "text"
      },
      "source": [
        "np.where也可以接受另外两个可选择参数x,y。当条件满足时，输出x，反之输出y"
      ]
    },
    {
      "cell_type": "code",
      "metadata": {
        "id": "yH1_ocp1VilR",
        "colab_type": "code",
        "outputId": "852a8a73-566a-4f64-ed27-93d7adbe1d69",
        "colab": {
          "base_uri": "https://localhost:8080/",
          "height": 53
        }
      },
      "source": [
        "#如果值大于5，输出字符串'gt5'，反之输出'1e5'\n",
        "np.where(arr_rand>5,'gt5','le5')"
      ],
      "execution_count": 0,
      "outputs": [
        {
          "output_type": "execute_result",
          "data": {
            "text/plain": [
              "array(['gt5', 'gt5', 'le5', 'gt5', 'gt5', 'le5', 'le5', 'le5', 'le5',\n",
              "       'le5'], dtype='<U3')"
            ]
          },
          "metadata": {
            "tags": []
          },
          "execution_count": 3
        }
      ]
    },
    {
      "cell_type": "code",
      "metadata": {
        "id": "3Owi6oOKWQbY",
        "colab_type": "code",
        "outputId": "a9e5cecf-eb89-4db8-8926-d10fe4574e04",
        "colab": {
          "base_uri": "https://localhost:8080/",
          "height": 53
        }
      },
      "source": [
        "#np.argmax和np.argmin分别获取数组的最大值和最小值的索引\n",
        "#最大值索引\n",
        "print(\"Position of max value: \",np.argmax(arr_rand))\n",
        "\n",
        "#最小值索引\n",
        "print(\"Position of min value: \",np.argmin(arr_rand))"
      ],
      "execution_count": 0,
      "outputs": [
        {
          "output_type": "stream",
          "text": [
            "Position of max value:  0\n",
            "Position of min value:  5\n"
          ],
          "name": "stdout"
        }
      ]
    },
    {
      "cell_type": "markdown",
      "metadata": {
        "id": "7XQMnS4RaKCD",
        "colab_type": "text"
      },
      "source": [
        "## 8.将数据导入和导出csv文件"
      ]
    },
    {
      "cell_type": "code",
      "metadata": {
        "id": "Ie9W33j6a23C",
        "colab_type": "code",
        "outputId": "5b023328-4304-4424-da58-486a8d7a4299",
        "colab": {
          "base_uri": "https://localhost:8080/",
          "height": 125
        }
      },
      "source": [
        "#关闭数字的科学表示法\n",
        "np.set_printoptions(suppress=True)\n",
        "#从url的csv文件导入数据\n",
        "path = 'https://raw.githubusercontent.com/selva86/datasets/master/Auto.csv'\n",
        "#delimiter:分隔符，skip_header:从多少行开始读数据，以0开始，filling_values:缺失值表示，dtype：数据类型\n",
        "data = np.genfromtxt(path,delimiter=',',skip_header=1,filling_values=-999,dtype='float')\n",
        "data[:3]#显示前3行数据"
      ],
      "execution_count": 0,
      "outputs": [
        {
          "output_type": "execute_result",
          "data": {
            "text/plain": [
              "array([[  18. ,    8. ,  307. ,  130. , 3504. ,   12. ,   70. ,    1. ,\n",
              "        -999. ],\n",
              "       [  15. ,    8. ,  350. ,  165. , 3693. ,   11.5,   70. ,    1. ,\n",
              "        -999. ],\n",
              "       [  18. ,    8. ,  318. ,  150. , 3436. ,   11. ,   70. ,    1. ,\n",
              "        -999. ]])"
            ]
          },
          "metadata": {
            "tags": []
          },
          "execution_count": 5
        }
      ]
    },
    {
      "cell_type": "code",
      "metadata": {
        "id": "Qyj7yxfKc0Dj",
        "colab_type": "code",
        "outputId": "2e6e075f-b6bb-4044-f5a4-f349c4aa4c4e",
        "colab": {
          "base_uri": "https://localhost:8080/",
          "height": 145
        }
      },
      "source": [
        "#若设置参数dtype为'object'或'None',np.genformtxt在未设置占位的情况下能同时处理具有数字和文本的数据集\n",
        "data2 = np.genfromtxt(path,delimiter=',',skip_header=1,dtype=None)\n",
        "data2[:3]"
      ],
      "execution_count": 0,
      "outputs": [
        {
          "output_type": "stream",
          "text": [
            "/usr/local/lib/python3.6/dist-packages/ipykernel_launcher.py:1: VisibleDeprecationWarning: Reading unicode strings without specifying the encoding argument is deprecated. Set the encoding, use None for the system default.\n",
            "  \"\"\"Entry point for launching an IPython kernel.\n"
          ],
          "name": "stderr"
        },
        {
          "output_type": "execute_result",
          "data": {
            "text/plain": [
              "array([(18., 8, 307., 130, 3504, 12. , 70, 1, b'\"chevrolet chevelle malibu\"'),\n",
              "       (15., 8, 350., 165, 3693, 11.5, 70, 1, b'\"buick skylark 320\"'),\n",
              "       (18., 8, 318., 150, 3436, 11. , 70, 1, b'\"plymouth satellite\"')],\n",
              "      dtype=[('f0', '<f8'), ('f1', '<i8'), ('f2', '<f8'), ('f3', '<i8'), ('f4', '<i8'), ('f5', '<f8'), ('f6', '<i8'), ('f7', '<i8'), ('f8', 'S38')])"
            ]
          },
          "metadata": {
            "tags": []
          },
          "execution_count": 6
        }
      ]
    },
    {
      "cell_type": "code",
      "metadata": {
        "id": "LSfoHGHxdnwo",
        "colab_type": "code",
        "colab": {}
      },
      "source": [
        "#保存数据为csv文件\n",
        "np.savetxt(\"out.csv\",data,delimiter=',')"
      ],
      "execution_count": 0,
      "outputs": []
    },
    {
      "cell_type": "markdown",
      "metadata": {
        "id": "UqhpbKzqeHRT",
        "colab_type": "text"
      },
      "source": [
        "## 9.如何保存和加载numpy数据"
      ]
    },
    {
      "cell_type": "markdown",
      "metadata": {
        "id": "bKpkNe6BeVTB",
        "colab_type": "text"
      },
      "source": [
        "Numpy提供了.npy和.npz文件类型来实现。如果保存一个ndarry数据，使用np.save保存为.npy;若保存多个ndarry数据，使用np.savez保存为.npz文件。加载numpy数据，统一使用np.load函数"
      ]
    },
    {
      "cell_type": "code",
      "metadata": {
        "id": "BQFJfcd4eSna",
        "colab_type": "code",
        "outputId": "736dbc48-e85c-4634-ce0d-1357992c4d26",
        "colab": {
          "base_uri": "https://localhost:8080/",
          "height": 35
        }
      },
      "source": [
        "#保存单一的numpy数据，使用.npy文件\n",
        "arr2d = np.array([0,1,2])\n",
        "np.save('myarray.npy',arr2d)\n",
        "#保存多个numpy数据，使用.npz文件\n",
        "arr2d_f = np.arange(5)\n",
        "arr2d_b = np.arange(0,10,2)\n",
        "np.savez('array.npz',arr2d_f,arr2d_b)\n",
        "#加载.npz文件\n",
        "a = np.load('myarray.npy')\n",
        "print(a)"
      ],
      "execution_count": 0,
      "outputs": [
        {
          "output_type": "stream",
          "text": [
            "[0 1 2]\n"
          ],
          "name": "stdout"
        }
      ]
    },
    {
      "cell_type": "code",
      "metadata": {
        "id": "VSggAH42hRy8",
        "colab_type": "code",
        "outputId": "990410cb-bb06-4b9a-cf8b-dd63577bfedd",
        "colab": {
          "base_uri": "https://localhost:8080/",
          "height": 53
        }
      },
      "source": [
        "#加载.npz文件\n",
        "b = np.load('array.npz')\n",
        "print(b.files)#打印文件列表\n",
        "b['arr_0']#打印文件中元素"
      ],
      "execution_count": 0,
      "outputs": [
        {
          "output_type": "stream",
          "text": [
            "['arr_0', 'arr_1']\n"
          ],
          "name": "stdout"
        },
        {
          "output_type": "execute_result",
          "data": {
            "text/plain": [
              "array([0, 1, 2, 3, 4])"
            ]
          },
          "metadata": {
            "tags": []
          },
          "execution_count": 14
        }
      ]
    },
    {
      "cell_type": "markdown",
      "metadata": {
        "id": "EaFFP0QSiICy",
        "colab_type": "text"
      },
      "source": [
        "## 10.如何按列或行拼接numpy数组"
      ]
    },
    {
      "cell_type": "markdown",
      "metadata": {
        "id": "uxtgQ2wQig0g",
        "colab_type": "text"
      },
      "source": [
        "1.设置np.concatenate参数axis的值为1或0，实现数组的列拼接或行拼接\n",
        "\n",
        "2.np.vstack和np.hstack\n",
        "\n",
        "3.np_r和np.c"
      ]
    },
    {
      "cell_type": "code",
      "metadata": {
        "id": "Mnl2030qjLMR",
        "colab_type": "code",
        "outputId": "863ac621-3bac-4e5d-f444-29917f6ba7ad",
        "colab": {
          "base_uri": "https://localhost:8080/",
          "height": 161
        }
      },
      "source": [
        "#定义两个拼接的数组\n",
        "a = np.zeros([4,4])\n",
        "b = np.ones([4,4])\n",
        "print(a)\n",
        "print(b)"
      ],
      "execution_count": 0,
      "outputs": [
        {
          "output_type": "stream",
          "text": [
            "[[0. 0. 0. 0.]\n",
            " [0. 0. 0. 0.]\n",
            " [0. 0. 0. 0.]\n",
            " [0. 0. 0. 0.]]\n",
            "[[1. 1. 1. 1.]\n",
            " [1. 1. 1. 1.]\n",
            " [1. 1. 1. 1.]\n",
            " [1. 1. 1. 1.]]\n"
          ],
          "name": "stdout"
        }
      ]
    },
    {
      "cell_type": "code",
      "metadata": {
        "id": "2-08O1ERiUH7",
        "colab_type": "code",
        "outputId": "07282fd5-dab1-4472-ceba-e00606d17e87",
        "colab": {
          "base_uri": "https://localhost:8080/",
          "height": 161
        }
      },
      "source": [
        "#行拼接数组\n",
        "np.concatenate([a,b],axis=0)\n",
        "np.vstack([a,b])\n",
        "np.r_[a,b]"
      ],
      "execution_count": 0,
      "outputs": [
        {
          "output_type": "execute_result",
          "data": {
            "text/plain": [
              "array([[0., 0., 0., 0.],\n",
              "       [0., 0., 0., 0.],\n",
              "       [0., 0., 0., 0.],\n",
              "       [0., 0., 0., 0.],\n",
              "       [1., 1., 1., 1.],\n",
              "       [1., 1., 1., 1.],\n",
              "       [1., 1., 1., 1.],\n",
              "       [1., 1., 1., 1.]])"
            ]
          },
          "metadata": {
            "tags": []
          },
          "execution_count": 16
        }
      ]
    },
    {
      "cell_type": "code",
      "metadata": {
        "id": "M9zJHuhkk_JS",
        "colab_type": "code",
        "outputId": "a02ae90a-3a33-4c99-f1c7-115e30a8cf6d",
        "colab": {
          "base_uri": "https://localhost:8080/",
          "height": 89
        }
      },
      "source": [
        "#列拼接数组\n",
        "np.concatenate([a,b],axis=1)\n",
        "np.hstack([a,b])\n",
        "np.c_[a,b]"
      ],
      "execution_count": 0,
      "outputs": [
        {
          "output_type": "execute_result",
          "data": {
            "text/plain": [
              "array([[0., 0., 0., 0., 1., 1., 1., 1.],\n",
              "       [0., 0., 0., 0., 1., 1., 1., 1.],\n",
              "       [0., 0., 0., 0., 1., 1., 1., 1.],\n",
              "       [0., 0., 0., 0., 1., 1., 1., 1.]])"
            ]
          },
          "metadata": {
            "tags": []
          },
          "execution_count": 17
        }
      ]
    },
    {
      "cell_type": "markdown",
      "metadata": {
        "id": "I7DARpC1O0Hb",
        "colab_type": "text"
      },
      "source": [
        "## 11.如何对按列对数组排序"
      ]
    },
    {
      "cell_type": "code",
      "metadata": {
        "id": "7M8BakkVO9sA",
        "colab_type": "code",
        "outputId": "e7330a54-5164-4e06-8b83-b118a98b7f26",
        "colab": {
          "base_uri": "https://localhost:8080/",
          "height": 161
        }
      },
      "source": [
        "#生成随机矩阵\n",
        "import numpy as np\n",
        "arr = np.random.randint(1,6,size=[8,4])\n",
        "arr"
      ],
      "execution_count": 0,
      "outputs": [
        {
          "output_type": "execute_result",
          "data": {
            "text/plain": [
              "array([[2, 3, 5, 5],\n",
              "       [2, 3, 1, 2],\n",
              "       [4, 1, 1, 1],\n",
              "       [4, 2, 4, 3],\n",
              "       [4, 5, 1, 4],\n",
              "       [5, 5, 1, 3],\n",
              "       [3, 3, 2, 4],\n",
              "       [4, 1, 2, 2]])"
            ]
          },
          "metadata": {
            "tags": []
          },
          "execution_count": 2
        }
      ]
    },
    {
      "cell_type": "code",
      "metadata": {
        "id": "3V4SY09qPZH4",
        "colab_type": "code",
        "outputId": "e69dfa65-1623-48c8-dac6-14d0742a5a68",
        "colab": {
          "base_uri": "https://localhost:8080/",
          "height": 161
        }
      },
      "source": [
        "#np.sort基于列对arr排序\n",
        "#axis=0,表示列排序，1表示行排序\n",
        "np.sort(arr,axis=0)"
      ],
      "execution_count": 0,
      "outputs": [
        {
          "output_type": "execute_result",
          "data": {
            "text/plain": [
              "array([[2, 1, 1, 1],\n",
              "       [2, 1, 1, 2],\n",
              "       [3, 2, 1, 2],\n",
              "       [4, 3, 1, 3],\n",
              "       [4, 3, 2, 3],\n",
              "       [4, 3, 2, 4],\n",
              "       [4, 5, 4, 4],\n",
              "       [5, 5, 5, 5]])"
            ]
          },
          "metadata": {
            "tags": []
          },
          "execution_count": 3
        }
      ]
    },
    {
      "cell_type": "markdown",
      "metadata": {
        "id": "QWR_80ItQTxK",
        "colab_type": "text"
      },
      "source": [
        "np.sort排序函数默认所有列是相互独立的，对所有列进行排序，破坏了每行的结构，使用np.argsort函数可以保留行的完整性。"
      ]
    },
    {
      "cell_type": "code",
      "metadata": {
        "id": "8FwDCsssQRUo",
        "colab_type": "code",
        "outputId": "57d58119-b7cb-4656-f787-4e152d2bebeb",
        "colab": {
          "base_uri": "https://localhost:8080/",
          "height": 161
        }
      },
      "source": [
        "#对arr的第一列进行排序，返回索引\n",
        "sorted_index_lstcol = arr[:,0].argsort()\n",
        "#根据第一列的索引对数组排序，保留了行的完整性\n",
        "arr[sorted_index_lstcol]"
      ],
      "execution_count": 0,
      "outputs": [
        {
          "output_type": "execute_result",
          "data": {
            "text/plain": [
              "array([[2, 3, 5, 5],\n",
              "       [2, 3, 1, 2],\n",
              "       [3, 3, 2, 4],\n",
              "       [4, 1, 1, 1],\n",
              "       [4, 2, 4, 3],\n",
              "       [4, 5, 1, 4],\n",
              "       [4, 1, 2, 2],\n",
              "       [5, 5, 1, 3]])"
            ]
          },
          "metadata": {
            "tags": []
          },
          "execution_count": 4
        }
      ]
    },
    {
      "cell_type": "code",
      "metadata": {
        "id": "zLhRhIMaRYBJ",
        "colab_type": "code",
        "outputId": "b3daf616-4be8-43e4-e071-59eacbd83574",
        "colab": {
          "base_uri": "https://localhost:8080/",
          "height": 161
        }
      },
      "source": [
        "#倒转argsort索引实现递减排序\n",
        "arr[sorted_index_lstcol[::-1]]"
      ],
      "execution_count": 0,
      "outputs": [
        {
          "output_type": "execute_result",
          "data": {
            "text/plain": [
              "array([[5, 5, 1, 3],\n",
              "       [4, 1, 2, 2],\n",
              "       [4, 5, 1, 4],\n",
              "       [4, 2, 4, 3],\n",
              "       [4, 1, 1, 1],\n",
              "       [3, 3, 2, 4],\n",
              "       [2, 3, 1, 2],\n",
              "       [2, 3, 5, 5]])"
            ]
          },
          "metadata": {
            "tags": []
          },
          "execution_count": 5
        }
      ]
    },
    {
      "cell_type": "markdown",
      "metadata": {
        "id": "SZyxncErRmmJ",
        "colab_type": "text"
      },
      "source": [
        "若要基于多个列对数组排序，使用np.lexsort函数，它的参数是元组类型，元组的每个元素表示数组的某一列，排序规则是：越靠近右边的列，优先级越高。"
      ]
    },
    {
      "cell_type": "code",
      "metadata": {
        "id": "57ewUH4ESDl5",
        "colab_type": "code",
        "colab": {}
      },
      "source": [
        "#先比较第一列，第一列相同的情况下再比较第二列\n",
        "lexsorted_index = np.lexsort(arr[:,1],arr[:,0])\n",
        "arr[lexsorted_index]"
      ],
      "execution_count": 0,
      "outputs": []
    },
    {
      "cell_type": "markdown",
      "metadata": {
        "id": "TAN0b5kuSn8x",
        "colab_type": "text"
      },
      "source": [
        "## 12.如何使用Numpy处理日期"
      ]
    },
    {
      "cell_type": "markdown",
      "metadata": {
        "id": "oLH8QVclTNog",
        "colab_type": "text"
      },
      "source": [
        "np.datatime64创建日期对象，精确度达到纳秒，可以使用标准的YYYY-MM-DD格式字符串作为参数创建日期"
      ]
    },
    {
      "cell_type": "code",
      "metadata": {
        "id": "mdtRuSSHSwag",
        "colab_type": "code",
        "outputId": "2b5f4218-6f97-4383-a9d1-9e9de9dde3b9",
        "colab": {
          "base_uri": "https://localhost:8080/",
          "height": 35
        }
      },
      "source": [
        "#创建datetime64对象\n",
        "date64 = np.datetime64('2018-02-04 23:10:10')\n",
        "date64"
      ],
      "execution_count": 0,
      "outputs": [
        {
          "output_type": "execute_result",
          "data": {
            "text/plain": [
              "numpy.datetime64('2018-02-04T23:10:10')"
            ]
          },
          "metadata": {
            "tags": []
          },
          "execution_count": 6
        }
      ]
    },
    {
      "cell_type": "code",
      "metadata": {
        "id": "cQUdrNq_TjCw",
        "colab_type": "code",
        "outputId": "0c0322d4-d80f-453a-ffcc-058361678796",
        "colab": {
          "base_uri": "https://localhost:8080/",
          "height": 35
        }
      },
      "source": [
        "#从datetime64对象分离时间\n",
        "dt64 = np.datetime64(date64,'D')#将日期分离\n",
        "dt64"
      ],
      "execution_count": 0,
      "outputs": [
        {
          "output_type": "execute_result",
          "data": {
            "text/plain": [
              "numpy.datetime64('2018-02-04')"
            ]
          },
          "metadata": {
            "tags": []
          },
          "execution_count": 7
        }
      ]
    },
    {
      "cell_type": "markdown",
      "metadata": {
        "id": "MP676OvHVvDp",
        "colab_type": "text"
      },
      "source": [
        "如果想增加天数或其他任何时间单元，使用np.timedetlta函数非常方便"
      ]
    },
    {
      "cell_type": "code",
      "metadata": {
        "id": "vpc8WXS0T8UZ",
        "colab_type": "code",
        "outputId": "96647054-a4c2-4a0d-e5b0-c895fb3bf15b",
        "colab": {
          "base_uri": "https://localhost:8080/",
          "height": 89
        }
      },
      "source": [
        "#np.delta建立多个时间单元\n",
        "tenminutes = np.timedelta64(10,'m')#10分钟\n",
        "tenseconds = np.timedelta64(10,'s')#10秒钟\n",
        "tennanoseconds = np.timedelta64(10,'ns')#10纳秒\n",
        "\n",
        "print('Add 10 days: ',dt64+10)#增加10t天\n",
        "print(\"Add 10 minutes: \",dt64+tenminutes)#增加10分钟\n",
        "print(\"Add 10 seconds: \",dt64+tenseconds)#增加10秒\n",
        "print(\"Add 10 nanoseconds: \",dt64+tennanoseconds)#增加10纳秒"
      ],
      "execution_count": 0,
      "outputs": [
        {
          "output_type": "stream",
          "text": [
            "Add 10 days:  2018-02-14\n",
            "Add 10 minutes:  2018-02-04T00:10\n",
            "Add 10 seconds:  2018-02-04T00:00:10\n",
            "Add 10 nanoseconds:  2018-02-04T00:00:00.000000010\n"
          ],
          "name": "stdout"
        }
      ]
    },
    {
      "cell_type": "code",
      "metadata": {
        "id": "4sN2wATOalWz",
        "colab_type": "code",
        "outputId": "7749f808-ff1f-48b7-c636-21ca50979678",
        "colab": {
          "base_uri": "https://localhost:8080/",
          "height": 35
        }
      },
      "source": [
        "#dt64转化为字符串\n",
        "np.datetime_as_string(dt64)"
      ],
      "execution_count": 0,
      "outputs": [
        {
          "output_type": "execute_result",
          "data": {
            "text/plain": [
              "'2018-02-04'"
            ]
          },
          "metadata": {
            "tags": []
          },
          "execution_count": 9
        }
      ]
    },
    {
      "cell_type": "code",
      "metadata": {
        "id": "JYQ3l09Pa3ha",
        "colab_type": "code",
        "outputId": "fa4f4ae6-9d5a-463f-a033-ba6b2a75b690",
        "colab": {
          "base_uri": "https://localhost:8080/",
          "height": 53
        }
      },
      "source": [
        "#np.is_busyday函数判断是否为工作日，工作日默认为周一到周日\n",
        "print(\"Date: \",dt64)\n",
        "print(\"Is it a business day?: \",np.is_busday(dt64))"
      ],
      "execution_count": 0,
      "outputs": [
        {
          "output_type": "stream",
          "text": [
            "Date:  2018-02-04\n",
            "Is it a business day?:  False\n"
          ],
          "name": "stdout"
        }
      ]
    },
    {
      "cell_type": "code",
      "metadata": {
        "id": "3n-oI1J4bwda",
        "colab_type": "code",
        "outputId": "307001ac-d483-4f45-83cb-3b7cd5f07352",
        "colab": {
          "base_uri": "https://localhost:8080/",
          "height": 71
        }
      },
      "source": [
        "#创建日期序列\n",
        "dates = np.arange(np.datetime64('2018-02-01'),np.datetime64('2018-02-10'))\n",
        "print(dates)\n",
        "#检查是否是工作日\n",
        "np.is_busday(dates)"
      ],
      "execution_count": 0,
      "outputs": [
        {
          "output_type": "stream",
          "text": [
            "['2018-02-01' '2018-02-02' '2018-02-03' '2018-02-04' '2018-02-05'\n",
            " '2018-02-06' '2018-02-07' '2018-02-08' '2018-02-09']\n"
          ],
          "name": "stdout"
        },
        {
          "output_type": "execute_result",
          "data": {
            "text/plain": [
              "array([ True,  True, False, False,  True,  True,  True,  True,  True])"
            ]
          },
          "metadata": {
            "tags": []
          },
          "execution_count": 11
        }
      ]
    },
    {
      "cell_type": "code",
      "metadata": {
        "id": "OkLDEViXcr7x",
        "colab_type": "code",
        "outputId": "bc7b420a-8b63-40e7-a13d-d9c7926582b6",
        "colab": {
          "base_uri": "https://localhost:8080/",
          "height": 35
        }
      },
      "source": [
        "#np.datetime64类型转化为datetime.datetime类型\n",
        "import datetime\n",
        "dt = dt64.tolist()\n",
        "dt"
      ],
      "execution_count": 0,
      "outputs": [
        {
          "output_type": "execute_result",
          "data": {
            "text/plain": [
              "datetime.date(2018, 2, 4)"
            ]
          },
          "metadata": {
            "tags": []
          },
          "execution_count": 12
        }
      ]
    },
    {
      "cell_type": "code",
      "metadata": {
        "id": "RelCQ-C3dmP4",
        "colab_type": "code",
        "outputId": "d4838567-964a-48c6-84a8-b44b92ef1d34",
        "colab": {
          "base_uri": "https://localhost:8080/",
          "height": 89
        }
      },
      "source": [
        "#获取datetime对象的年月日非常简便\n",
        "print('Year: ',dt.year)\n",
        "print('Day of month: ',dt.day)\n",
        "print('Month of year: ',dt.month)\n",
        "print('Day of week: ',dt.weekday())"
      ],
      "execution_count": 0,
      "outputs": [
        {
          "output_type": "stream",
          "text": [
            "Year:  2018\n",
            "Day of month:  4\n",
            "Month of year:  2\n",
            "Day of week:  6\n"
          ],
          "name": "stdout"
        }
      ]
    },
    {
      "cell_type": "markdown",
      "metadata": {
        "id": "QUfSKfh2e4e_",
        "colab_type": "text"
      },
      "source": [
        "## 13.高阶numpy函数介绍"
      ]
    },
    {
      "cell_type": "code",
      "metadata": {
        "id": "zfn56L3ifCC5",
        "colab_type": "code",
        "outputId": "e443e5c8-cc9f-444b-ce51-bc02ebd2a38e",
        "colab": {
          "base_uri": "https://localhost:8080/",
          "height": 53
        }
      },
      "source": [
        "#标量函数只能处理标量，不能处理数组\n",
        "#定义标量函数\n",
        "def foo(x):\n",
        "    if x%2 == 1:\n",
        "        return x**2\n",
        "    else:\n",
        "        return x/2\n",
        "print('x = 10 return ',foo(10))\n",
        "print('x = 11 return ',foo(11))\n",
        "#函数不能处理数组\n",
        "#print(foo([10,11,12]))错误"
      ],
      "execution_count": 0,
      "outputs": [
        {
          "output_type": "stream",
          "text": [
            "x = 10 return  5.0\n",
            "x = 11 return  121\n"
          ],
          "name": "stdout"
        }
      ]
    },
    {
      "cell_type": "markdown",
      "metadata": {
        "id": "oDs4btB1gV3z",
        "colab_type": "text"
      },
      "source": [
        "np.vectorize使标量函数也能处理数组，可选otype为输出的类型"
      ]
    },
    {
      "cell_type": "code",
      "metadata": {
        "id": "egcKaUMzgTgz",
        "colab_type": "code",
        "outputId": "26a0f8cd-580b-44eb-e379-872a1105cc30",
        "colab": {
          "base_uri": "https://localhost:8080/",
          "height": 71
        }
      },
      "source": [
        "#函数向量化，向量化的输出类型是float\n",
        "foo_v = np.vectorize(foo,otypes=[float])\n",
        "print('x = [10,11,12] returns ',foo_v([10,11,12]))\n",
        "print('x = [[10,11,12],[1,2,3]] returns ',foo_v([[10,11,12],[1,2,3]]))"
      ],
      "execution_count": 0,
      "outputs": [
        {
          "output_type": "stream",
          "text": [
            "x = [10,11,12] returns  [  5. 121.   6.]\n",
            "x = [[10,11,12],[1,2,3]] returns  [[  5. 121.   6.]\n",
            " [  1.   1.   9.]]\n"
          ],
          "name": "stdout"
        }
      ]
    },
    {
      "cell_type": "markdown",
      "metadata": {
        "id": "o958vmcxknbp",
        "colab_type": "text"
      },
      "source": [
        "如果要找数组每行或每列的最大值，numpy的一个特点是基于向量化操作的，因此我们可以使用np.apply_along_axis函数找每行或每列的最大值。"
      ]
    },
    {
      "cell_type": "code",
      "metadata": {
        "id": "IyCas5inlaG7",
        "colab_type": "code",
        "outputId": "d86b144f-4a8d-4566-ce9b-6143cbb0657c",
        "colab": {
          "base_uri": "https://localhost:8080/",
          "height": 89
        }
      },
      "source": [
        "#定义一个4*10的随机二维数组\n",
        "np.random.seed(100)\n",
        "arr_x = np.random.randint(1,10,size=[4,10])\n",
        "arr_x"
      ],
      "execution_count": 0,
      "outputs": [
        {
          "output_type": "execute_result",
          "data": {
            "text/plain": [
              "array([[9, 9, 4, 8, 8, 1, 5, 3, 6, 3],\n",
              "       [3, 3, 2, 1, 9, 5, 1, 7, 3, 5],\n",
              "       [2, 6, 4, 5, 5, 4, 8, 2, 2, 8],\n",
              "       [8, 1, 3, 4, 3, 6, 9, 2, 1, 8]])"
            ]
          },
          "metadata": {
            "tags": []
          },
          "execution_count": 16
        }
      ]
    },
    {
      "cell_type": "code",
      "metadata": {
        "id": "Mgk072Fli8cF",
        "colab_type": "code",
        "outputId": "dc32462b-5d21-4e75-a89b-57aec7ba8e4f",
        "colab": {
          "base_uri": "https://localhost:8080/",
          "height": 53
        }
      },
      "source": [
        "#基于列操作，找每列的最大值\n",
        "print(\"max of per column: \",np.apply_along_axis(np.max,0,arr=arr_x))\n",
        "#基于行操作，找每行的最大值\n",
        "print('max of per row: ',np.apply_along_axis(np.max,1,arr=arr_x))"
      ],
      "execution_count": 0,
      "outputs": [
        {
          "output_type": "stream",
          "text": [
            "max of per column:  [9 9 4 8 9 6 9 7 6 8]\n",
            "max of per row:  [9 9 8 9]\n"
          ],
          "name": "stdout"
        }
      ]
    },
    {
      "cell_type": "markdown",
      "metadata": {
        "id": "XrSN-gfvn5pI",
        "colab_type": "text"
      },
      "source": [
        "np.clip函数将数字限制在给定的截止范围，所有小于范围下限的数被当成下限值，大于范围上限的数被当成上限值。"
      ]
    },
    {
      "cell_type": "code",
      "metadata": {
        "id": "3VFgGzFyoSbx",
        "colab_type": "code",
        "outputId": "9d06151a-cbb2-4e82-ecab-3b18bf9d3601",
        "colab": {
          "base_uri": "https://localhost:8080/",
          "height": 35
        }
      },
      "source": [
        "#限制x的所有元素位于3和8之间\n",
        "x = np.arange(10)\n",
        "np.clip(x,3,8)"
      ],
      "execution_count": 0,
      "outputs": [
        {
          "output_type": "execute_result",
          "data": {
            "text/plain": [
              "array([3, 3, 3, 3, 4, 5, 6, 7, 8, 8])"
            ]
          },
          "metadata": {
            "tags": []
          },
          "execution_count": 20
        }
      ]
    },
    {
      "cell_type": "markdown",
      "metadata": {
        "id": "R3Wn9gVaorQC",
        "colab_type": "text"
      },
      "source": [
        "np.bincount函数统计从最小值到最大值的个数，最小值为0"
      ]
    },
    {
      "cell_type": "code",
      "metadata": {
        "id": "0PstnTO_oolh",
        "colab_type": "code",
        "outputId": "f54281bb-0dae-41f7-d54c-f255dc758fef",
        "colab": {
          "base_uri": "https://localhost:8080/",
          "height": 35
        }
      },
      "source": [
        "x = np.array([1,1,2,3,2,4,4,5,6,6,6])\n",
        "np.bincount(x)#计算出各个值出现的频数，0->0,1->2,2->2,3->1..."
      ],
      "execution_count": 0,
      "outputs": [
        {
          "output_type": "execute_result",
          "data": {
            "text/plain": [
              "array([0, 2, 2, 1, 2, 1, 3])"
            ]
          },
          "metadata": {
            "tags": []
          },
          "execution_count": 21
        }
      ]
    },
    {
      "cell_type": "markdown",
      "metadata": {
        "id": "D_LSs9t6pzzy",
        "colab_type": "text"
      },
      "source": [
        "np.histogram函数统计数据落入bins的区间，不考虑bins两侧的区间"
      ]
    },
    {
      "cell_type": "code",
      "metadata": {
        "id": "vl2Fxr65pzJg",
        "colab_type": "code",
        "outputId": "d5d12d54-3357-4cd2-a96f-4327a25da790",
        "colab": {
          "base_uri": "https://localhost:8080/",
          "height": 53
        }
      },
      "source": [
        "x = np.array([1,1,2,3,2,4,4,5,6,6,6])\n",
        "counts,bins = np.histogram(x,[0,2,4,6,8])\n",
        "print('Counts: ',counts)\n",
        "print('Bins: ',bins)"
      ],
      "execution_count": 0,
      "outputs": [
        {
          "output_type": "stream",
          "text": [
            "Counts:  [2 3 3 3]\n",
            "Bins:  [0 2 4 6 8]\n"
          ],
          "name": "stdout"
        }
      ]
    }
  ]
}